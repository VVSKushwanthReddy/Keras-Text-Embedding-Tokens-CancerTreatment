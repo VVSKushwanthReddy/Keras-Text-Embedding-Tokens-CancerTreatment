{
 "cells": [
  {
   "cell_type": "code",
   "execution_count": null,
   "metadata": {},
   "outputs": [],
   "source": []
  },
  {
   "cell_type": "code",
   "execution_count": 1,
   "metadata": {},
   "outputs": [
    {
     "name": "stderr",
     "output_type": "stream",
     "text": [
      "Using TensorFlow backend.\n",
      "D:\\Users\\kpannegatla\\AppData\\Local\\Continuum\\anaconda3\\envs\\tf\\lib\\site-packages\\tensorflow\\python\\framework\\dtypes.py:516: FutureWarning: Passing (type, 1) or '1type' as a synonym of type is deprecated; in a future version of numpy, it will be understood as (type, (1,)) / '(1,)type'.\n",
      "  _np_qint8 = np.dtype([(\"qint8\", np.int8, 1)])\n",
      "D:\\Users\\kpannegatla\\AppData\\Local\\Continuum\\anaconda3\\envs\\tf\\lib\\site-packages\\tensorflow\\python\\framework\\dtypes.py:517: FutureWarning: Passing (type, 1) or '1type' as a synonym of type is deprecated; in a future version of numpy, it will be understood as (type, (1,)) / '(1,)type'.\n",
      "  _np_quint8 = np.dtype([(\"quint8\", np.uint8, 1)])\n",
      "D:\\Users\\kpannegatla\\AppData\\Local\\Continuum\\anaconda3\\envs\\tf\\lib\\site-packages\\tensorflow\\python\\framework\\dtypes.py:518: FutureWarning: Passing (type, 1) or '1type' as a synonym of type is deprecated; in a future version of numpy, it will be understood as (type, (1,)) / '(1,)type'.\n",
      "  _np_qint16 = np.dtype([(\"qint16\", np.int16, 1)])\n",
      "D:\\Users\\kpannegatla\\AppData\\Local\\Continuum\\anaconda3\\envs\\tf\\lib\\site-packages\\tensorflow\\python\\framework\\dtypes.py:519: FutureWarning: Passing (type, 1) or '1type' as a synonym of type is deprecated; in a future version of numpy, it will be understood as (type, (1,)) / '(1,)type'.\n",
      "  _np_quint16 = np.dtype([(\"quint16\", np.uint16, 1)])\n",
      "D:\\Users\\kpannegatla\\AppData\\Local\\Continuum\\anaconda3\\envs\\tf\\lib\\site-packages\\tensorflow\\python\\framework\\dtypes.py:520: FutureWarning: Passing (type, 1) or '1type' as a synonym of type is deprecated; in a future version of numpy, it will be understood as (type, (1,)) / '(1,)type'.\n",
      "  _np_qint32 = np.dtype([(\"qint32\", np.int32, 1)])\n",
      "D:\\Users\\kpannegatla\\AppData\\Local\\Continuum\\anaconda3\\envs\\tf\\lib\\site-packages\\tensorflow\\python\\framework\\dtypes.py:525: FutureWarning: Passing (type, 1) or '1type' as a synonym of type is deprecated; in a future version of numpy, it will be understood as (type, (1,)) / '(1,)type'.\n",
      "  np_resource = np.dtype([(\"resource\", np.ubyte, 1)])\n",
      "D:\\Users\\kpannegatla\\AppData\\Local\\Continuum\\anaconda3\\envs\\tf\\lib\\site-packages\\tensorboard\\compat\\tensorflow_stub\\dtypes.py:541: FutureWarning: Passing (type, 1) or '1type' as a synonym of type is deprecated; in a future version of numpy, it will be understood as (type, (1,)) / '(1,)type'.\n",
      "  _np_qint8 = np.dtype([(\"qint8\", np.int8, 1)])\n",
      "D:\\Users\\kpannegatla\\AppData\\Local\\Continuum\\anaconda3\\envs\\tf\\lib\\site-packages\\tensorboard\\compat\\tensorflow_stub\\dtypes.py:542: FutureWarning: Passing (type, 1) or '1type' as a synonym of type is deprecated; in a future version of numpy, it will be understood as (type, (1,)) / '(1,)type'.\n",
      "  _np_quint8 = np.dtype([(\"quint8\", np.uint8, 1)])\n",
      "D:\\Users\\kpannegatla\\AppData\\Local\\Continuum\\anaconda3\\envs\\tf\\lib\\site-packages\\tensorboard\\compat\\tensorflow_stub\\dtypes.py:543: FutureWarning: Passing (type, 1) or '1type' as a synonym of type is deprecated; in a future version of numpy, it will be understood as (type, (1,)) / '(1,)type'.\n",
      "  _np_qint16 = np.dtype([(\"qint16\", np.int16, 1)])\n",
      "D:\\Users\\kpannegatla\\AppData\\Local\\Continuum\\anaconda3\\envs\\tf\\lib\\site-packages\\tensorboard\\compat\\tensorflow_stub\\dtypes.py:544: FutureWarning: Passing (type, 1) or '1type' as a synonym of type is deprecated; in a future version of numpy, it will be understood as (type, (1,)) / '(1,)type'.\n",
      "  _np_quint16 = np.dtype([(\"quint16\", np.uint16, 1)])\n",
      "D:\\Users\\kpannegatla\\AppData\\Local\\Continuum\\anaconda3\\envs\\tf\\lib\\site-packages\\tensorboard\\compat\\tensorflow_stub\\dtypes.py:545: FutureWarning: Passing (type, 1) or '1type' as a synonym of type is deprecated; in a future version of numpy, it will be understood as (type, (1,)) / '(1,)type'.\n",
      "  _np_qint32 = np.dtype([(\"qint32\", np.int32, 1)])\n",
      "D:\\Users\\kpannegatla\\AppData\\Local\\Continuum\\anaconda3\\envs\\tf\\lib\\site-packages\\tensorboard\\compat\\tensorflow_stub\\dtypes.py:550: FutureWarning: Passing (type, 1) or '1type' as a synonym of type is deprecated; in a future version of numpy, it will be understood as (type, (1,)) / '(1,)type'.\n",
      "  np_resource = np.dtype([(\"resource\", np.ubyte, 1)])\n"
     ]
    }
   ],
   "source": [
    "from keras.preprocessing.sequence import pad_sequences\n",
    "from keras.preprocessing.text import Tokenizer\n",
    "from sklearn.model_selection import train_test_split\n",
    "import pandas as pd\n",
    "import numpy as np\n",
    "import re\n",
    "import nltk\n",
    "from nltk.corpus import stopwords"
   ]
  },
  {
   "cell_type": "code",
   "execution_count": 2,
   "metadata": {},
   "outputs": [],
   "source": [
    "df=pd.read_csv('data.csv')"
   ]
  },
  {
   "cell_type": "code",
   "execution_count": 3,
   "metadata": {},
   "outputs": [
    {
     "data": {
      "text/html": [
       "<div>\n",
       "<style scoped>\n",
       "    .dataframe tbody tr th:only-of-type {\n",
       "        vertical-align: middle;\n",
       "    }\n",
       "\n",
       "    .dataframe tbody tr th {\n",
       "        vertical-align: top;\n",
       "    }\n",
       "\n",
       "    .dataframe thead th {\n",
       "        text-align: right;\n",
       "    }\n",
       "</style>\n",
       "<table border=\"1\" class=\"dataframe\">\n",
       "  <thead>\n",
       "    <tr style=\"text-align: right;\">\n",
       "      <th></th>\n",
       "      <th>ID</th>\n",
       "      <th>Gene</th>\n",
       "      <th>Variation</th>\n",
       "      <th>Class</th>\n",
       "      <th>TEXT</th>\n",
       "    </tr>\n",
       "  </thead>\n",
       "  <tbody>\n",
       "    <tr>\n",
       "      <th>0</th>\n",
       "      <td>0</td>\n",
       "      <td>FAM58A</td>\n",
       "      <td>Truncating Mutations</td>\n",
       "      <td>1</td>\n",
       "      <td>cyclin dependent kinases cdks regulate variety...</td>\n",
       "    </tr>\n",
       "    <tr>\n",
       "      <th>1</th>\n",
       "      <td>1</td>\n",
       "      <td>CBL</td>\n",
       "      <td>W802*</td>\n",
       "      <td>2</td>\n",
       "      <td>abstract background non small cell lung cancer...</td>\n",
       "    </tr>\n",
       "    <tr>\n",
       "      <th>2</th>\n",
       "      <td>2</td>\n",
       "      <td>CBL</td>\n",
       "      <td>Q249E</td>\n",
       "      <td>2</td>\n",
       "      <td>abstract background non small cell lung cancer...</td>\n",
       "    </tr>\n",
       "    <tr>\n",
       "      <th>3</th>\n",
       "      <td>3</td>\n",
       "      <td>CBL</td>\n",
       "      <td>N454D</td>\n",
       "      <td>3</td>\n",
       "      <td>recent evidence demonstrated acquired uniparen...</td>\n",
       "    </tr>\n",
       "    <tr>\n",
       "      <th>4</th>\n",
       "      <td>4</td>\n",
       "      <td>CBL</td>\n",
       "      <td>L399V</td>\n",
       "      <td>4</td>\n",
       "      <td>oncogenic mutations monomeric casitas b lineag...</td>\n",
       "    </tr>\n",
       "  </tbody>\n",
       "</table>\n",
       "</div>"
      ],
      "text/plain": [
       "   ID    Gene             Variation  Class  \\\n",
       "0   0  FAM58A  Truncating Mutations      1   \n",
       "1   1     CBL                 W802*      2   \n",
       "2   2     CBL                 Q249E      2   \n",
       "3   3     CBL                 N454D      3   \n",
       "4   4     CBL                 L399V      4   \n",
       "\n",
       "                                                TEXT  \n",
       "0  cyclin dependent kinases cdks regulate variety...  \n",
       "1  abstract background non small cell lung cancer...  \n",
       "2  abstract background non small cell lung cancer...  \n",
       "3  recent evidence demonstrated acquired uniparen...  \n",
       "4  oncogenic mutations monomeric casitas b lineag...  "
      ]
     },
     "execution_count": 3,
     "metadata": {},
     "output_type": "execute_result"
    }
   ],
   "source": [
    "df.head()"
   ]
  },
  {
   "cell_type": "code",
   "execution_count": 4,
   "metadata": {},
   "outputs": [
    {
     "data": {
      "text/plain": [
       "(264,)"
      ]
     },
     "execution_count": 4,
     "metadata": {},
     "output_type": "execute_result"
    }
   ],
   "source": [
    "df['Gene'].unique().shape"
   ]
  },
  {
   "cell_type": "code",
   "execution_count": 5,
   "metadata": {},
   "outputs": [],
   "source": [
    "X=df.copy()"
   ]
  },
  {
   "cell_type": "code",
   "execution_count": 6,
   "metadata": {},
   "outputs": [],
   "source": [
    "X=X.drop(['Class'],axis=1)"
   ]
  },
  {
   "cell_type": "code",
   "execution_count": 7,
   "metadata": {},
   "outputs": [],
   "source": [
    "X=X.drop(['ID'],axis=1)"
   ]
  },
  {
   "cell_type": "code",
   "execution_count": 8,
   "metadata": {},
   "outputs": [],
   "source": [
    "Y=df['Class']"
   ]
  },
  {
   "cell_type": "code",
   "execution_count": 9,
   "metadata": {},
   "outputs": [
    {
     "data": {
      "text/plain": [
       "0       cyclin dependent kinases cdks regulate variety...\n",
       "1       abstract background non small cell lung cancer...\n",
       "2       abstract background non small cell lung cancer...\n",
       "3       recent evidence demonstrated acquired uniparen...\n",
       "4       oncogenic mutations monomeric casitas b lineag...\n",
       "                              ...                        \n",
       "3316    introduction myelodysplastic syndromes mds het...\n",
       "3317    introduction myelodysplastic syndromes mds het...\n",
       "3318    runt related transcription factor gene runx al...\n",
       "3319    runx aml gene frequent target chromosomal tran...\n",
       "3320    frequent mutations associated leukemia recurre...\n",
       "Name: TEXT, Length: 3321, dtype: object"
      ]
     },
     "execution_count": 9,
     "metadata": {},
     "output_type": "execute_result"
    }
   ],
   "source": [
    "df.TEXT.astype('str')"
   ]
  },
  {
   "cell_type": "code",
   "execution_count": 10,
   "metadata": {},
   "outputs": [],
   "source": [
    "df = df.reset_index(drop=True)\n",
    "REPLACE_BY_SPACE_RE = re.compile('[/(){}\\[\\]\\|@,;]')\n",
    "BAD_SYMBOLS_RE = re.compile('[^0-9a-z #+_]')\n",
    "STOPWORDS = set(stopwords.words('english'))\n",
    "\n",
    "def clean_text(text):\n",
    "    \"\"\"\n",
    "        text: a string\n",
    "        \n",
    "        return: modified initial string\n",
    "    \"\"\"\n",
    "    text = text.lower() # lowercase text\n",
    "    text = REPLACE_BY_SPACE_RE.sub(' ', text) # replace REPLACE_BY_SPACE_RE symbols by space in text. substitute the matched string in REPLACE_BY_SPACE_RE with space.\n",
    "    text = BAD_SYMBOLS_RE.sub('', text) # remove symbols which are in BAD_SYMBOLS_RE from text. substitute the matched string in BAD_SYMBOLS_RE with nothing. \n",
    "    text = text.replace('x', '')\n",
    "#    text = re.sub(r'\\W+', '', text)\n",
    "    text = ' '.join(word for word in text.split() if word not in STOPWORDS) # remove stopwors from text\n",
    "    return text\n",
    "df['TEXT'] = df['TEXT'].astype('str').apply(clean_text)\n",
    "df['TEXT'] = df['TEXT'].astype('str').str.replace('\\d+', '')"
   ]
  },
  {
   "cell_type": "code",
   "execution_count": 11,
   "metadata": {},
   "outputs": [
    {
     "data": {
      "text/plain": [
       "array(['cyclin dependent kinases cdks regulate variety fundamental cellular processes cdk stands one last orphan cdks activating cyclin identified kinase activity revealed previous work shown cdk silencing increases ets v ets erythroblastosis virus e oncogene homolog driven activation mapk pathway confers tamoifen resistance breast cancer cells precise mechanisms cdk modulates ets activity generally functions cdk remain elusive demonstrate cdk cyclin dependent kinase identifying cyclin activating cyclin cyclin orphan cyclin product fama whose mutations cause star syndrome human developmental anomaly whose features include toe syndactyly telecanthus anogenital renal malformations show star syndrome associated cyclin mutants unable interact cdk cyclin silencing phenocopies cdk silencing increasing c raf conferring tamoifen resistance breast cancer cells cdk cyclin phosphorylates ets vitro cells positively controls ets degradation proteasome ets protein levels increased cells derived star patient increase attributable decreased cyclin levels altogether results reveal additional regulatory mechanism ets plays key roles cancer development also shed light molecular mechanisms underlying star syndrome cyclin dependent kinases cdks play pivotal role control number fundamental cellular processes human genome contains genes encoding proteins considered members cdk family owing sequence similarity bona fide cdks known activated cyclins although discovered almost ago cdk remains one two cdks without identified cyclin partner knowledge gap largely impeded eploration biological functions cdk act positive cell cycle regulator cells tumor suppressor others cdk interacts ets v ets erythroblastosis virus e oncogene homolog transcription factor inhibits transcriptional activity unknown mechanism cdk knockdown derepresses ets increases epression c raf protein kinase activates mapk pathway induces resistance mcf cells tamoifen deorphanize cdk identifying cyclin product fama binding partner mutations gene predict absence truncation cyclin associated star syndrome whose features include toe syndactyly telecanthus anogenital renal malformations heterozygous females however functions cyclin pathogenesis star syndrome remain unknown show recombinant cdk cyclin heterodimer active protein kinase phosphorylates ets vitro cyclin silencing phenocopies cdk silencing increasing c raf phospho erk epression levels inducing tamoifen resistance estrogen receptor er breast cancer cells show cdk cyclin positively controls ets degradation proteasome phosphorylation two neighboring serines finally detect increased ets epression level cells derived star patient demonstrate attributable decreased cyclin epression level observed cells previous sectionnet sectionresultsa yeast two hybrid yh screen unveiled interaction signal cdk mouse protein whose c terminal half presents strong sequence homology human fama gene product whose proposed name cyclin thus performed yh mating assays determine whether human cdk interacts human cyclin fig c longest cdk isoform p epressed bait protein produced strong interaction phenotype full length cyclin epressed prey protein detectable phenotype cyclin p cip cdi kap known binding partners cdks fig b cdk cdk also produced yh signals cyclin albeit notably weaker observed cdk fig b interaction phenotype also observed full length cyclin cdk proteins epressed bait prey respectively fig sa tested different isoforms cdk cyclin originating alternative gene splicing two truncated cyclin proteins corresponding hypothetical products two mutated fama genes found star syndrome patients none shorter isoforms produced interaction phenotypes fig c fig sa fig new window download pptfig cdk cyclin form interaction comple schematic representation different protein isoforms analyzed yh assays amino acid numbers indicated black boes indicate internal deletions red bo indicates differing amino acid sequence compared cdk p b yh assay set cdk proteins epressed baits fusion lea dna binding domain cdk interacting proteins epressed preys fusion b transcriptional activator peg pjg empty bait prey plasmids epressing lea b respectively lacz used reporter gene blue yeast indicative yh interaction phenotype c yh assay different cdk cyclin isoforms amino terminal region ets known interact cdk also assayed western blot analysis myc cdk wt kd cycm v epression levels transfected hek cells e western blot analysis myc cdk wt kd immunoprecipitates obtained using anti myc antibody inputs correspond g total lysates obtained hek cells coepressing myc cdk wt kd cycm v f western blot analysis immunoprecipitates obtained using anti cdk antibody control goat antibody human breast cancer mcf cells input corresponds g mcf total cell lysates lower band doublet observed upper panel comigrates eogenously epressed untagged cdk thus corresponds endogenous cdk upper band doublet corresponds nonspecific signal demonstrated insensitivity either overepression cdk seen left lane silencing cdk fig sb another eperiment longer gel migration shown fig sd net eamined ability cdk cyclin interact epressed human cells fig e tested wild type cdk wt kinase dead kd mutant bearing da amino acid substitution abolishes atp binding epressed cyclin v myc cdk wt kd human embryonic kidney cell line hek epression level cyclin v significantly increased upon coepression myc cdk wt kd lesser etent myc cdk wt kd increased upon coepression cyclin v fig immunoprecipitated myc cdk proteins detected presence cyclin cdk wt kd immunoprecipitates proteins coepressed pair wise fig e confirmed observations detecting presence myc cdk cyclin v immunoprecipitates fig sb eperiments confirmed lack robust interaction cdk p isoform cyclin fig sc detect interaction endogenous proteins performed immunoprecipitations nontransfected mcf cells derived human breast cancer cdk cyclin antibodies detected cognate endogenous proteins western blotting readily detected cyclin immunoprecipitates obtained cdk antibody control antibody fig f results confirm physical interaction cdk cyclin human cells unveil hypothesized cdk cyclin protein kinase activity produced gst cdk strepii cyclin fusion proteins insect cells either individually combination observed gst cdk strepii cyclin copurified thus confirming interaction yet another cellular model fig performed vitro kinase assays purified proteins using histone h generic substrate histone h phosphorylation detected lysates cells coepressing gst cdk strepii cyclin phosphorylation detected gst cdk strepii cyclin epressed alone strepii cyclin coepressed gst cdk kd fig net investigated whether ets known interact cdk fig c phosphorylation substrate cdk cyclin detected strong phosphorylation ets gst cdk strepii cyclin purified heterodimer whereas phosphorylation detected using gst cdk alone gst cdk kd strepii cyclin heterodimer fig b fig new window download pptfig cdk cyclin dependent protein kinase vitro protein kinase assay histone h lysates insect cells epressing different proteins purified glutathione sepharose matri capture gst cdk wt kd fusion proteins alone comple str cycm fusion protein purified protein epression levels analyzed western blots top upper middle kinase activity determined autoradiography histone h whose added amounts visualized coomassie staining lower middle bottom b using purified recombinant ets substrate cdk silencing shown increase ets driven c raf transcription activate mapk pathway investigated whether cyclin also involved regulatory pathway aim highly specific silencing used sirna pools mi four different sirnas low final concentration nm cdk cyclin sirna pools silenced epression cognate targets fig c fig interestingly cyclin sirna pool also caused marked decrease cdk protein level fig fig sb results shown fig suggest cyclin binding stabilizes cdk cyclin silencing induced increase c raf protein mrna levels fig b c phosphorylated erk erk protein levels fig sb similarly cdk silencing epected effects cdk cyclin silencing decreased sensitivity er mcf cells tamoifen similar etent combined silencing genes result higher resistance drug fig sc altogether observations demonstrate functional interaction cyclin cdk negatively controls ets fig new window download pptfig cyclin silencing regulates c raf epression western blot analysis endogenous cdk cyclin epression levels mcf cells response sirna mediated gene silencing b western blot analysis endogenous c raf epression levels mcf cells response cdk cyclin silencing quantification shown fig sa c quantitative rt pcr analysis cdk cyclin c raf mrna levels response cdk upper cyclin lower silencing p p wished eplore mechanism cdk cyclin controls ets ets short lived protein degraded proteasome straightforward hypothesis cdk cyclin positively controls ets degradation thus eamined impact cdk cyclin silencing ets epression levels silencing cdk cyclin caused increase epression levels eogenously epressed flag ets protein fig sa well endogenous ets protein fig increase attributable increased ets mrna levels marginally fluctuated response cdk cyclin silencing fig sb eamined epression levels flag tagged ets protein epressed alone combination myc cdk cdk kd without cyclin v flag ets readily detected epressed alone lesser etent coepressed cdk kd however epression level dramatically decreased coepressed cdk alone cdk cyclin fig b observations suggest endogenous cyclin levels ecess compared cdk mcf cells show major decrease ets levels observed upon cdk coepression involves cdk kinase activity treatment cells coepressing flag ets cdk cyclin proteasome inhibitor mg largely rescued flag ets epression levels fig b fig new window download pptfig cdk cyclin controls ets stability human cancer derived cells western blot analysis endogenous ets epression levels mcf cells response sirna mediated cdk cyclin silencing quantification shown fig sb b western blot analysis eogenously epressed flag ets protein levels mcf cells cotransfected empty vectors coepressing myc cdk wt kd myc cdk cycm v latter cells treated h mg proteasome inhibitor proper epression cdk cyclin tagged proteins verified western blot analysis c western blot analysis epression levels eogenously epressed flag ets wild type mutant proteins mcf cells absence c response myc cdk cycm v epression quantifications shown fig c mass spectrometry analysis recombinant ets phosphorylated cdk cyclin vitro revealed eistence multiple phosphorylated residues among two neighboring phospho serines positions may form phosphodegron figs confirm finding compared phosphorylation level recombinant etswt etssasa protein mutant bearing alanine substitutions two serines epected eistence multiple phosphorylation sites detected small reproducible significant decrease phosphorylation level etssasa compared etswt fig thus confirming ser ser phosphorylated cdk cyclin establish direct link ets phosphorylation cdk cyclin degradation eamined epression levels flag etssasa absence cdk cyclin coepression differ significantly flag ets contrary flag etsdbm bearing deletion n terminal destruction bo previously shown involved apc cdh mediated degradation ets fig c however contrary flag ets wild type epression level flag etssasa remained insensitive cdk cyclin coepression fig altogether results suggest cdk cyclin directly controls ets degradation phosphorylation two serines finally studied lymphoblastoid cell line derived patient star syndrome bearing fama mutation c g predicted result aberrant splicing accordance incomplete skewing chromosome inactivation previously found patient detected decreased epression level cyclin protein star cell line compared control lymphoblastoid cell line line preceding observations detected increased epression level ets protein star cell line compared control fig fig sa eamined quantitative rt pcr mrna epression levels corresponding genes star cell line showed decreased epression level cyclin mrna epression level ets mrna similar control cell line fig b demonstrate increase ets protein epression indeed result decreased cyclin epression observed star patient derived cell line epressed cyclin v cell line epression caused decrease ets protein levels fig c fig new window download pptfig decreased cyclin epression star patient derived cells results increased ets protein level western blot analysis cyclin ets protein levels star patient derived lymphoblastoid cell line control lymphoblastoid cell line derived healthy individual quantification shown fig sa b quantitative rt pcr analysis cyclin ets mrna levels cells p c western blot analysis ets protein levels star patient derived lymphoblastoid cell line transfected empty vector vector directing epression cyclin v another western blot revealing endogenously eogenously epressed cyclin levels shown fig sb quantification ets protein levels shown fig sc previous sectionnet sectiondiscussionin work unveil interaction cdk last orphan cdk discovered pregenomic era cyclin cyclin associated human genetic disease far whose functions remain unknown closest paralogs cdk within cdk family cdk proteins interact l type cyclins interestingly closest paralog cyclins within cyclin family cyclin fig fact none shorter cdk isoforms interact robustly cyclin suggests alternative splicing cdk gene plays important role regulating cdk functions functional relevance interaction cdk cyclin supported different observations proteins seem enhance stability judged increased epression levels partner eogenously coepressed fig much reduced endogenous cdk epression level observed response cyclin silencing fig fig sb cdk subject ubiquitin mediated degradation observations suggest cyclin protects cdk degradation cyclin partner cdk least mcf cells also suggest cyclin stability enhanced upon binding cdk independently kinase activity seen cyclin c cdk uncover cyclin dependent cdk protein kinase activity vitro thus demonstrating protein named cdk sole basis amino acid sequence indeed genuine cyclin dependent kinase yh assays reveal truncated cyclin proteins corresponding hypothetical products two star syndrome associated fama mutations produce interaction phenotype cdk hence regardless whether mutated mrnas undergo nonsense mediated decay suggested decreased cyclin mrna levels star cells shown fig b give rise truncated cyclin proteins females affected star syndrome must ehibit compromised cdk cyclin kinase activity least tissues specific developmental stages show ets known interactor cdk phosphorylation substrate cdk cyclin vitro cdk cyclin kinase activity positively controls ets degradation proteasome control seems eerted fine mechanism judged sensitivity ets levels partially decreased cdk cyclin levels achieved mcf cells observed star cells respectively findings offer straightforward eplanation already reported regulation ets driven transcription c raf response cdk silencing bring evidence cdk cyclin directly controls ets degradation phosphorylation two neighboring serines may form noncanonical trcp phosphodegron dsmcpas none two serines precede proline conform usual cdk phosphorylation sites however multiple called transcriptional cdks cdk cdk may belong fig shown phosphorylate variety motifs non proline directed fashion especially contet molecular docking substrate hypothesized high affinity interaction cdk pointed domain ets fig c would allow docking mediated phosphorylation atypical sites control ets degradation involves number players including apc cdh cullin ring ligase crl formal identification ubiquitin ligase involved cdk cyclin pathway elucidation concerted action ubiquitin ligases regulate ets degradation require studies results present number significant biological medical implications first shed light regulation ets plays important role development frequently deregulated many cancers second results contribute understanding molecular mechanisms causing tamoifen resistance associated reduced cdk epression levels suggest like cdk cyclin could also predictive clinical marker hormone therapy response er positive breast cancer patients third findings offer interesting hypothesis molecular mechanisms underlying star syndrome ets transgenic mice showing less twofold overepression ets present severe cranial abnormalities observed star patients could thus caused least part increased ets protein levels another epected consequence enhanced ets epression levels would decreased risk develop certain types cancers increased risk develop others studies various mouse models including models syndrome three copies ets eist revealed ets dosage repress promote tumor growth hence ets eerts noncell autonomous functions cancer intringuingly one star patients identified far diagnosed nephroblastoma finally findings facilitate general eploration biological functions cdk particular role control cell division previous studies suggested either positive role cell cycle control tumor suppressive activity cancers severe growth retardation ehibited star patients strongly suggests cdk cyclin plays important role control cell proliferation previous sectionnet sectionmaterials methodscloning cdk cyclin cdnas plasmid constructions tamoifen response analysis quantitative rt pcr mass spectrometry eperiments antibody production detailed si materials methods yeast two hybrid interaction assays performed yeast interaction mating assays previously described mammalian cell cultures transfections grew human hek mcf cells dmem supplemented vol vol fbs invitrogen grew lymphoblastoid cells rpmi glutama supplemented vol vol fbs transfected hek mcf cells using lipofectamine invitrogen plasmids lipofectamine rnaima invitrogen sirnas jetprime polyplus plasmids sirnas combinations according manufacturers instructions transfected lymphoblastoid cells electroporation neon invitrogen ets stability studies treated mcf cells h transfection mg fisher scientific h coimmunoprecipitation western blot eperiments collected cells scraping pbs centrifugation lymphoblastoid cells lysed sonication lysis buffer containing mm glycerophosphate mm p nitrophenylphosphate mm n morpholino propanesulfonic acid mops ph mm egta mm mgcl mm na vanadate mm naf mm phenylphosphate nonidet p protease inhibitor miture roche spun lysates min g c collected supernatants determined protein content using bradford assay performed immunoprecipitation eperiments g total proteins lysis buffer precleared lysates l protein g agarose beads incubated h c rotating wheel added g antibody supernatants incubated h c rotating wheel added l protein g agarose beads incubated h c rotating wheel collected beads centrifugation g c washed three times bead buffer containing mm tris ph mm naf mm nacl mm edta mm egta nonidet p protease inhibitor coktail roche directly added sample buffer washed pellets heat denatured proteins ran samples bis tris sds page transferred proteins onto hybond nitrocellulose membranes processed blots according standard procedures western blot eperiments used following primary antibodies anti myc abcam ab anti v invitrogen r anti tubulin santa cruz biotechnology b anti cdk covalab pabp santa cruz biotechnology c anti cycm home made dilution covalab pab p dilution anti raf santa cruz biotechnology c anti ets santa cruz biotechnology c anti flag sigma f anti actin sigma used hrp coupled anti goat santa cruz biotechnology sc dilution anti mouse bio rad dilution anti rabbit bio rad secondary antibodies revealed blots enhanced chemiluminescence supersignal west femto thermo scientific production purification recombinant proteins gst cdk kd strepii cycm generated recombinant bacmids dhbac escherichia coli baculoviruses sf cells using bac bac system described provider invitrogen infected sf cells gst cdk gst cdkkd producing viruses coinfected cells strepii cycm producing viruses collected cells h infection purify gst fusion proteins spun ml cells resuspended pellet ml lysis buffer pbs mm nacl nonidet p mm naf mm glycerophosphate mm na vanadate containing protease inhibitor miture roche lysed cells sonication spun lysate min g collected soluble fraction added ml glutathione sepharose matri incubated h c washed four times lysis buffer one time kinase buffer see finally resuspended beads l kinase buffer containing vol vol glycerol storage ets transformed origami de novagen ets epression vector induced epression mm isopropyl thiogalactopyranoside h c purify ets spun ml cells resuspended pellet ml lysis buffer pbs mm nacl mm imidazole mm dtt nonidet p containing protease inhibitor miture without edta roche lysed cells bar using cell disruptor spun lysate min g collected soluble fraction added l cobalt beads thermo scientific h incubation c rotating wheel washed four times lysis buffer elute incubated beads min elution buffer pbs mm imidazole ph containing protease inhibitor miture spun g collected eluted protein protein kinase assays mied glutathione sepharose beads harboring gst cdk wt kd either monomeric compleed strepii cycm bsa mm dtt atp ci atp p histone h ets added kinase buffer mm tris hcl mm mgcl mm egta mm dtt heparin ph total volume l incubated reactions min c added laemli sample buffer heat denatured samples ran bis tris sds page cut gel slices detect gst cdk strepii cycm western blotting stained gel slices containing substrate coomassie r bio rad dried detected incorporated radioactivity autoradiography identified four unrelated girls anogenital renal malformations dysmorphic facial features normal intellect syndactyly toes similar combination features reported previously mother daughter pair table supplementary note online authors noted clinical overlap townes brocks syndrome suggested phenotype represented separate autosomal dominant entity mim define cardinal features syndrome characteristic facial appearance apparent telecanthus broad tripartite nasal tip variable syndactyly toes hypoplastic labia anal atresia urogenital malformations fig h also observed variety features table figure clinical molecular characterization star syndrome figure clinical molecular characterization star syndrome f facial appearances cases apparent telecanthus dysplastic ears thin upper lips c e toe syndactyly b f cases illustrate recognizable features star syndrome specific parental consent obtained publication photographs anal atresia hypoplastic labia shown g h ray films feet case showing four rays left delta shaped th th metatarsals right h compare clinical picture array cgh data log ratio represents copy number loss si probes spanning kb one probe positioned within fama deletion remove parts functional genes j schematic structure fama position mutations fama five coding eons boes cyclin domain green encoded eons horizontal arrow indicates deletion etending case includes eons whereas horizontal line eon indicates deletion found case removes eon sequence pink horizontal bars boes indicate amplicons used qpcr sequencing one alternative eon amplicon indicated space constraints mutation dupt case results immediate stop codon g g splice mutations cases predicted deleterious alter conserved splice donor acceptor site intron respectively full size image kb table clinical features star syndrome cases table clinical features star syndrome cases full table basis phenotypic overlap townes brocks okihiro feingold syndromes analyzed sall ref sall ref mycn found mutations genes supplementary methods online net carried genome wide high resolution oligonucleotide array comparative genomic hybridization cgh analysis supplementary methods genomic dna severely affected individual case lower lid coloboma epilepsy syringomyelia identified heterozygous deletion kb q removed eons fama fig j using real time pcr confirmed deletion child ecluded unaffected parents supplementary fig online supplementary methods supplementary table online cgh customized oligonucleotide array enriched probes q followed breakpoint cloning defined eact deletion size bp g del chromosome ncbi build fig j supplementary figs online deletion removes coding regions eons well intron bp bp intron bp sequence including utr entire krtp pseudogene ncbi gene id paternity proven using routine methods find deletions overlapping fama available copy number variation cnv databases subsequently carried qpcr analysis three affected individuals cases mother daughter pair literature cases case detected de novo heterozygous deletion kb overlapping eon supplementary fig b online using q targeted array cgh breakpoint cloning identified deletion bp g del chromosome ncbi build fig j supplementary figs removed bp intron eon including utr bp sequence found heterozygous fama point mutations remaining cases fig j supplementary fig supplementary methods supplementary table case identified mutation g affecting splice donor site intron case identified frameshift mutation dupt immediately results premature stop codon nfs cases detected mutation g alters splice acceptor site intron validated point mutations deletions independent rounds pcr sequencing qpcr confirmed paternity de novo status point mutations deletions sporadic cases none mutations seen dna unaffected female controls larger deletions involving fama found unrelated array cgh investigations analyzing chromosome inactivation supplementary methods supplementary fig online found complete skewing inactivation cases almost complete skewing case suggesting cells carrying mutation active chromosome growth disadvantage fetal development using rt pcr rna lymphoblastoid cells case supplementary fig find aberrant splice products additional evidence mutated allele inactivated furthermore fama subjected inactivation cases parental origin deletions could determined result lack informative snps case mother case gave birth two boys clinically unaffected samples available cannot eclude condition lethal males fetal losses reported families function fama unknown gene consists five coding eons bp coding region encodes protein amino acids genbank lists mrna length bp reference sequence nm epression gene est data found adult tissues including kidney colon cervi uterus heart ncbi epression viewer unigene hs epression also noted listed tumor tissues well embryo fetus genes homologous fama ncbi homologene found chromosome chimpanzee dog zebrafish similar gene chromosome however mouse rat true homologs species similar intronless genes chromosomes mouse rat likely arising retrotransposon insertion event murine chromosome flanking genes atpb dusp conserved remnants fama sequence detected fama contains cyclin bo fold domain protein binding domain found cyclins role cell cycle transcription control human phenotype resulting cyclin gene mutation yet reported homozygous knockout mice ccnd encoding cyclin viable small reduced lifespan also dystrophic changes retina likely result decreased cell proliferation degeneration photoreceptor cells embryogenesis cyclin colocalizes sall nucleus proteins cooperatively mediate transcriptional repression phenotype cases overlaps considerably townes brocks syndrome caused sall mutations carried co immunoprecipitation find sall sall would interact fama manner similar observed sall cyclin found fama interacts sall sall supplementary fig online supporting hypothesis fama sall participate developmental pathway fama mutations lead star syndrome growth retardation cases table retinal abnormalities three cases reminiscent reduced body size retinal anomalies cyclin knockout mice therefore proliferation defect might partly responsible star syndrome address question carried knockdown fama mrna followed proliferation assay transfection hek cells three different fama specific rnai oligonucleotides resulted significant reduction fama mrna epression proliferation transfected cells supplementary methods supplementary fig online supporting link fama cell proliferation found loss function mutations fama result rather homogeneous clinical phenotype additional anomalies case likely result effect kb deletion epression neighboring gene possibly atpb dusp however cannot eclude homogeneous phenotype results ascertainment bias fama mutations including missense changes could result broader spectrum malformations genes causing overlapping phenotypes star syndrome townes brocks syndrome seem act pathway note mycn gene mutated feingold syndrome direct regulator cyclin refs thus worth eploring whether phenotypic similarities feingold star syndrome might eplained direct regulation fama mycn fama located approimately mb centromeric mecp q duplications overlapping mecp fama described associated clinical phenotype females deletions overlapping mecp fama observed date although genes fama mecp implicated brain development fama mecp genes region known result linked dominant phenotypes thus deletion genes allele might lethal males females',\n",
       "       'abstract background non small cell lung cancer nsclc heterogeneous group disorders number genetic proteomic alterations c cbl e ubiquitin ligase adaptor molecule important normal homeostasis cancer determined genetic variations c cbl relationship receptor tyrosine kinases egfr met functionality nsclc methods findings using archival formalin fied paraffin embedded ffpe etracted genomic dna show c cbl mutations occur somatic fashion lung cancers c cbl mutations mutually eclusive met egfr mutations however independent p kras mutations normal tumor pairwise analysis significant loss heterozygosity loh c cbl locus n none samples revealed mutation remaining copy c cbl c cbl loh also positively correlated egfr met mutations observed samples using select c cbl somatic mutations sn hy qe w obtained caucasian taiwanese african american samples respectively transfected nsclc cell lines increased cell viability cell motility conclusions taking overall mutation rate c cbl combination somatic missense mutation loh clear c cbl highly mutated lung cancers may play essential role lung tumorigenesis metastasis go introduction us alone year approimately people diagnosed lung cancers succumb disease number roughly equivalent combined mortality rates cancers breast prostate colon liver kidney melanoma addition prognosis usually poor five year survival rate less also significant ethnic differences lung cancer outcome worse blacks compared whites gender differences also striking women significantly better prognosis compared men number genetic alterations occur lung cancer eample nsclc mutations kras p egfr met identified many pathways especially receptor tyrosine kinases rtks controlled c cbl cbl casitas b lineage lymphoma mammalian gene located human chromosome q involved cell signaling protein ubiquitination cbl proteins belong ring finger class ubiquitin ligases e three homologues c cbl cbl b cbl c cbl cbl b genes ubiquitously epressed highest levels hematopoietic tissues c cbl consists four regions encoding functionally distinct protein domains n terminal tyrosine kinase binding tkb domain linker region catalytic ring finger domain proline rich region c terminal ubiquitin associated uba domain also overlaps leucine zipper lz domain tkb ring finger domains essential ligand induced ubiquitination rtks ring finger domain required recruitment e ubiquitin conjugating enzymes tkb domain includes four heli bundle h calcium biding ef hand modified sh domain binds phosphotyrosine residues addition proline rich region c cbl associate sh domain grb indirectly recruit c cbl rtks via grb adaptor protein c cbl also binds egfr acts e targets egfr ubiquitination degradation furthermore cbl desensitizes egf signaling opposes cellular proliferation induced egf egf activation also appears activate tyrosine kinase src phosphorylates c cbl turn activates ubiquitination degradation egfr recent study shows defective endocytosis egfr characterized deletion mutant point mutation lr whereby association c cbl subsequent ubiquitination impaired recently first human c cbl mutations reported acute myeloid leukemia aml patients mutation rq inhibits fms like tyrosine kinase flt internalization ubiquitination e activity important oncogenesis c cbl dual separate function signal transduction molecule previously shown c cbl important binding crkl bcr abl hematopoietic cells also bind modulate functions cytoskeleton binding proteins like talin paillin tkb domain important binding number molecules function signal transduction given critical role cbl normal homeostasis cancer hypothesized might mutated lung cancers study report novel c cbl somatic mutations sn hy qe w caucasian taiwanese african american lung cancer patients respectively epressing mutations nsclc cell lines lead increased proliferation cell motility show c cbl mutations occur without met egfr mutations mutually eclusive loh c cbl locus additionally c cbl loh associated either met egfr mutations thus hypothesize c cbl mutations might contribute oncogenic potential met egfr lung cancer go methods ethics statement written consent research human subjects obtained institutional review board university chicago covers research performed laboratory following contact information institutional review board university chicago mcgiffert hall woodlawn ave nd floor chicago il written informed consents received patients whose tissue samples used study tissue samples lung cancer tissue paired adjacent normal lung tissues obtained caucasian african americans taiwanese nsclc patients recruited university chicago hospital chicago usa caucasian african american patients taipei veterans general hospital taiwan taiwanese patients obtaining appropriate institutional review board permission informed consent patients samples men women unknown age diagnosis ranging years terms tumor types adenocarcinoma squamous cell carcinoma large cell carcinoma stage stage ii stage iii stage iv table cell culture human non small cell lung carcinoma cells h maintained dmem rpmi respectively human embryonic kidney cells cultured dmem media supplemented fetal bovine serum units ml penicillin g ml streptomycin invitrogen carlsbad ca cells cultured c humidified incubator containing co c cbl gene mutational analysis eons c cbl gene individually amplified polymerase chain reaction pcr primers listed table pcr conditions cycle c minutes cycles c seconds c seconds c minutes one cycle c minutes pcr products treated eosap usb corporation cleveland oh sequenced big dye terminator chemistry applied biosystems foster city ca sequencing performed forward coding strand confirmation c cbl alterations performed sequencing reverse strand well chromatograms analyzed mutations using mutation surveyor v softgenetics state college pa plasmid constructs site directed mutagenesis wild type c cbl cdna insert subcloned palterma epression vector using hoi sali restriction enzyme sites promega madison wi using parental plasmid palterma c cbl tkb domain double mutation sn hy point mutation qe c terminal point mutation w c cbl created using following primers gctggcgctaaagaataacccaccttatatcttagac ctaccagatacctaccagtatctccgtactatcttgtc double mutation sn hy ctttacccgactctttgagccctggtcctctttgc qe cagctcctcctttggctgattgtctctggatggtgatc w along complementary primers using quickchange site directed mutagenesis l kit stratagene la jolla ca according manufacturer instructions constructs confirmed point mutations standard dna sequencing strands loss heterozygosity loh analysis five microsatellites chromosome q within kb downstream c cbl gene control markers p selected analysis table established microsatellite markers respective primer sequences selected geneloc database http genecards weizmann ac il geneloc inde shtml weizmann institute science rehovot israel primers custom designed forward primer fluorescently labeled end fam pet ned vic applied biosystems primer annealing temperatures duple scores evaluated nist primer tools http yellow nist gov dnaanalysis primertoolspage national institute standards technology gaithersburg md primers verified performing pcr control dna isolated tk cells resolving products agarose gels bands visualized uv transilluminator genomic dna etracted tumor samples paired normal lung tissue primers grouped multiple combinations shown table marker ds served internal control check consistency pcrs peaks capillary electrophoresis multiple pcrs carried volume l contained l genomic dna ng primer total primer pair dntps pcr buffer containing mgcl u taq dna polymerase pcr performed abi geneamp pcr system following conditions min c cycles sec c min c min c min c pcr products separated capillary electrophoresis abi l dna analyzer chromatograms analyzed peak scanner genemapper software applied biosystems allelic alterations area peaks produced dna pcr products quantified allele ratio allelic areas calculated tumor paired normal dna sample qloh allelic ratio tumor peaks divided allelic ratio paired normal sample c cbl least one q marker least two separate eperiments sample considered allelic imbalance interpreted loh samples evaluated least two separate eperiments samples showing prospective loh c cbl repeated third time included new control marker ba locus data shown chromosome verify integrity sample dna transfection c cbl constructs cell line transfected using fugene hd roche nutley nj reagent according manufacturer instructions eight g plasmid dna containing either insert empty vector wild type c cbl sn hy c cbl qe c cbl w cbl used transfection well culture plate cells harvested h transfection analyzed epression c cbl knockdown c cbl knockdown performed using lentiviral transduction using mission lentiviral transduction particles sigma aldrich st louis mo per manufacturer instructions briefly h cells well seeded well plates infected following day c cbl lentiviral shrna constructs generate stable c cbl knockdown cell lines cells selected days g ml puromycin c cbl levels determined using whole cell lysates immunoblotting anti cbl antibody santa cruz biotechnologies santa cruz ca cell viability assay cells transfected described transfection assay forty eight hours transfection viability cells assessed using trypan blue eclusion wound healing assay cells seeded well plates cultured h confluent medium changed cells transfected described transfection assay twelve hours transfection straight scratch made across cell layer using ml pipette tip cells gently washed pbs remove cellular debris media replaced photographs taken wound region every h h western blot analysis forty eight hours transfection cells collected washed twice pbs lysed ice cold lysis buffer tris hcl ph nacl deoycholic acid mm edta np mm dtt mm phenylmethylsulfonyl fluoride g ml leupeptin g ml aprotinin minutes lysate centrifuged rpm minutes c protein content supernatant measured total cell lysates g well separated sds page electrophoresis gels transferred onto nitrocellulose membranes whatman piscataway nj membranes blocked non fat dry milk phosphate buffered saline containing tween pbst pbs tween h room temperature incubated appropriate primary antibody c overnight membranes washed three times pbst probed appropriate horseradish peroidase hrp conjugated secondary antibody h room temperature membranes washed three times pbst bands visualized using western blot chemiluminescence reagent biorad valencia ca chemidoc gel documentation system biorad valencia ca antibodies obtained santa cruz biotechnologies used following dilutions c cbl c met egfr ubiquitin ha actin flow cytometry cell cycle analysis carried flow cytometry approimately cells grown media containing fbs cells harvested trypsin edta treatment washed pbs three times fied ice cold ethanol h cells washed cold pbs stained solution containing g ml propidium iodide g ml rnase triton minutes dark cell cycle analysis performed using guava pca flow cytometer guava technologies millipore billerica ubiquitin ligase activity cells maintained culture dmem supplemented fbs penicillin units ml streptomycin g ml transfected g egfr pcdna g ha tagged c cbl constructs indicated using calcium phosphate according manufacturer protocol profection promega madison wi twenty four hours post transfection cells starved overnight dmem supplemented fbs treated without egf ng ml min cells collected washed two times ice cold pbs containing mm sodium orthovanadate lysed ice cold lysis buffer mm tris hcl ph mm nacl mm edta triton glycerol mm sodium orthovanadate protease inhibitors lysates cleared debris centrifugation g min c egfr immunoprecipitations performed g cleared lysate using ng rabbit anti egfr protein g plus sepharose overnight c precipitations washed times lysis buffer boiling laemmli buffer elutions immunoblotted anti ubiquitin egfr twenty micrograms cleared lysate immunoblotted c cbl constructs using anti ha statistical analysis mutation rates different groups compared using fisher eact test continuous variables group comparisons performed using analysis variance anova followed sidak adjustment multiple comparisons eperiments involving repeated measurements time analyzed using repeated measures anova greenhouse geisser adjustment degrees freedom analyses conducted using stata v software stata corporation college station go results c cbl gene mutations lung cancer investigate role c cbl lung cancer analyzed genomic dna tumor paired normal samples drawn multiple ethnicities lung tumor samples represented caucasians n african americans n taiwanese n lung cancer patients designed pairs primers sequence coding region c cbl gene spans eons table identified unique somatic mutations c cbl eons among different patients variation lf known snp rs eon also detected importantly eight novel non synonymous mutations confirmed sequencing strands c cbl genomic dna obtained lung tumor samples table moreover none mutations detected corresponding normal tissue indicating somatic mutations four synonymous single nucleotide variations snvs also identified used study table table c cbl mutation analysis lung cancer patient tumor tissues three novel non synonymous mutations located tkb tyrosine kinase binding domain sn hy qe one ring finger domain vi one proline rich region del atg three c terminal region w rk c cbl protein figure figure figure b show model chromatograms representative samples figure figure c cbl mutations loh non small cell lung cancer q loh c cbl gene paired lung tumor normal lung tissue samples taiwanese patients n investigated loh eight showed loh c cbl locus chromosome samples revealed normal allelic contribution microsatellite markers figures c c cbl mutations different ethnic groups c cbl double mutant sn hy found patient overall mutation rate c cbl lung tumors frequency c cbl mutation highest large cell carcinoma patients followed squamous carcinoma patients least observed adenocarcinoma ad patients although rates statistically significant p mutation rates among caucasians ad sq lc african americans ad sq lc ad sq lc taiwanese population additionally two taiwanese patients lung cancer one squamous one adenocarcinoma known snp lf ethnic differences statistically significant however power detect differences low mutations met egfr co associated c cbl alterations since east asians lung cancer higher frequency egfr met mutations lung tumors also determined mutations egfr met taiwanese cohort samples compared results observed c cbl alterations loh mutations samples tested find overlap c cbl mutations c cbl loh figure three c cbl mutants including known lf snp rs one samples met mutation ns egfr mutation lr among samples loh c cbl locus additional mutation met ns egfr eon deletion twenty si samples neither c cbl mutation c cbl loh patients c cbl mutation c cbl loh among samples met mutation ns lw egfr mutation eon deletion lr met egfr mutation thus rate met egfr mutations among patients loh c cbl locus similar seen patients without c cbl mutation loh patients p patients identifiable mutation c cbl met egfr represented patients analyzed taiwanese patient cohort conversely taiwanese lung cancer patients identifiable mutation either c cbl met egfr combination three genes figure additionally determined p kras mutations taiwanese cohorts two p kras mutation detected single kras mutation overlapped one p mutation patient also egfr eon deletion c cbl mutation p mutation sample c cbl loh concurrent met ns mutation thus taiwanese samples analyzed p kras mutations c cbl mutations mutually eclusive data shown figure figure c cbl mutations relationship met egfr mutations lung cancer cellular functions c cbl alterations contet lung tumorigenesis e activity intact mutant c cbl proteins investigate whether different c cbl mutations affect e activity egfr chosen model substrate c cbl e function c cbl mutants tested enhanced ubiquitination activated egfr similar wild type c cbl protein result demonstrates catalytic activity c cbl mutants impaired egfr substrate figure figure figure ubiquitination viability epression cell cycle analysis various c cbl mutants b effect lung cancer cell viability effect representative c cbl mutant three ethnic backgrounds lung cancer cell viability cell lines determined sn hy double mutation qe w identified lung tumor samples obtained caucasian taiwanese african american respectively described methods c cbl wild type wt three mutants epressed cloning palterma vector cells cells epress relatively low basal levels endogenous c cbl data shown transfection efficiency comparable different groups number cells transfected c cbl wild type construct compared control cells transfected empty vector cells transfected sn hy qe w c cbl mutant constructs resulted increased number viable cells higher respectively relative empty vector control transfected cells significantly different wild type construct p p p respectively figure b relative levels c cbl protein whole cell lysates prepared samples obtained parallel eperiment determined c cbl protein levels samples representing untransfected empty vector transfected cells comparable representing c cbl wt three c cbl mutants comparable figure c c effect cell cycle investigate increases cell viability different c cbl mutants due increased cellular proliferation cell cycle analysis performed cells transfected c cbl wt three different mutants sn hy qe w empty vector transfectant used control forty eight hours transfection cell cycle analysis performed described materials methods significant change subg g phase cell cycle among different mutants compared wt construct p p p respectively g phase cell cycle showed increase cell numbers three mutants sn hy qe w compared wt difference statistically significant p figure effect cell motility investigate effect epression three c cbl mutants cell migration carried wound healing assay described materials methods closing scratch wound monitored h figure samples represented cells transfected mutants wound gap much smaller seen sample represented cells transfected c cbl wt p also determined rate wound closure five groups h wild type c cbl transfectants showed open wound sn hy qe w mutants showed open wound respectively p figure b figure figure c cbl mutations affect wound healing cells e c cbl knockdown increases cell viability hypothesized loh seen samples could lead decreased epression c cbl thus tested effect c cbl knockdown lung cancer cells compared h lung cancer cells epress relatively high levels endogenous c cbl data shown c cbl epression knocked using lentiviral construct epressed c cbl specific shrna compared results transduced scrambled shrna results shown figure identified several clones revealed varying degrees c cbl knockdown showing different sets c cbl lentiviral shrna knockdown efficiency figure clones tested clone chosen eperiments equal amount cells seeded well plate cell proliferation measured various times results depicted figure b epected number cells increased time dependent fashion relative scrambled shrna control span h p figure b cell cycle phases h cells knocked c cbl shrna looked compared scrambled shrna discernable differences two constructs different phases cell cycle data shown figure figure knockdown c cbl using shrna increases cell proliferation go discussion results demonstrate c cbl somatically mutated loh lung cancers significantly contribute enhanced cell viability motility also high prevalence loh respect c cbl lung tumors harbored met egfr mutation present study demonstrated occurrence c cbl mutations lung cancer patients especially different ancestral variations mutations c cbl recently reported juvenile myelomonocytic leukemia myeloid malignancies aml study mutation rq located junction ring finger linker region inhibited fms like tyrosine kinase flt internalization ubiquitination thus contributing gain function rtk addition mutations hy cr lp mapped ring finger domain linker region c cbl required e activity additionally homozygous mutations ring finger domain c cbl gene described result acquired uniparental disomy upd important note results indicate loh q locus mutually eclusive missense mutations c cbl somatic mutations heterozygous mutations aml led abrogation e activity leading prolonged rtk activation addition mutants located linker region surrounding ring finger domain ehibited enhanced akt signaling response cytokine stimulation addition shown nht cells neither mutations ring finger linker region causes transformation however certain mutations perturbs ubiquitination others affect receptor recycling prolong kinase activity report c cbl mutations mapped ring finger domain also tkb domain proline rich domain c terminal region none mapped linker region reported aml studies described addition mutants detected found different ethnic backgrounds eample sn hy qe w detected caucasians taiwanese african americans respectively results point difference lung cancer cancers also genetic polymorphism among different races cancer interestingly large disparity african american ethnic populations lung cancer previously shown low frequency egfr met mutation african americans compared taiwanese caucasians study number african american samples analyzed relatively fewer found mutations unique ethnicity would behoove us study genetic alterations occur determine targeted therapeutics african americans results provide evidence importance c cbl tumorigenesis potential signaling prediction based aml data would vi ring finger domain mutation would affect e activity also important determine binding partners c cbl tkb domain proline rich domain mutations previously shown tkb domain bind growth factor receptors important determine cross binding mutants met egfr would also important future look fluorescence situ hybridization copy number changes c cbl lung cancer c cbl plays important role regulating rtk mediated signaling k poly ubiquitination subsequent downregulation rtks followed lysosomal degredation mono ubiquitination ubiquitinated k linked chains substrates c cbl may lead enhancement biological biochemical functions reviewed hermann et al mutations analyzed studies point fact e activity c cbl egfr intact egfr levels various mutants remain figure multiple kinases rtks non rtks could acted upon c cbl including erbs pdgfr fms met c kit vegfr flt ron fgfr ir well syk fyn lck fgr lyn c abl lung cancers relevant substrates c cbl terms degradation signal transduction yet identified observation c cbl somatic mutations especially sn hy qe w showed increased cell viability cell motility agreement physiological role cbl regulation apoptosis differentiation identified drosophila significant previously shown activating c cbl mutation downregulates egfr signaling decreases cellular proliferation migration breast cancer cell lines although role c cbl negative regulation rtks well substantiated thereby suggesting natural tumor suppressor studies cancer cells revealed tumor suppressor tumor promoting activities depending type c cbl mutation number alleles c cbl locus agreement three c cbl mutants described appear tumor growth metastasis promoting properties although mutants outside ring finger linker region c cbl downstream effects significant cause increased proliferation migration substrate affected mutations known yet raises possibility cellular functions c cbl independent ubiquitin ligase activity area currently investigating oncogenic nature rtks addiction cancers growth signals given clustering c cbl egfr met mutations possible transforming effect c cbl mutations likely combinatorial effect three also show loh c cbl found significant number samples harbored met egfr mutations fact lung tumor samples likely c cbl mutations additional likely harbor c cbl related loh makes c cbl highly mutated molecule lung cancer since loh alone enough cause transforming event associated mutation met egfr locus yet another rtk discussed may play role carcinogenesis predict loh c cbl results haploinsufficiency downplays rtk ubiquitination leading hyperactivity rtks however whether sufficient cause tumorigenesis remains determined consistent hypothesis fact c cbl mice increased kinase activity lymphocytes sufficient tumor formation c cbl loh could also lead increased epression c cbl allele compensate loss allele alternately could form synergy working reduced c cbl levels mutated receptors eacerbate phenotype alone previous studies lab others shown east asians lung cancers relatively high frequencies gain function mutations rtks egfr met cohort japanese patients activating met mutation identified splice region deletes jutamembrane domain involved e activity c cbl study also found activation met mutually eclusive egfr kras gene mutations failed detect mutations significant numbers lung tumor samples obtained african americans n caucasian n patients one met mutation identified groups whereas egfr mutations identified african american caucasian cohorts respectively egfr mutations earlier identified one key mutations affecting lung adenocarcinoma patients comprehensive study patients study encompasses different histologies nsclc however published series find mutations c cbl met unlike study encompassed different subtypes nsclc important note recently shown met mutations lung cancer majority germline reported earlier c cbl mutations small cohort taiwanese lung cancer samples efforts understand ethnic differences lung oncogenome also looked pa transcription factors pa pa highly epressed lung cancers however preferential epression mutations genes lung tumor samples african americans study show relatively high frequency c cbl mutations lung cancers especially large cell type among caucasians particularly among african americans therefore propose c cbl efficacious target lung cancers african americans needs substantiated important prognosis african americans lung cancer especially men much poorer compared caucasian counterparts conclusion results presented study demonstrate c cbl frequently mutated even lost lung cancers results support role c cbl mutants independent ubiquitination activity given relatively high mutation rates c cbl well rtks met egfr likely combined effect could synergistic promoting tumorigenesis',\n",
       "       'abstract background non small cell lung cancer nsclc heterogeneous group disorders number genetic proteomic alterations c cbl e ubiquitin ligase adaptor molecule important normal homeostasis cancer determined genetic variations c cbl relationship receptor tyrosine kinases egfr met functionality nsclc methods findings using archival formalin fied paraffin embedded ffpe etracted genomic dna show c cbl mutations occur somatic fashion lung cancers c cbl mutations mutually eclusive met egfr mutations however independent p kras mutations normal tumor pairwise analysis significant loss heterozygosity loh c cbl locus n none samples revealed mutation remaining copy c cbl c cbl loh also positively correlated egfr met mutations observed samples using select c cbl somatic mutations sn hy qe w obtained caucasian taiwanese african american samples respectively transfected nsclc cell lines increased cell viability cell motility conclusions taking overall mutation rate c cbl combination somatic missense mutation loh clear c cbl highly mutated lung cancers may play essential role lung tumorigenesis metastasis go introduction us alone year approimately people diagnosed lung cancers succumb disease number roughly equivalent combined mortality rates cancers breast prostate colon liver kidney melanoma addition prognosis usually poor five year survival rate less also significant ethnic differences lung cancer outcome worse blacks compared whites gender differences also striking women significantly better prognosis compared men number genetic alterations occur lung cancer eample nsclc mutations kras p egfr met identified many pathways especially receptor tyrosine kinases rtks controlled c cbl cbl casitas b lineage lymphoma mammalian gene located human chromosome q involved cell signaling protein ubiquitination cbl proteins belong ring finger class ubiquitin ligases e three homologues c cbl cbl b cbl c cbl cbl b genes ubiquitously epressed highest levels hematopoietic tissues c cbl consists four regions encoding functionally distinct protein domains n terminal tyrosine kinase binding tkb domain linker region catalytic ring finger domain proline rich region c terminal ubiquitin associated uba domain also overlaps leucine zipper lz domain tkb ring finger domains essential ligand induced ubiquitination rtks ring finger domain required recruitment e ubiquitin conjugating enzymes tkb domain includes four heli bundle h calcium biding ef hand modified sh domain binds phosphotyrosine residues addition proline rich region c cbl associate sh domain grb indirectly recruit c cbl rtks via grb adaptor protein c cbl also binds egfr acts e targets egfr ubiquitination degradation furthermore cbl desensitizes egf signaling opposes cellular proliferation induced egf egf activation also appears activate tyrosine kinase src phosphorylates c cbl turn activates ubiquitination degradation egfr recent study shows defective endocytosis egfr characterized deletion mutant point mutation lr whereby association c cbl subsequent ubiquitination impaired recently first human c cbl mutations reported acute myeloid leukemia aml patients mutation rq inhibits fms like tyrosine kinase flt internalization ubiquitination e activity important oncogenesis c cbl dual separate function signal transduction molecule previously shown c cbl important binding crkl bcr abl hematopoietic cells also bind modulate functions cytoskeleton binding proteins like talin paillin tkb domain important binding number molecules function signal transduction given critical role cbl normal homeostasis cancer hypothesized might mutated lung cancers study report novel c cbl somatic mutations sn hy qe w caucasian taiwanese african american lung cancer patients respectively epressing mutations nsclc cell lines lead increased proliferation cell motility show c cbl mutations occur without met egfr mutations mutually eclusive loh c cbl locus additionally c cbl loh associated either met egfr mutations thus hypothesize c cbl mutations might contribute oncogenic potential met egfr lung cancer go methods ethics statement written consent research human subjects obtained institutional review board university chicago covers research performed laboratory following contact information institutional review board university chicago mcgiffert hall woodlawn ave nd floor chicago il written informed consents received patients whose tissue samples used study tissue samples lung cancer tissue paired adjacent normal lung tissues obtained caucasian african americans taiwanese nsclc patients recruited university chicago hospital chicago usa caucasian african american patients taipei veterans general hospital taiwan taiwanese patients obtaining appropriate institutional review board permission informed consent patients samples men women unknown age diagnosis ranging years terms tumor types adenocarcinoma squamous cell carcinoma large cell carcinoma stage stage ii stage iii stage iv table cell culture human non small cell lung carcinoma cells h maintained dmem rpmi respectively human embryonic kidney cells cultured dmem media supplemented fetal bovine serum units ml penicillin g ml streptomycin invitrogen carlsbad ca cells cultured c humidified incubator containing co c cbl gene mutational analysis eons c cbl gene individually amplified polymerase chain reaction pcr primers listed table pcr conditions cycle c minutes cycles c seconds c seconds c minutes one cycle c minutes pcr products treated eosap usb corporation cleveland oh sequenced big dye terminator chemistry applied biosystems foster city ca sequencing performed forward coding strand confirmation c cbl alterations performed sequencing reverse strand well chromatograms analyzed mutations using mutation surveyor v softgenetics state college pa plasmid constructs site directed mutagenesis wild type c cbl cdna insert subcloned palterma epression vector using hoi sali restriction enzyme sites promega madison wi using parental plasmid palterma c cbl tkb domain double mutation sn hy point mutation qe c terminal point mutation w c cbl created using following primers gctggcgctaaagaataacccaccttatatcttagac ctaccagatacctaccagtatctccgtactatcttgtc double mutation sn hy ctttacccgactctttgagccctggtcctctttgc qe cagctcctcctttggctgattgtctctggatggtgatc w along complementary primers using quickchange site directed mutagenesis l kit stratagene la jolla ca according manufacturer instructions constructs confirmed point mutations standard dna sequencing strands loss heterozygosity loh analysis five microsatellites chromosome q within kb downstream c cbl gene control markers p selected analysis table established microsatellite markers respective primer sequences selected geneloc database http genecards weizmann ac il geneloc inde shtml weizmann institute science rehovot israel primers custom designed forward primer fluorescently labeled end fam pet ned vic applied biosystems primer annealing temperatures duple scores evaluated nist primer tools http yellow nist gov dnaanalysis primertoolspage national institute standards technology gaithersburg md primers verified performing pcr control dna isolated tk cells resolving products agarose gels bands visualized uv transilluminator genomic dna etracted tumor samples paired normal lung tissue primers grouped multiple combinations shown table marker ds served internal control check consistency pcrs peaks capillary electrophoresis multiple pcrs carried volume l contained l genomic dna ng primer total primer pair dntps pcr buffer containing mgcl u taq dna polymerase pcr performed abi geneamp pcr system following conditions min c cycles sec c min c min c min c pcr products separated capillary electrophoresis abi l dna analyzer chromatograms analyzed peak scanner genemapper software applied biosystems allelic alterations area peaks produced dna pcr products quantified allele ratio allelic areas calculated tumor paired normal dna sample qloh allelic ratio tumor peaks divided allelic ratio paired normal sample c cbl least one q marker least two separate eperiments sample considered allelic imbalance interpreted loh samples evaluated least two separate eperiments samples showing prospective loh c cbl repeated third time included new control marker ba locus data shown chromosome verify integrity sample dna transfection c cbl constructs cell line transfected using fugene hd roche nutley nj reagent according manufacturer instructions eight g plasmid dna containing either insert empty vector wild type c cbl sn hy c cbl qe c cbl w cbl used transfection well culture plate cells harvested h transfection analyzed epression c cbl knockdown c cbl knockdown performed using lentiviral transduction using mission lentiviral transduction particles sigma aldrich st louis mo per manufacturer instructions briefly h cells well seeded well plates infected following day c cbl lentiviral shrna constructs generate stable c cbl knockdown cell lines cells selected days g ml puromycin c cbl levels determined using whole cell lysates immunoblotting anti cbl antibody santa cruz biotechnologies santa cruz ca cell viability assay cells transfected described transfection assay forty eight hours transfection viability cells assessed using trypan blue eclusion wound healing assay cells seeded well plates cultured h confluent medium changed cells transfected described transfection assay twelve hours transfection straight scratch made across cell layer using ml pipette tip cells gently washed pbs remove cellular debris media replaced photographs taken wound region every h h western blot analysis forty eight hours transfection cells collected washed twice pbs lysed ice cold lysis buffer tris hcl ph nacl deoycholic acid mm edta np mm dtt mm phenylmethylsulfonyl fluoride g ml leupeptin g ml aprotinin minutes lysate centrifuged rpm minutes c protein content supernatant measured total cell lysates g well separated sds page electrophoresis gels transferred onto nitrocellulose membranes whatman piscataway nj membranes blocked non fat dry milk phosphate buffered saline containing tween pbst pbs tween h room temperature incubated appropriate primary antibody c overnight membranes washed three times pbst probed appropriate horseradish peroidase hrp conjugated secondary antibody h room temperature membranes washed three times pbst bands visualized using western blot chemiluminescence reagent biorad valencia ca chemidoc gel documentation system biorad valencia ca antibodies obtained santa cruz biotechnologies used following dilutions c cbl c met egfr ubiquitin ha actin flow cytometry cell cycle analysis carried flow cytometry approimately cells grown media containing fbs cells harvested trypsin edta treatment washed pbs three times fied ice cold ethanol h cells washed cold pbs stained solution containing g ml propidium iodide g ml rnase triton minutes dark cell cycle analysis performed using guava pca flow cytometer guava technologies millipore billerica ubiquitin ligase activity cells maintained culture dmem supplemented fbs penicillin units ml streptomycin g ml transfected g egfr pcdna g ha tagged c cbl constructs indicated using calcium phosphate according manufacturer protocol profection promega madison wi twenty four hours post transfection cells starved overnight dmem supplemented fbs treated without egf ng ml min cells collected washed two times ice cold pbs containing mm sodium orthovanadate lysed ice cold lysis buffer mm tris hcl ph mm nacl mm edta triton glycerol mm sodium orthovanadate protease inhibitors lysates cleared debris centrifugation g min c egfr immunoprecipitations performed g cleared lysate using ng rabbit anti egfr protein g plus sepharose overnight c precipitations washed times lysis buffer boiling laemmli buffer elutions immunoblotted anti ubiquitin egfr twenty micrograms cleared lysate immunoblotted c cbl constructs using anti ha statistical analysis mutation rates different groups compared using fisher eact test continuous variables group comparisons performed using analysis variance anova followed sidak adjustment multiple comparisons eperiments involving repeated measurements time analyzed using repeated measures anova greenhouse geisser adjustment degrees freedom analyses conducted using stata v software stata corporation college station go results c cbl gene mutations lung cancer investigate role c cbl lung cancer analyzed genomic dna tumor paired normal samples drawn multiple ethnicities lung tumor samples represented caucasians n african americans n taiwanese n lung cancer patients designed pairs primers sequence coding region c cbl gene spans eons table identified unique somatic mutations c cbl eons among different patients variation lf known snp rs eon also detected importantly eight novel non synonymous mutations confirmed sequencing strands c cbl genomic dna obtained lung tumor samples table moreover none mutations detected corresponding normal tissue indicating somatic mutations four synonymous single nucleotide variations snvs also identified used study table table c cbl mutation analysis lung cancer patient tumor tissues three novel non synonymous mutations located tkb tyrosine kinase binding domain sn hy qe one ring finger domain vi one proline rich region del atg three c terminal region w rk c cbl protein figure figure figure b show model chromatograms representative samples figure figure c cbl mutations loh non small cell lung cancer q loh c cbl gene paired lung tumor normal lung tissue samples taiwanese patients n investigated loh eight showed loh c cbl locus chromosome samples revealed normal allelic contribution microsatellite markers figures c c cbl mutations different ethnic groups c cbl double mutant sn hy found patient overall mutation rate c cbl lung tumors frequency c cbl mutation highest large cell carcinoma patients followed squamous carcinoma patients least observed adenocarcinoma ad patients although rates statistically significant p mutation rates among caucasians ad sq lc african americans ad sq lc ad sq lc taiwanese population additionally two taiwanese patients lung cancer one squamous one adenocarcinoma known snp lf ethnic differences statistically significant however power detect differences low mutations met egfr co associated c cbl alterations since east asians lung cancer higher frequency egfr met mutations lung tumors also determined mutations egfr met taiwanese cohort samples compared results observed c cbl alterations loh mutations samples tested find overlap c cbl mutations c cbl loh figure three c cbl mutants including known lf snp rs one samples met mutation ns egfr mutation lr among samples loh c cbl locus additional mutation met ns egfr eon deletion twenty si samples neither c cbl mutation c cbl loh patients c cbl mutation c cbl loh among samples met mutation ns lw egfr mutation eon deletion lr met egfr mutation thus rate met egfr mutations among patients loh c cbl locus similar seen patients without c cbl mutation loh patients p patients identifiable mutation c cbl met egfr represented patients analyzed taiwanese patient cohort conversely taiwanese lung cancer patients identifiable mutation either c cbl met egfr combination three genes figure additionally determined p kras mutations taiwanese cohorts two p kras mutation detected single kras mutation overlapped one p mutation patient also egfr eon deletion c cbl mutation p mutation sample c cbl loh concurrent met ns mutation thus taiwanese samples analyzed p kras mutations c cbl mutations mutually eclusive data shown figure figure c cbl mutations relationship met egfr mutations lung cancer cellular functions c cbl alterations contet lung tumorigenesis e activity intact mutant c cbl proteins investigate whether different c cbl mutations affect e activity egfr chosen model substrate c cbl e function c cbl mutants tested enhanced ubiquitination activated egfr similar wild type c cbl protein result demonstrates catalytic activity c cbl mutants impaired egfr substrate figure figure figure ubiquitination viability epression cell cycle analysis various c cbl mutants b effect lung cancer cell viability effect representative c cbl mutant three ethnic backgrounds lung cancer cell viability cell lines determined sn hy double mutation qe w identified lung tumor samples obtained caucasian taiwanese african american respectively described methods c cbl wild type wt three mutants epressed cloning palterma vector cells cells epress relatively low basal levels endogenous c cbl data shown transfection efficiency comparable different groups number cells transfected c cbl wild type construct compared control cells transfected empty vector cells transfected sn hy qe w c cbl mutant constructs resulted increased number viable cells higher respectively relative empty vector control transfected cells significantly different wild type construct p p p respectively figure b relative levels c cbl protein whole cell lysates prepared samples obtained parallel eperiment determined c cbl protein levels samples representing untransfected empty vector transfected cells comparable representing c cbl wt three c cbl mutants comparable figure c c effect cell cycle investigate increases cell viability different c cbl mutants due increased cellular proliferation cell cycle analysis performed cells transfected c cbl wt three different mutants sn hy qe w empty vector transfectant used control forty eight hours transfection cell cycle analysis performed described materials methods significant change subg g phase cell cycle among different mutants compared wt construct p p p respectively g phase cell cycle showed increase cell numbers three mutants sn hy qe w compared wt difference statistically significant p figure effect cell motility investigate effect epression three c cbl mutants cell migration carried wound healing assay described materials methods closing scratch wound monitored h figure samples represented cells transfected mutants wound gap much smaller seen sample represented cells transfected c cbl wt p also determined rate wound closure five groups h wild type c cbl transfectants showed open wound sn hy qe w mutants showed open wound respectively p figure b figure figure c cbl mutations affect wound healing cells e c cbl knockdown increases cell viability hypothesized loh seen samples could lead decreased epression c cbl thus tested effect c cbl knockdown lung cancer cells compared h lung cancer cells epress relatively high levels endogenous c cbl data shown c cbl epression knocked using lentiviral construct epressed c cbl specific shrna compared results transduced scrambled shrna results shown figure identified several clones revealed varying degrees c cbl knockdown showing different sets c cbl lentiviral shrna knockdown efficiency figure clones tested clone chosen eperiments equal amount cells seeded well plate cell proliferation measured various times results depicted figure b epected number cells increased time dependent fashion relative scrambled shrna control span h p figure b cell cycle phases h cells knocked c cbl shrna looked compared scrambled shrna discernable differences two constructs different phases cell cycle data shown figure figure knockdown c cbl using shrna increases cell proliferation go discussion results demonstrate c cbl somatically mutated loh lung cancers significantly contribute enhanced cell viability motility also high prevalence loh respect c cbl lung tumors harbored met egfr mutation present study demonstrated occurrence c cbl mutations lung cancer patients especially different ancestral variations mutations c cbl recently reported juvenile myelomonocytic leukemia myeloid malignancies aml study mutation rq located junction ring finger linker region inhibited fms like tyrosine kinase flt internalization ubiquitination thus contributing gain function rtk addition mutations hy cr lp mapped ring finger domain linker region c cbl required e activity additionally homozygous mutations ring finger domain c cbl gene described result acquired uniparental disomy upd important note results indicate loh q locus mutually eclusive missense mutations c cbl somatic mutations heterozygous mutations aml led abrogation e activity leading prolonged rtk activation addition mutants located linker region surrounding ring finger domain ehibited enhanced akt signaling response cytokine stimulation addition shown nht cells neither mutations ring finger linker region causes transformation however certain mutations perturbs ubiquitination others affect receptor recycling prolong kinase activity report c cbl mutations mapped ring finger domain also tkb domain proline rich domain c terminal region none mapped linker region reported aml studies described addition mutants detected found different ethnic backgrounds eample sn hy qe w detected caucasians taiwanese african americans respectively results point difference lung cancer cancers also genetic polymorphism among different races cancer interestingly large disparity african american ethnic populations lung cancer previously shown low frequency egfr met mutation african americans compared taiwanese caucasians study number african american samples analyzed relatively fewer found mutations unique ethnicity would behoove us study genetic alterations occur determine targeted therapeutics african americans results provide evidence importance c cbl tumorigenesis potential signaling prediction based aml data would vi ring finger domain mutation would affect e activity also important determine binding partners c cbl tkb domain proline rich domain mutations previously shown tkb domain bind growth factor receptors important determine cross binding mutants met egfr would also important future look fluorescence situ hybridization copy number changes c cbl lung cancer c cbl plays important role regulating rtk mediated signaling k poly ubiquitination subsequent downregulation rtks followed lysosomal degredation mono ubiquitination ubiquitinated k linked chains substrates c cbl may lead enhancement biological biochemical functions reviewed hermann et al mutations analyzed studies point fact e activity c cbl egfr intact egfr levels various mutants remain figure multiple kinases rtks non rtks could acted upon c cbl including erbs pdgfr fms met c kit vegfr flt ron fgfr ir well syk fyn lck fgr lyn c abl lung cancers relevant substrates c cbl terms degradation signal transduction yet identified observation c cbl somatic mutations especially sn hy qe w showed increased cell viability cell motility agreement physiological role cbl regulation apoptosis differentiation identified drosophila significant previously shown activating c cbl mutation downregulates egfr signaling decreases cellular proliferation migration breast cancer cell lines although role c cbl negative regulation rtks well substantiated thereby suggesting natural tumor suppressor studies cancer cells revealed tumor suppressor tumor promoting activities depending type c cbl mutation number alleles c cbl locus agreement three c cbl mutants described appear tumor growth metastasis promoting properties although mutants outside ring finger linker region c cbl downstream effects significant cause increased proliferation migration substrate affected mutations known yet raises possibility cellular functions c cbl independent ubiquitin ligase activity area currently investigating oncogenic nature rtks addiction cancers growth signals given clustering c cbl egfr met mutations possible transforming effect c cbl mutations likely combinatorial effect three also show loh c cbl found significant number samples harbored met egfr mutations fact lung tumor samples likely c cbl mutations additional likely harbor c cbl related loh makes c cbl highly mutated molecule lung cancer since loh alone enough cause transforming event associated mutation met egfr locus yet another rtk discussed may play role carcinogenesis predict loh c cbl results haploinsufficiency downplays rtk ubiquitination leading hyperactivity rtks however whether sufficient cause tumorigenesis remains determined consistent hypothesis fact c cbl mice increased kinase activity lymphocytes sufficient tumor formation c cbl loh could also lead increased epression c cbl allele compensate loss allele alternately could form synergy working reduced c cbl levels mutated receptors eacerbate phenotype alone previous studies lab others shown east asians lung cancers relatively high frequencies gain function mutations rtks egfr met cohort japanese patients activating met mutation identified splice region deletes jutamembrane domain involved e activity c cbl study also found activation met mutually eclusive egfr kras gene mutations failed detect mutations significant numbers lung tumor samples obtained african americans n caucasian n patients one met mutation identified groups whereas egfr mutations identified african american caucasian cohorts respectively egfr mutations earlier identified one key mutations affecting lung adenocarcinoma patients comprehensive study patients study encompasses different histologies nsclc however published series find mutations c cbl met unlike study encompassed different subtypes nsclc important note recently shown met mutations lung cancer majority germline reported earlier c cbl mutations small cohort taiwanese lung cancer samples efforts understand ethnic differences lung oncogenome also looked pa transcription factors pa pa highly epressed lung cancers however preferential epression mutations genes lung tumor samples african americans study show relatively high frequency c cbl mutations lung cancers especially large cell type among caucasians particularly among african americans therefore propose c cbl efficacious target lung cancers african americans needs substantiated important prognosis african americans lung cancer especially men much poorer compared caucasian counterparts conclusion results presented study demonstrate c cbl frequently mutated even lost lung cancers results support role c cbl mutants independent ubiquitination activity given relatively high mutation rates c cbl well rtks met egfr likely combined effect could synergistic promoting tumorigenesis',\n",
       "       ...,\n",
       "       'runt related transcription factor gene run aliases aml cbfa pebpab belongs family three evolutionarily conserved genes run run run code transcription factors involved cell lineage differentiation development run gene located chromosome q crucial establishment definitive hematopoiesis generation hematopoietic stem cells embryo run located chromosome p essential osteogenesis run located chromosome p plays major role neurogenesis thymopoiesis members family share amino acid region high sequence homology known runt domain first identified drosophila runt gene addition runt homology domain rhd amino acid sequence vwrpy conserved c terminal end three gene products runt domain responsible heterodimerization core binding factor b cbf b pebpb form transcription factor dna binding run gene spans kb consists eons two distinct promoters followed initiation codon atg run protein composed amino acids contains several regions major importance figure rhds coded eons located n terminal part amino acids transcription activation domain tad amino acids coded part eon eon transcription inhibition domain amino acids vwrpy sequence three located c terminal region two promoters kb apart generate several alternatively spliced mrnas differing types untranslated regions utrs coding regions although least different run mrnas generated two splice variants well characterized distal promotor driven transcript runb codes amino acid protein proimal promotor driven transcript runc amino acid protein rhd retained transcripts fulllength coding regions harbor c terminal half protein regulates transcription third splice variant runa codes protein retains rhd lacks tad protein higher affinity dna binding suppresses transcriptional activation runb run acts key regulator hematopoiesis regulation various hematopoietic genes including growth factors gm csf mpo il surface receptors tcra tcrb csf receptor flt signaling molecules cdkna blk bcl transcription activators stat myb run protein acts activator repressor target gene epression depending upon large number transcription factors coactivators corepressors interact run functions organizing protein facilitates assembly transcriptional activation repression complees figure recruitment non dna binding proteins p cbp histone acetyltransferase hat contributes activation transcription target genes upon recruitment non dna binding repressors msina groucho tle histone deacetylase hdac represses transcription target genes run translocations translocations involving run shown frequent others reported single cases figure present partner chromosome bands described partner gene identified translocations molecular level table five translocations known frequent malignant hemopathies involve si different partner genes p q translocation rare recurrent translocation associated therapy related acute myeloid leukemia myelodysplasia aml mds results run prdm pr domain containing fusion gene q q translocation recurrent rearrangement observed patients de novo therapy related aml therapyrelated mds chronic myeloid leukemia blastic phase translocation often included comple karyotype prognosis poor three genes shown fuse run rpll alias eap ribosomal protein l like mecom mds evi comple locus previously known mds evi ectropic viral integration site q q first described rowley shown involve runt aliases eto mtg gene early run runt fusion gene identified patients aml subtype frequently associated cytogenetic abnormalities complete remission achieved majority patients relapse usually occurs within years p q common structural chromosomal abnormality pediatric common b cell acute lymphoblastic leukemia accounting approimately cases complete remission achieved almost patients prognosis good although late relapse possible molecular level translocation fuses region etv alias tel almost entire coding region run first described raimondi et al case aml subtype q q reported patients including aml patients chemotherapy previous cancer translocation shown induce formation new chimeric gene involving run cbfat alias mtg core binding factor runt domain subunit translocated genes partner genes sequences identified translocations associated one cases malignant hemopathies table fusion genes characterized described elsewhere total translocations also seldom reported table translocations run gene shown disrupted presumably leading fusion run gene yet unidentified gene partner however cases translocations involve break point located band partner gene already identified true eample translocations involving bands q q q whether translocations involve already known partner gene different gene remains determined unusual comple rearrangements involving run gene comple translocations involving three four chromosomes insertions reported fewer cases table two translocations genes identified lead formation run runt run etv fusion gene comple variant translocations reported cases run runt fusion gene remaining patients classic q q compilation si studies totaling patients run runt identified real time pcr rt pcr real time quantitative pcr rna based pcr demonstrates patients usual q q whereas remaining patients unusual comple rearrangement among latter patients nine patients three way translocation two four way translocation seven insertion literature search allowed us retrieve comple translocations involving run gene band q table involvement runt gene searched ten cases assumed translocations variant translocations still one cannot eclude possibility another gene located band q fused run see band q elsewhere fusion occurred gene located third chromosome run run runt fusion gene identified remaining translocations three way si four way translocations three way translocations could recognized conventional cytogenetics however patients variants masked appeared involve chromosome chromosome chromosome however cases fluorescent situ hybridization fish using dual color aml eto probe rt pcr confirmed involvement genes formation fusion gene chromosomes ecept chromosomes involved comple translocations involved chromosomes identified five translocations chromosomes four translocations however even among chromosomes band found nonrandomly broken three way translocations three fusion genes theoretically generated one fusing region run region runt second fusing region runt part another gene third fusing part gene region run whether generation fusion genes associated aggressive disease among patients three way translocation classic remains elucidated unfortunately best knowledge group tried identify fusion genes however one cannot eclude apparently comple translocations could result two consecutive translocations cases standard run runt fusion gene would created whereas subsequent translocation would involve loci close different run runt genes total chromosomal fragment insertions leading run runt fusion also retrieved literature table includes insertion chromosome material including portions run gene band q si patients vice versa insertion chromosomal material including portions runt band q nine patients insertions material chromosome chromosome cryptic although one suspected g banded metaphases insertions chromosome material chromosome identified conventional cytogenetics involved larger chromosomal fragments comple translocations involving chromosomes another chromosome rarely reported three two three way one four way translocations fish using dual color tel aml probe rt pcr confirmed presence fusion gene insertion even rarer one case insertion q band p formation run etv fusion gene reported table structure function fusion genes fusion genes classified five categories according structure consequence function table addition translocation lead different fusion products acting different mechanisms indeed alternate splicing transcripts reported many fusion genes involving run leading frame fusion products without others leading frame fusion products furthermore studies focused consequences chimeric proteins transcriptional activity run analyzed contributions fusion partners leukemogenesis however strong evidence run partner could cooperate contribute leukemogenesis using different pathways involving eample gata ras chimeric genes involving run fuse part gene part partner gene rhd located region run retained fusion genes tad situated part gene table several translocations also lead truncated fusion genes retaining rhd tad run truncated run gene products may compete wildtype run act dominant constitutive repressors inhibiting function normal run table run prdm fusion gene obtained result p q translocation retains rhd run almost entire prdm gene since run prdm gene shares etensive homology run mecom likely run prdm protein acts similar way shown run mecom protein translocation also generates truncated run transcript containing rhd p q translocation described year old male aml nguyen et al leads formation run ythdf yth domain family member transcript includes rhd tad run breakpoint occurs intron ythdf gene si eons translated eons therefore fusion protein truncated run protein without translating ythdf q q translocation generates frame chimeric run znf zinc finger protein gene breakpoint located intron run gene result fusion protein retains first amino acids run first seven amino acids rhd leading truncated presumably nonfunctional rhd would prevent cbf b dna binding transcriptional activation target genes involved hematopoietic differentiation cytogenetic analysis leukemic cells patient cell acute lymphoblastic leukemia revealed q q translocation molecular analysis revealed three run aff alias laf af fmr family member fusion transcripts one frame one frame one showing premature termination due insertion intronic sequence breakpoints occurred intron run three retained rhd q q translocation leads formation among others run mecom transcript includes rhd run two zinc finger clusters mecom chimeric protein accumulate pebpb nucleus efficiently wild type run mechanism contributing leukemogenesis consequence run mecom eerts dominant negative effect wild type run transcription activation antiapoptotic effect owing first zinc finger domain proliferation stimulation effect owing second zinc finger domain run rpll transcript resulting q q translocation includes rhd run last codons rpll fusion mrna terminated frame stop codon shortly junction run rpll likely run rpll protein acts negative inhibitor run protein q q translocation fuses region run gene breakpoint intron codon sequence novel gene named fga fused gene aml rearrangement leads stop codon chimeric gene resulting truncated run protein possessing rhd domain tad q q translocation identified one patient acute myeloblastic leukemia leads formation frame run shd src homology domain protein also known een binding protein transcript includes rhd run gene full length coding sequence shd gene cryptic p q translocation leads formation run usp fusion gene includes rhd part tad run almost entire open reading frame ecept eon usp ubiquitinspecific protease gene unlike chimeric genes breakpoint occurs tad run usp fusion gene occurs within tad however likely nonfunctional disrupted run runt protein product generated q q translocation tad run normally binds transcriptional coactivators p cbp replaced almost entire runt consequence fusion protein recruits corepressor comple involving n cor msina smrt hdacs instead coactivators p cbp therefore run runt transcript functions transcriptional repressor genes normally activated run furthermore genes tisb alias erf downstream control fusion protein overepressed contribute leukemogenesis q q translocation generates frame chimeric gene encodes protein made n terminal portion run retaining rhd entire trps trps tricho rhino pharyngeal syndrome type gene encodes nuclear transcription factor ten zinc finger domains including gata type zinc finger agerstam et al described q q generated chimeric gene made first four eons run repetitive sequences gene unknown function result fusion protein contained truncated rhd amino acids chromosome ending stop codon therefore truncated run protein may compete wild type run act dominant constitutive repressor inhibiting function normal run q q translocation generates two frame chimeric transcripts alternate splicing encode proteins made n terminal portion run retaining rhd c terminal lpn leupain member paillin superfamily adaptor proteins lpn preferentially epressed hematopoietic cells negatively regulates b cell receptor signaling frame fusions rhd run retained early stop codon occurs lpn gene also generated two run macrod alias lrp macro domain containing fusion genes owing alternate splicing identified following molecular analysis q q translocation retain rhd run full length coding sequence include eon macrod gene precise biological function remains elucidated molecular level p q translocation fuses region etv region run etv run fusion gene retains rhd tad run well promoter central repression domain etv etv run fusion protein retains ability bind run target sequences potential function hdac dependent repressor causing deregulation run target genes molecular analysis q q translocation revealed frame fusion run cpne copine viii gene resulting translational termination two amino acids copine viii thus truncated run protein truncated protein contained rhd tad breakpoint occurred intron run gene significant homology cbfat fused run q q translocation runt suggests run cbfat run runt fusion genes similar activity run cbfat protein altered transcriptional corepressor capable recruitingthe q q translocation fuses end run gene breakpoint intron nucleotide sequence chromosome termed amp rearrangement leads frame fusion gene resulting truncated run protein bearing rhd domain tad rare p q translocation leads formation frame run prd transcript includes rhd run gene prd gene member peroiredoin family peroidase activity also involved cellular functions including cell proliferation differentiation chan et al described patient myelodysplastic syndrome associated p q identified conventional cytogenetics demonstrated fish molecular studies three way translocation p q q leading run zfpm fusion gene zfpm gene zinc finger protein multitype alias fog friend gata encodes protein retains rhd run zinc fingers interact gata proteins ctbp corepressor c terminal binding protein interaction domain zfpm two patients presenting chronic myelomonocytic leukemia associated cryptic inv qq found usp run fusion transcript cases transcript open reading frame made part usp ubiquitin specific peptidase gene part run furthermore rhd coded eons run gene preserved fusion protein identification two new partners run gene bone marrow peripheral blood patients myeloid leukemia referred cytogenetics laboratory university hospital brest usually analyzed fish using bacterial artificial chromosome bac clones search fusion genes involving run gene approach allowed us identify new partner gene one case demonstrate another case compleity rearrangements involving band q three run partners already identified analysis q q conventional cytogenetic analysis peripheral blood cell culture woman chronic myelomonocytic leukemia cmml myelodysplastic myeloproliferative neoplasm identified karyotype seven cells studied however fish analysis using dual color tel aml probe abbott rungis france showed disruption aml probe localization part small chromosome abnormalities chromosome recurrently observed cmml p q subtelomeric probes abbott applied analysis showed q subtelomere translocated long arm chromosome signing presence cryptic translocation involving bands q q q q fish analyses performed bac clones located q clone rp g covering run gene clones rp l rp l normally located band q found split breakpoint hybridization rp l rp g showed colocalization signals result probable fusion gene bac clones rp l rp l contain zfp zinc finger protein homolog gene protein coded gene could involved transcription regulation sakamoto et al showed zfp protein interacted intracellular domain notch signaling protein major role mesenchymal cell differentiation furthermore epression zfp control run belonging gene family analysis q q comple translocation involving five chromosomes included chromosomes p q q q q identified bone marrow cells yearold patient acute myeloblastic leukemia without maturation aml fab classifi ca fab classification relapse following bone marrow trans relapse following bone marrow transplantation fish analysis using dualcolor tel aml probe showed disruption aml probe translocation part chromosome band q fish analyses performed bac clones located q covering mecom comple locus rpll gene already known fused run translocations clone rp g covering run gene case breakpoint occurred clones rp p rp c q eight megabases distal mecomrpll cluster therefore arguing involvement another gene three genes mapped interval rp p rp c including wig wild type p induced gene gene could good candidate fuse run located nucleus contains three zinc finger domains putative nuclear localization signal unfortunately remaining material available cytogenetic molecular studies case illustrates importance always identifying partner gene even run involved recurrent translocation known partner gene conclusion translocations involving run lead formation fusion transcript made region run including rhd tad fused region partner gene breakpoints concentrated introns run gene figure one eception run etv fusion gene sequences run including rhd tad fused region etv including promotor translocations retain rhd remove tad leukemogenic effect acting dominant negative inhibitors wild type run transcription activation mimicking normal rare runa splice variant higher affinity dna binding suppresses transcriptional activation runb future perspective given crucial role run establishment definitive hematopoiesis generation hematopoietic stem cells epected future studies try better understand implication normal hematopoiesis thus provide data leukemogenic effects fusion genes involving run possibly give useful information phenotypic heterogeneity leukemia associated run abnormalities much learned currently unidentified genes discovered putting insight mechanisms partner genes run may cooperate contributing leukemogenesis using several different pathways hdacs thus repressing epression run target genes eecutive summary normal function structure run gene n run crucial role establishment definitive hematopoiesis generation hematopoietic stem cells embryo n run spans kb consists eons two distinct promoters generating least different spliced mrnas n run acts key regulator hematopoiesis regulation various hematopoietic genes n run protein two major domains biological significance runt homology domain transcription activation domain n run protein acts activator repressor target gene epression translocations involving run gene n partner chromosome bands involved translocations run gene described n translocations recurrent majority reported single cases n comple translocations involving three four chromosomes insertions reported rarely cases fusion genes involving run gene biological consequences n total partner genes involved fusion run gene characterized n alternative splicing transcripts reported many fusion genes leading different fusion products acting different mechanisms n almost translocations retain runt homology domain remove transcription activation domain n leukemogenic effect acting dominant negative inhibitors wild type run transcription activation table chromosomal translocations involving run gene identified partner gene translocation partner gene disease cases ref p q prdm mds aml p q ythdf aml q q znf aml q q aff cell q q mecom mds aml bcml q q rpll mds aml bcml q q fga cell q q shd aml p q usp aml q q runt aml q q zfpm mds q q trps aml q q gene unknown function aml q q lpn aml q q macrod aml p q etv b cell q q cpne aml q q cbfat aml q q amp aml q q zfp cmml study p q prd aml inv qq usp cmml several dozen even hundreds cases acute lymphoblastic leukemia aml acute myeloid leukemia bcml chronic myeloid leukemia blastic phase cmml chronic myelomonocytic leukemia mds myelodysplastic syndrome table translocations unknown partner gene translocation disease cases ref p q aml p q aml q q aml mb q q mds p q aml p q aml q q aml p q aml q q q q aml q q aml q q cell q q aml q q aml aml cmml p q mds p q p q aml p q aml q q aml p q aml q q aml q q aml q q aml q q aml q q aml q q mds q q aml q q aml aml q q aml q q mds aml q q bcml q q aml p q bcml acute lymphoblastic leukemia aml acute myeloid leukemia bcml chronic myeloid leukemia blastic phase cmml chronic myelomonocytic leukemia mds myelodysplastic syndrome table comple unusual rearrangements involving run gene disease chromosomal rearrangement fusion gene ref aml q q q run aml q q q run aml q p q run aml q q q run aml q q q run aml q q run aml q q run aml q q q run aml q q q run aml q q q run aml p q q run runt aml q q q run runt aml p q q run runt aml q q q q run runt aml q p q run runt aml p p q q run runt aml q q q run runt aml p q q run runt aml q q q run runt aml p q q run runt aml q q q run runt aml q q q q run runt aml p q q run runt aml q q q run runt aml q q q run runt aml p q q run runt aml q q q run runt aml q q q run runt aml p q q run runt aml q q q q run runt aml q p q run runt aml q q q run runt aml q q q run runt aml q q q run runt aml q p q run runt aml q q run runt aml q q run runt aml q p q run runt aml q q q run runt aml q q q run runt aml q q q run runt aml q q q q run runt aml q q q run runt aml q q q run runt aml q q q run runt aml q q q run runt aml q q q run runt aml q q q run runt aml q q q run runt aml q q q run runt aml q q run runt table comple unusual rearrangements involving run gene cont disease chromosomal rearrangement fusion gene ref aml q p q run runt aml q q q run runt aml p p q q run runt aml ins q qq run runt aml ins q qq run runt aml ins q qq run runt aml ins q qq run runt aml ins q qq run runt aml ins q qq run runt aml ins q qq run runt aml ins q qq run runt aml ins q qq run runt aml ins q qq run runt aml ins q qq run runt aml ins q qq run runt aml ins q qq run runt aml ins q qq run runt aml ins q qq run runt mds p q q run zfpm aml p q q q q run unidentified gene pre b q p q q etv run pre b q p q etv run pre b p q q etv run pre b ins p qq etv run acute lymphoblastic leukemia aml acute myeloid leukemia mds myelodysplastic syndrome table structure fusion genes involving run translocation fusion genes frame fusion genes retaining rhd tad run p q run prdm q q run aff q q run mecom q q run shd p q run usp q q run runt q q run trps q q run lpn q q run macrod q q run cbfat p q run prd p q run zfpm truncated fusion genes retaining part rhd tad run q q run znf q q run unknown gene truncated fusion genes retaining rhd tad run p q run prdm p q run ythdf q q run aff q q run rpll q q run fga q q run lpn q q run cpne q q run amp fusion gene retaining rhd run inv qq usp run frame fusion gene retaining rhd tad run p q etv run rhd runt homology domain tad transcription activation domain',\n",
       "       'run aml gene frequent target chromosomal translocation leukemia addition recent studies demonstrated point mutations run gene another mode genetic alteration development leukemia monoallelic germline mutations run result familial platelet disorder predisposed acute myelogenous leukemia fpd aml sporadic point mutations frequently found three leukemia entities aml subtype mds aml secondary therapy related mds aml therapy related leukemias resulting anticancer treatments uncommon incidence run point mutations appears comparable incidence aml subtype inv aml meo subtype half point mutations cases biallelic although frequency varies ethnicity run mutations clustered runt domain result defective dna binding active beta subunit binding consistent three dimensional structural findings may eplain dominant inhibitory effects unlike classical tumor suppressor genes requiring biallelic inactivation haploinsufficient run apparently leukemogenic however run abnormalities per se insufficient cause full blown leukemia intensive investigation cooperating genetic alterations elucidate leukemic mechanisms keywords run aml pebp point mutation familial leukemia top page introduction since discovery philadelphia chromosome chronic myelogenous leukemia leukemia researchers physicians paid much attention investigation chromosomal translocations resultant chimeric genes also case run aml related leukemia also known cbf leukemia hereafter referred run leukemia miyoshi et al identified aml gene located breakpoint chromosomal translocation since leukemia research aml run eclusively concentrated investigating resultant aml run eto mtg run evi tel etv run inv pebpbeta cbfbeta myh osato et al song et al reported run point mutation sporadic familial myeloid leukemia respectively subsequent studies identified point mutations acute myeloid leukemia aml predominantly subtype different ethnic groups preudhomme et al langabeer et al matsuno et al roumier et al b silva et al recently mutations believed cluster within runt domain however mutations c terminal region outside runt domain also identified predominantly mds aml harada et al finally run point mutations turned occur comparable frequency first mode run alterations namely inv secondary mds aml harada et al accordingly run point mutation fully recognized second mode leukemogenesis run leukemia review summarize currently available cases point mutations discuss leukemogenesis mediated run status top page frequency distribution point mutations run gene consists eons eons b c two promoters followed distinct initiation codon eon eon proimal promoter driven transcript starts eon encodes amino acids aa full length whereas distal promoter driven transcript eon encodes aa full length full length contains additional aa instead aa full length n terminal end thus full lengths share eons b nearly complete coding sequence runt domain highly conserved aa protein motif responsible dna binding heterodimerization beta subunit pebpbeta cbfbeta spans aa full length located eons run mutation screening studies covered eons included intron sequences flanking eon studies screened eons well half studies cover eons encoding c terminal moiety transactivation domain spanning aa located types human leukemia ecept chronic lymphocytic leukemia cll etensively investigated addition significant number cell lines including established solid tumors well healthy volunteers also included mutation screenings table langabeer et al vegesna et al harada et al taketani et al total cases tested run alteration including point mutation gene deletion nucleotide changes resulted amino acid changes clear functional defects shown figure however mutations failed show apparent functional alterations nucleotide change may constitutive leukemia specific nucleotide changes lead amino acid change synonymous may generate abnormal splicing donor acceptor site resulting nonfunctional protein enigmatic cases listed variation table numbers mutations table include variation cases mutations clustered within runt domain figure n terminal region runt domain c terminal region total number mutations table figure differs vs compiled mutants figure include cases fpd aml listed table conversely gene deletion included figure biallelic case table provides two distinct mutations simultaneously figure figure unfortunately unable provide accessible alternative tet require assistance access image please contact help nature com author distribution functional consequences run gene mutations mutations bold disease subtypes compiled left corresponding amino acid indicated center amino acids runt domain dark green green bar representing eons listed consecutive manner outside runt domain missense termination frameshift mutations highlighted yellow dark gray gray respectively functional consequences dna binding beta subunit binding dominant negative effects listed right indicates function retention normal hypernormal functions pink red respectively dominant negative effects shown light blue dark blue right end column strong cases dark blue full figure legend k table frequency mutations run aml gene various cancer patients healthy volunteers table frequency mutations run aml gene various cancer patients healthy volunteers unfortunately unable provide accessible alternative tet require assistance access image please contact help nature com author full table top page functional consequence haploinsufficiency entire gene deletions early truncated type mutations frameshift nonsense mutations found significant frequency missense mutations also lost dna binding transcriptional activities figure right middle column since majority cases heterozygous haploinsufficiency appears basis pathogenesis notion strongly supported whole gene deletion fpd aml run status likely provide cells growth advantage overcome selective pressure subject however mechanism mutations would distributed throughout gene without hot spots therefore clustering runt domain suggests mechanism genuine haploinsufficiency important leukemogenesis top page dominant negative effect retained bold italic beta binding activity runt domain eight regions hot spots affected twice figure two different mechanisms probably least partly responsible first primary sequence particular sites seems preferably targeted mutation mechanism r r r encoded triplets containing cpg dinucleotides etremely prone transition type mutations mechanism facilitated methylation cytidine residue rodenhiser et al yoshida et al second certain mutation sites considered provide cells stronger growth advantage selective pressure mapping missense mutations strongly supports notion three regions recurrently affected missense mutations eclusively correspond three loop containing regions responsible dna binding betap loop betap betab betae loop betae betaf betap loop betap c terminus figure nagata et al osato et al tahirov et al consequently mutants defective dna binding packing heterodimerization figure may eplain dominant negative effects run mutants cotransfection assays missense nonsense mutants showed inhibitory effects towards transactivation mediated wild type run mutants bound pebpbeta cbfbeta efficiently wild type run imai et al michaud et al addition pebpbeta protects run ubiquitin proteasome mediated degradation huang et al thus preferential binding mutant run proteins pebpbeta may turn increase protein half life hence augment dominant negative effects right end column figure general correlation seen retained beta binding activity inhibitory potential mutant correlation clearly indicated comparison distribution missense mutations run run figure germline mutation run causes bone disease cleidocranial dysplasia ccd mundlos et al missense mutations run distributed throughout runt domain affected overall folding architecture cases marked asterisks figure resulting impairment dna binding heterodimerization activity packing defect mutations underlined figure showed defects beta binding alone clear contrast mutations resulting defective packing beta binding found run far reported cases mapped residues responsible packing suspected cases functional analyses yet performed suspected case defect beta binding alone reported conversely mutations mapping first dna interacting region betap loop betap betab seen run run figure yoshida et al run mutants rc kn ke showed strong affinity beta subunit hence strong dominant negative effect suggesting haploinsufficiency dominant mechanism run mutants whereas dominant negative effect important run mutants sequestration beta subunit may one important mechanism dominant negative effect caused run mutants figure figure unfortunately unable provide accessible alternative tet require assistance access image please contact help nature com author structural mappings missense mutations detected leukemia bone disease ccd run mutants leukemia rectangular outline orange mapped eclusively three regions involved dna binding whereas run mutations ccd blue distributed runt domain ecept loop betap betaf mutations associated packing asterisk beta binding underline defects found ccd adapted nagata et al full figure legend k top page lower run activity higher leukemogenicity dominant negative effect mentioned relate leukemogenesis although limited number individuals minimal clinical information evaluated prohibit robust conclusion families mutations acting simply via haploinsufficiency lower incidence leukemia families mutations acting dominant negative fashion two largest fpd aml pedigrees leukemia occurred markedly higher rate family strong dominant negative ke mutation compared pedigree complete deletion run table song et al michaud et al thus low run activity appears correlate high leukemogenicity hypothesis may epanded etent leukemogenesis induced chimeric genes majority current findings indicate major function chimeric genes transdominant inhibition wild type run resulting severely decreased run activity affected cells currently partner genes fused run identified chromosomal translocations although chimeric gene may leukemogenic mechanism run insufficiency may common underlying mechanism run leukemias table run mutations familial leukemia fpd aml table run mutations familial leukemia fpd aml unfortunately unable provide accessible alternative tet require assistance access image please contact help nature com author full table acquired trisomy underscores notion run mutant alleles appear duplicated frequently finding may also lend supporting evidence hypothesis reduced run activity increases leukemogenic status argument discussed later top page mutation status disease phenotype sporadic leukemias biallelic mutation aml subtype run point mutations frequently found aml subtype table addition cases showed biallelic type mutation table conversely two run mutation cases leukemia subtypes biallelic type therefore clear run point mutations biallelic type tightly associated aml subtype mice heterozygous run mtg pebpbeta cbfbeta myh chimeric genes showed defects definitive hematopoiesis similar run mice suggesting chimeric genes act strong transdominant inhibitors remaining normal run allele castilla et al okuda et al yergeau et al therefore leukemogenic potential biallelic run mutants considered equivalent chimeric genes hand inv biallelic point mutations related distinct meo subtypes myeloid leukemias respectively different disease phenotypes quite interesting contribution partner gene thought considerable may also eplained different residual activities run affected adult hematopoietic cells conditional run knockout mice showed apparent defects hematopoiesis ichikawa et al whereas hematopoiesis conditional heterozygous run eto knockin mice nearly normal higuchi et al suggesting run induces severe effects run eto chimeric gene adult hematopoiesis subtype shows minimally differentiated morphology subtype characteristically well differentiated therefore differing residual activities run seem important addition influence activities run family genes must considered run mtg pebpbeta cbfbeta myh chimeric genes could inhibit run run well run status defect run alone careful study resolve intriguing issue table run mutations aml subtype table run mutations aml subtype unfortunately unable provide accessible alternative tet require assistance access image please contact help nature com author full table note biallelic type mutation strictly confined status two copies run biallelic mutation trisomy associated aml subtype associated myeloid malignancies phenotypic difference discussed later entire distribution including c terminal moiety mds aml secondary leukemia run point mutations also frequently found mds subsequent overt leukemia referred review mds aml tables mutations characteristically distributed also detected c terminal region rarely targeted types leukemias harada et al since distribution recently identified c terminal mutations overlooked number previous studies half studies investigate eons b c terminal region regard mds aml incidence covering eons eons evaluated less frequently eons alone table thus c terminal mutations may underestimated mds aml however c terminal mutations still seem rare aml since c terminal mutations identified study relatively large number cases therefore run point mutations including c terminal moiety appear found predominantly mds aml table run mutations mds table run mutations mds unfortunately unable provide accessible alternative tet require assistance access image please contact help nature com author full table harada et al hiroshima one two cities suffered atomic bomb reported two implications run mutations secondary mds aml referred review mds aml including therapy related atomic bomb related mds aml firstly relationship radiation seems important terms social issue addition victims two cities estimated us soldiers significant number local residents passengers irradiated aboveground nuclear weapon test sites nevada bikini atoll others late many people thought succumbed mds aml caused run point mutation secondly involvement therapy related mds aml seems general impact improvement treatments primary cancer incidence therapy related mds aml continues increase therapy related mds aml accounts roughly new cases mds aml standard hospitals therefore incidence secondary mds aml run mutation comparable aml subtype inv aml meo subtype table considering poor prognosis clinical implication run point mutation secondary mds aml would rather significant epected table estimated frequency leukemia run point mutation table estimated frequency leukemia run point mutation unfortunately unable provide accessible alternative tet require assistance access image please contact help nature com author full table leukemic incidence rates based several tetbooks public databases cdc national cancer institute nih cll accounts may eplain relatively low incidences inv acquired congenital trisomy non mo myeloid malignancy preudhomme et al first reported relationship trisomy run point mutation table sporadic cases myeloid lymphoid malignancy trisomy associated high frequency run point mutations taketani et al subsequently surveyed run mutation congenital cases trisomy syndrome related hematopoietic diseases however point mutation congenital cases appears rare ecept enigmatic hn variation nearly normal function allelic analysis sporadic cases acquired trisomy showed following combination mutant vs wild type co occurrence mutation trisomy associated allelic combination one mutant two wt combination however combination never found findings suggest trisomy increases copy number mutant allele already eists status two copies run words trisomy thought secondary change run status trisomy second hit discussed later table trisomy run mutation table trisomy run mutation unfortunately unable provide accessible alternative tet require assistance access image please contact help nature com author full table mentioned earlier biallelic run mutations tightly liked aml subtype however interestingly acquired carrying run point mutation never observed aml subtype even cases biallelic mutations table discrepancy eplained differing residual activities run half cases run mutation monoallelic leukemic phenotype may determined yet undetermined mechanism top page familial leukemia fpd aml heterozygous germline mutation run gene causes familial leukemia familial platelet disorder predisposition acute myelogenous leukemia fpd aml total pedigrees identified far mainly individuals european descent table fpd alone onset aml fatal significantly inhibits blood clotting could life threatening surgery injury dental treatment childbirth incidence leukemia among affected individuals varies average highest familial leukemia syndromes including fanconi anemia bloom syndrome kostman syndrome affected subjects seem develop myeloid malignancies throughout life span later life described previous reports leukemia developed age years four cases features fpd aml compared similar dominant hereditary disease huntington disease hd subjects hd healthy disease onset years age die years later addition low penetrance low severity symptoms late onset key factor hereditary disease since patients often children disease symptoms appear hands fpd aml seems detrimental subjects factors hereditary disease pedigree full drawbacks eist fpd aml may persist disease due easy mutability run discussed run indeed contains easy mutable primary sequences triplets containing cpg dinucleotides etremely prone transition type mutations facilitated methylation cytidine residue rodenhiser et al yoshida et al mechanism could work particularly well germ cells fpd aml pedigree may readily disappear human population de novo pedigree could continually generated comparable frequency consistent argument ccd cases caused run mutation approimately half de novo familial type zhou et al irradiation readily generates ccd like phenotypes mice due run alterations run shares noted easy mutable sequences case run healthy british subjects two kinds variations ls ssyn frequency respectively langabeer et al japanese subjects also several recurrent enigmatic variations gr isyn hn interestingly gr identified leukemia patients healthy volunteers harada et al taketani et al variations probably including polymorphisms might reflect noted easy mutability run mentioned fpd aml etremely rare worldwide therefore clinical entity overlooked physicians recently bone marrow transplantaion carried affected sibling mild fpd symptoms patient suffering aml buijs et al recipient succumbed leukemia clearly hematopoietic cells derived donor top page genetic alterations cooperating run status mentioned earlier run status frequently found aml subtype thus run may appear act classical tumor suppressor gene requiring inactivation two alleles according knudson two hits theory however biallelic inactivation required cases leukemogenesis fact overall frequency biallelic cases relatively low cases biallelic cases fpd aml never reported therefore run per se appears leukemogenic dominant negative effect associated missense mutations might play role leukemogenesis etent gene inactivation case heterozygous mutation appears step towards leukemogenesis therefore mutation wild type run remaining allele considered second hit addition run status furthermore acquired congenital trisomy also thought second hit discussed earlier link run mutation interpreted follows mutation takes place two copy status mutant allele duplicated accordance run cases acquirement another mutant allele therefore thought additional genetic alteration cooperating run status figure figure figure unfortunately unable provide accessible alternative tet require assistance access image please contact help nature com author leukemogenesis run biallelic mutations run run tightly liked aml subtype however acquired carrying run point mutation run never observed despite cases biallelic mutations mutation likely takes place two copy status run mutant allele duplicated accordance resulting myeloid malignancies flt mutations frequently found cases run point mutations genetic alterations mapped based observations full figure legend k line cytogenetics helps identify second hits patients run point mutations show following concurrent abnormalities cases showed tables loss chromosome suspected strong predisposing factor second hit run flt mutations frequently observed even monoallelic run mutations patients table matsuno et al roumier et al b hence flt mutation also cooperating genetic alteration figure flt mutation results constitutively active form known stimulate cell proliferation therefore differentiation blockade run alteration growth stimulation flt mutation would synergistically contribute substantial fraction aml subtype cases interesting enough flt mutations known rare run leukemias inv certain run leukemias seem cooperate distinct second hits elucidation mechanism might shed light development run leukemias top page current problems region mutation screening discussed previously half screening studies cover c terminal eons b therefore overlooked c terminal mutations mds aml c terminal screening unlikely reveal information aml recommended likewise eons might affected particular types leukemia theoretically promoter untranslated regions could also targeted variations significant numbers variations reported shown table figure functional analyses yet performed cases variation must studied determine mutation polymorphism analyses polymorphisms might help characterize susceptibility leukemia dominant negative effect c terminal mutants mds aml reporter assay c terminal mutants found mds aml showed inhibitory effects transdominant manner like missense mutants runt domain harada et al however similar c terminal run mutations ccd patients retain partial transactivation activity show much milder phenotypes compared standard ccd phenotypes caused simple gene deletions yoshida et al discrepancy may due distinct cell contet promoter used assay however correlation mds aml might indicate c terminal mutants milder inhibitory effects runt domain mutants biological assay reporter assay may address issue cooperative genetic alterations flt mutation thought second hits mds aml run mutations high frequency chromosome loss suggests inactivation unknown gene chromosome plays synergistic role run mutations however overall frequency mutations account cases furthermore induce leukemia three five genetic alterations considered required based current evidence therefore number genetic alterations must identified understand whole leukemogenic mechanism run leukemia laboratory recently established mouse system appears quite useful myeloid leukemia prone mice mimicking fpd aml generated backcrossing run onto bh strain retroviral insertional mutagenesis occurs spontaneously eventual development myeloid leukemia cases li et al proviral integration sites leukemias provide powerful genetic tags disease gene identification therefore collaborating oncogenes run would readily detected loss function run widely believed common underlying mechanism run leukemia run status considered minimum alteration required several forms run leukemias therefore mouse model fpd aml mentioned useful searching cooperative genetic alterations run leukemias inv genetic alterations identified retroviral tagging system might eplain leukemogenic mechanisms run point mutations also run leukemias top page future directions run status leukemogenic question seems fundamental question run point mutation also run leukemias determining means run leukemogenic may possible currently used approaches evaluate differentiation proliferation apoptosis cellular level transcriptional control molecular level novel approach warranted eample alteration stemness investigated run status stemness could provide cells time window sufficient sequential genetic alterations intrinsic molecular functions relevant leukemogenesis transcriptional control might identified novel approaches',\n",
       "       'frequent mutations associated leukemia recurrent somatic chromosomal translocations inversions many involve polyomavirus enhancer binding protein core binding factor transcriptional regulation comple pebp cbf several translocations involve subunit comple run gene also called aml cbf pebp b chromosome q additionally subunit comple pebp also called cbf disrupted inv p q abundance evidence points eistence genes predispose hematologic malignancies however large multiple generation families hematologic malignancies alone rare loci familial hematologic malignancies identified date chromosome q q loci contain run andpebp cbf respectively studies families demonstrate single gene inheritance leukemia predisposition help identify genes mechanisms involved first steps leukemia development autosomal dominant familial platelet disorder fpd aml acute myelogenous leukemia online mendelian inheritance man good model validate hypothesis addition developing thrombocytopenia patients show propensity progression myelodysplasia acute myeloid leukemia affected individuals within family may present variable clinical severity varying ages fpd aml linked q including region contains run germline run mutations subsequently identified pedigrees heterozygous missense mutations biallelic nonsense frameshift mutations run also identified sporadic leukemias point mutations characterized patients aml various myeloid malignancies including acquired trisomy tetrasomy chromosome missense mutations abolish dna binding transactivation activities run affect heterodimerization pebp cbf addition mutant proteins inhibit wild type run cotransfection studies evolutionarily conserved amino acid runt domain present run isoforms involved dna binding heterodimerization pebp cbf heterodimerization run pebp cbf promotes dna binding stabilizing interaction comple dna run point mutations described fpd aml patients run point mutations patients sporadic leukemias within runt domain alter amino acids essential dna binding heterodimerization longer run proteins also contain transactivation domain domains involved self regulation protein protein interaction cellular localization run regulates activity several important hematopoietic genes macrophage colony stimulating factor csf receptor cell receptor granulocyte macrophage gm csf myeloperoidase neutrophil elastase binding core sequence tgt cggt found promoters enhancers proposed haploinsufficiency run responsible fpd aml however hyperactivating inhibitory loss function run point mutations reported sporadic leukemia diversity mechanisms pathogenesis sporadic aml run mutations suggested fpd aml run mutations warranted functional studies describe new run mutations fpd aml potential mechanisms involved pathogenesis disease based vitro studies run fpd aml mutations materials methodssample collection genomic dna isolationour fpd aml pedigrees shown figure pedigree etensively described fourteen members family hemorrhagic diathesis characterized long bleeding time abnormal platelet aggregation decreased numbers platelet dense bodies among affected individuals documented cases myeloblastic leukemia documented cases myelomonoblastic leukemia cases leukemia history fig download figureopen new tabdownload powerpointfig fpd aml pedigrees unique study pedigrees show linkage fpd aml locus q half filled symbols represent individuals bleeding disorder studied platelet defect well completely filled symbols represent affected individuals developed leukemia pedigree previously unreported affected individuals generations clinical history prolonged bleeding constitutional thrombocytopenia found members etensive platelet evaluations documenting aspirinlike aggregation defects dense granule abnormality demonstrable electron microscopic morphology quinacrine fluorescence three individuals developed aml fourth said died pernicious anemia pedigree consists affected individuals generations family bleeding disorder characterized impaired platelet aggregation associated decreased numbers contents platelet dense granules well unique platelet phospholipid defect decreased adrenergic receptors platelet counts family slightly lower limit normal two members family developed aml another reported died leukemia blood samples obtained healthy affected individuals obtaining informed consent accordance institutional guidelines human subjects dna isolated blood leukocytes using standard protocols linkage analysisgenotype information generated polymerase chain reaction pcr amplification chromosome microsatellite markers genome database http www gdb org linkage analysis previously described least microsatellite repeat polymorphisms fpd aml critical region chromosome q genotyped family mutation analysesall eons run amplified genomic dna using primers designed flanking region eon single strand conformational polymorphism analysis performed pcr fragments less base pairs using genephor apparatus genegel kit amersham pharmacia biotech freiburg germany eons showing conformational changes directly sequenced directions using bigdye terminator cycle sequencing applied biosystems foster city ca analyzed abi sequencer rt pcrfirst strand complementary dna cdna synthesized patient individuals iv v pedigree control rna using superscript ii reverse transcriptase pcr performed using primers amlrtf figure primer c ctgctccgtgctgcctacgcactg eon amlb amlrtr cgcagctgctccagttcactgagc eon reverse primer double stranded cdnas cloned ta vector sequenced cryptic splice site observed one clone primers covering cryptic splice junction eon famlmf figure primer taatgacctcagggaaaagcttc within nucleotides eon ecluded mutant transcript famlf figure primer b tgtcggtcgaagtggaagagg designed used amlrtr amplify pcr product patients cdna mutant transcript observed control cdna fig download figureopen new tabdownload powerpointfig mutation analysis fpd aml pedigrees electropherograms affected control individuals showing g substitution leading ke missense mutation pedigree c substitution resulting nonsense mutation pedigree b deletion position splice donor site intron pedigree ivs dela c arrows indicate point mutations schematic representation cryptic splice site within eon used mutated transcript pedigree rt pcrs used analyze splicing b c represent forward primers used rt pcr eperiment primer specific mutated form primer b specific wild type form primer c used control reverse primer used reaction nucleotides eon ecluded mutant transcript indicated black bo e rt pcr patient control rna described panel primer specific mutated form show amplification control rna f sequence analysis mutant eon eon junction electrophoretic mobility shift assayamino acids run including runt domain epressed escherichia coli purified subjected electrophoretic mobility shift assay emsa essentially described previously wild type epression plasmid previously described mutant run plasmids obtained site directed mutagenesis wild type pqe run using strategene quick change method according manufacturer instruction manual stratagene amsterdam netherlands kfs alternative vector pqe used instead epress fusion bulky n terminal appendage containing heahistidines dihydrofolate reductase mutant constructs confirmed sequencing affinity assay run pebp cbf associationthe heterodimerization activity run mutants impaired dna binding assayed magetractor kit toyobo osaka japan briefly heahistidine tagged run fragment g incubated tagless pebp cbf g mied nickel coated magnetic beads miture successively washed buffers containing mm imidazole eluted buffer supplied manufacturer proteins fraction analyzed previously described subcellular localizationfor functional studies mutated run proteins wild type run sequence inserted pef bos mammalian epression plasmid construction run mutants carried using megaprimers method resultant plasmids transfected niht ref hn kn rq r cells using nonliposomal transfection reagent fugene boehringer mannheim germany immunofluorescence labeling run pebp cbf microscopy previously described transfection cells visualized transactivation assaysthe luciferase reporter plasmid pm csf r luc effector plasmid pef aml containing amino acid isoform run mutations studied transfected fied ratio g per assay respectively u hl jurkat cells cell etracts prepared hours transfection assayed essentially described study inhibitory effect mutant run proteins wild type run reporter gene activation g pm csf r luc g pef constructs epressing either run without mutations pebp myh cotransfected u hl jurkat cells total amount dna transfected kept constant g supplementing appropriate amounts backbone pef plasmid thereby avoiding potential artifacts due unbalanced dna dosages partial rescue repression obtained transfecting varying doses pebp cbf repressive dose wild type mutant proteins resultslinkage mutation analyses new pedigreeseach families demonstrated features typical fpd aml candidate region genetic linkage analysis provided maimum point log odds ratio scores markers ds pedigree ifnar pedigree ds pedigree etended haplotype analysis family indicated approimate megabase common nonrecombinant interval human chromosome q containing run affected individuals pedigree showed g substitution eon resulting missense mutation ke figure mutation segregates disorder family absent unrelated control chromosomes pedigree showed one base deletion splice donor site intron ivs dela figure c mutation segregates disorder family absent unrelated control chromosomes reverse transcriptase rt pcr rna affected individuals showed use cryptic donor splice site used control rna nucleotides upstream normal splice site figure f novel transcript generated use cryptic splice site results frameshift amino acid addition unrelated residues termination codon rfs pedigree showed c substitution eon b resulting nonsense mutation figure b mutation segregated disease family members tested effects run fpd aml mutations dna binding heterodimerization activities runt domainwe eamined function runt domain new ke rfs swiss prot q described rq rq kfs r r fpd aml point mutations emsa analyses rq r r alone showed barely detectable dna binding produced supershift band increased intensity presence pebp cbf indicating heterodimerization mutants pebp cbf still occurs figurea ke rfs rq kfs showed detectable dna binding presence absence pebp cbf affinity assay mutants heterodimerization pebp cbf revealed missense mutants retained ability heterodimerize whereas frameshift mutants figure b fig download figureopen new tabdownload powerpointfig alterations dna binding heterodimerization activities runt domain fpd aml run mutations partial run proteins indicated subjected emsa presence absence pebp cbf wt indicates wild type run position run run cbf complees dna indicated b affinity assay indicated partial run proteins pebp cbf indicates molecular weight marker indicated left right pebp cbf input run protein w unbound proteins washed fractions e bound proteins eluted mm imidazole bands marked arrows indicate subunits associated run proteins subcellular localization fpd aml run mutants colocalization pebp cbf run nuclear localization signal nls present amino acids end runt domain run wild type protein localized nucleus diffuse pattern ecluded nucleoli figure transfection mutant full length cdnas niht cells immunostaining epressed run proteins revealed frameshift rfs kfs nls nonsense r r half nls missing mutants localized almost eclusively cytoplasm consistent importance basic amino acids nls rq rq sporadic mutation described osato et al showed cytoplasmic localization observed cells respectively figure fig download figureopen new tabdownload powerpointfig subcellular localization mutant run proteins colocalization pebp cbf subcellular localization indicated run proteins detected immunofluorescence staining anti b schematic run protein shown runt transactivation domains indicated sequence nls indicated b double staining mutant run pebp cbf reveals subunits colocalized cytoplasm within speckled dotlike structures missense mutants diffuse staining pattern frameshift nonsense mutations eamples figure niht cells original magnification ke rq mutations within known nls mutant proteins showed reduced nuclear localization ke showed cytoplasmic localization transfected cells contrast normal nuclear localization seen kn sporadic mutation figure observation may suggest ke mutation k positive hydrophilic c e negative hydrophilic c results greater loss function kn mutation n polar hydrophobic c rq mutation site involved dna binding epected affect dna binding rather nuclear localization however cytoplasmic localization observed cells observed defect nuclear localization ke rq consistent earlier studies may point eistence additional unidentified n terminal domain critical nuclear localization contrast run pebp cbf normally localized cytoplasm heterodimerization enter nucleus run however regulation heterodimerization remains unknown shown proteins may different cellular localizations transfected cells missense mutants showed speckled dotlike distribution cytoplasm markedly different diffuse pattern truncated nonsense mutants double staining subunits revealed colocalized within speckled patterns figure b transactivation abilities fpd aml run mutantsthe transactivation potential mutant run proteins measured using reporter construct based csf receptor promoter myeloid specific run target wild type run demonstrated fold transactivation compared fpd aml mutants showed significant transactivation without pebp cbf figurea despite retention dna binding activity c terminal activation domains rq failed transactivate several mutants showed persistently lower luciferase activities mock transfected plasmid indicating mutants could hinder function endogenous run u cells allow measurement inhibition wild type transactivational activities caused mutant proteins reporter construct fied amount nonsaturating wild type run plasmid cotransfected varying amounts fpd aml mutant plasmids encoding mutant proteins dna pebp cbf binding activity pebp cbf myh kn repressed csf receptor promoter previously reported eception r mutants showed varying degrees interference wild type protein function cell lines tested u hl jurkat notably ke rq showed potent inhibition similar pebp cbf myh figure b results cotransfection reporter assays using frameshift mutants reproducible within cell lines fig download figureopen new tabdownload powerpointfig transactivation csf receptor promoter eogenously epressed run proteins cells transfected luciferase reporter plasmid indicated run epression constructs luciferase activities measured presented fold increase relative control transfected backbone epression vector b wild type run missense run mutants coepressed varying doses indicated luciferase activities epressed fold changes relative activity observed standard dose g wild type run alone c pebp cbf transfected varying doses repressive dose wild type mutant run proteins panels c value represents mean separate eperiments luciferase activity ais panel c shown relative luciferase units rlu deviations measurements given thin vertical bars chimeric protein pebp cbf myh sporadic mutation kn used controls eperiment eamples figure u cells inhibitory mutants maintained ability heterodimerize colocalized pebp cbf sequestration pebp cbf mutant run proteins may major inhibitory mechanism test hypothesis pebp cbf cotransfected increasing amounts together inhibitory amounts mutant run resulting restoration near normal reporter gene activity figure c discussionfive run point mutations deletion entire run gene previously described fpd aml report new run point mutations associated disease pedigree beginning transactivating domain removes part negative regulatory region dna binding first described familial run mutation outside runt domain studies described paper appropriate test functional implications mutation functional analyses mutants frameshift nonsense missense mutations performed investigate mechanisms contribute fpd aml particularly propensity develop aml capacity bind dna reduced abolished mutant proteins epected sites substitutions runt domain missense nonsense mutant proteins largely intact runt domain retained capacity heterodimerize pebp cbf frameshift mutant proteins lack substantial part runt domain failed heterodimerize reported sporadic run aml nonsense mutation observations consistent known crystal structure predicted binding domain mouse run positions missense mutations critical structural integrity dimerization site whereas frameshift mutant proteins predicted fold abnormally lack runt domain residues required heterodimerization mechanisms pathogenesis sporadic leukemias provide clues mechanisms pathogenesis fpd aml many sporadic hematologic malignancies chromosomal rearrangements consistently appear supporting hypothesis events prerequisite tumor induction somatic mutations acquired leukemia translocations inversions heterozygous affected cells normal copies translocated genes still present consequently mechanism disease pathogenesis may include gain function chimeric fusion proteins haploinsufficiency dominant negative effect chimeric fusion proteins combination mechanisms however unlikely mutations described gain function activity haploinsufficiency run proteinsthe importance gene dosage normal function cbf transcriptional regulators seen autosomal dominant human bone disorder cleidocranial dysplasia caused mutations inrun also called cbf run mice show skeletal defects similar cleidocranial dysplasia run mutations may heterozygous missense mutations insertions deletions either runt dna binding domain c terminal domains responsible transactivation run point mutations predicted affect folding stability run resulting haploinsufficiency run defects bone formation complete deletion run results haploinsufficiency fpd aml fpd aml splice site mutations resulting frameshifts rfs kfs cause loss dna binding heterodimerization nuclear localization transactivation functions also likely act simple haploinsufficiency dominant negative effects mutant run proteins translocations involving run produce chimeric proteins notably run aml eto mtg aml tel run aml chimeric proteins retain entire runt domain shown interfere transactivation normal run dominant negative manner run aml eto related fusion proteins shown form complees pebp cbf nuclear proteins efficiently wild type run moreover naturally occurring isoforms run proteins contain runt domain also suppress transactivation full length run deletion negative regulatory domain heterodimerization c terminal region full length run amino acids results efficient heterodimer formation thus chimeric run proteins resulting translocations isoforms run without transactivation domain may act manner dimerizing pebp cbf efficiently wild type cotransfection equal amounts wild type mutant plasmids closely mimics vivo situation one normal one mutant allele fpd aml run missense nonsense mutants studied ecept r show decrease transactivation capacities inhibitory effect wild type run upon cotransfection thus also seem act dominant negative inhibitors missense nonsense mutants still interact pebp cbf nonsense mutants studied lack negative regulatory domain heterodimerization rq nonsense mutant proteins maintain degree dna binding although dna binding nonsense mutations may irrelevant vivo due cytoplasmic localization resulting direct disruption nls missense mutants appropriately translocated nucleus time also show cytoplasmic staining inhibitory nature mutants likely due competition wild type dimerization pebp cbf sequestration case r must occur cytoplasm whereas missense mutations may occur nucleus cytoplasm r differs r amino acids show significant repression wild type run cotransfection assay may considered haploinsufficient structural analysis c terminal end runt domain nuclear magnetic resonance suggested region conformational fleibility r lacks amino acids region might show decreased fleibility increased affinity pebp cbf r alternatively lack inhibition r could due technical difficulties inherent assay seen inconclusive results observed frameshift mutations one notable features fpd aml run missense mutants studied colocalization run pebp cbf cytoplasmic speckles sequestration pebp cbf could occur correlation colocalization pebp cbf interaction vitro level inhibitory effect pattern seen nonsense frameshift mutants prematurely terminated within runt domain presence c terminal region must required aggregation run speckled cytoplasmic patterns raises possibility speckled structures could result c terminal associating molecules could also sequestered cytoplasm recently shown dimerization pebp cbf protects run ubiquitin proteasome mediated degradation substitution k r shown increase half life run lysine residues ubiquitylated preferential binding mutant run proteins pebp cbf may increase half lives ke may potent nonchimeric mutant inhibitor wild type run described far k residue important ubiquitinylation mice heterozygous run aml eto pebp cbf myh knocked ins showed defects definitive hematopoiesis similar observed run pebp cbf mice thus epression strong dominant negative inhibitors run seems produce embryonic lethal phenotype dominant transmission run mutations fpd aml implies strong dominant negative run mutations would also epected lethal another study recently showed dominant negative mutations incebpa encoding c ebp transcription factor sporadic aml however dominant negative effects predominantly frameshift mutations described study inhibitory effect increased formation secondary protein product use downstream initiating methionine progression leukemia fpd amlhaploidy run clearly sufficient normal development possibly insufficient tumor suppression run mice show complete lack definitive hematopoietic cells fetal liver death occurring hemorrhages central nervous system days coitus run mice demonstrate minimal changes phenotype although closer hematologic analysis revealed trend bone marrow progenitor cells increased sensitivity g csf possibly reflecting propensity develop myelogenous leukemia presence biallelic run mutations sporadic leukemias may indicate run functions classical tumor suppressor gene however cases sporadic leukemia monoallelic run mutations described also fpd aml leukemic patients one families complete run deletion r annotated r song et al analysis leukemic cells failed detect run mutations deletion second run allele two tumor suppressor genes p pkip shown haploinsufficient tumor suppression hemizygous mice potential complication dominant negative mutations ecluded revision knudson model proposed accommodate haploinsufficiency normal level biologic activity tumorigenic gene tightly controlled increase decrease activity leads increased tumor susceptibility multiprotein comple molecular cascade hemizygous loss partners molecules pathway may almost tumorigenic homozygous loss one partner mutations early acting genes run predispose development hematologic malignancies affected lineage consequent type malignancy may depend upon genes subsequently sustain downstream hits additional somatic mutation eample combined positivity antigens cd c kit hla dr characterizes cbf leukemias aml run aml eto aml meo pebp cbf myh inv c kit cd transmembrane tyrosine kinase receptor stem cell factor required normal hematopoiesis mutations c kit described various sporadic hematologic malignancies diseases eample mutations residue eon c kit detected patients either aml inv aml meo difficult make robust correlation type mutation proportion patients develop leukemia fpd aml families limited number individuals identified lack detailed clinical information would appear however families mutations acting simply via haploinsufficiency deletions frameshift mutations show smaller proportion affected individuals develop leukemia families transmitting mutations may act dominant negative fashion figure consistent hypothesis second mutation occur run genes cause leukemia among individuals harboring inheritedrun mutation mutations likely occur individuals lower biologic activity run eample largest fpd aml pedigrees markedly higher rate leukemia seen family strong predicted dominant negative ke mutation compared pedigree complete deletion run fig download figureopen new tabdownload powerpointfig summary fpd aml run mutants studies presented paper fpd aml run mutants listed descending order pebp cbf activity runt transactivation domains indicated mutant proteins appropriate pedigrees song et al described paper results emsa dna binding affinity assay pebp cbf subunit interaction subcellular localization transactivation studies summarized ratio leukemic fpd individuals fpd affected individuals pedigree indicated right largest fpd aml pedigrees markedly higher rate leukemia seen family strong predicted dominant negative ke mutation pedigree dominant negative compared pedigree complete deletion run pedigree haploinsufficiency thus propose less functional pebp cbf transcriptional regulation comple present hematopoietic cell due variable inhibitory effects heterozygous mutations mutations alleles higher propensity develop leukemia mechanism valid fpd aml sporadic leukemia patients clearly biallelic mutations would prone leukemia development although additional genetic changes may still required genes analyses additional fpd aml sporadic leukemia cases additional clinical molecular data including mutation analyses genes coding partners pebp cbf molecules tumorigenic pathway help provide evidence hypothesis run aml gene frequent target chromosomal translocation leukemia addition recent studies demonstrated point mutations run gene another mode genetic alteration development leukemia monoallelic germline mutations run result familial platelet disorder predisposed acute myelogenous leukemia fpd aml sporadic point mutations frequently found three leukemia entities aml subtype mds aml secondary therapy related mds aml therapy related leukemias resulting anticancer treatments uncommon incidence run point mutations appears comparable incidence aml subtype inv aml meo subtype half point mutations cases biallelic although frequency varies ethnicity run mutations clustered runt domain result defective dna binding active beta subunit binding consistent three dimensional structural findings may eplain dominant inhibitory effects unlike classical tumor suppressor genes requiring biallelic inactivation haploinsufficient run apparently leukemogenic however run abnormalities per se insufficient cause full blown leukemia intensive investigation cooperating genetic alterations elucidate leukemic mechanisms keywords run aml pebp point mutation familial leukemia top page introduction since discovery philadelphia chromosome chronic myelogenous leukemia leukemia researchers physicians paid much attention investigation chromosomal translocations resultant chimeric genes also case run aml related leukemia also known cbf leukemia hereafter referred run leukemia miyoshi et al identified aml gene located breakpoint chromosomal translocation since leukemia research aml run eclusively concentrated investigating resultant aml run eto mtg run evi tel etv run inv pebpbeta cbfbeta myh osato et al song et al reported run point mutation sporadic familial myeloid leukemia respectively subsequent studies identified point mutations acute myeloid leukemia aml predominantly subtype different ethnic groups preudhomme et al langabeer et al matsuno et al roumier et al b silva et al recently mutations believed cluster within runt domain however mutations c terminal region outside runt domain also identified predominantly mds aml harada et al finally run point mutations turned occur comparable frequency first mode run alterations namely inv secondary mds aml harada et al accordingly run point mutation fully recognized second mode leukemogenesis run leukemia review summarize currently available cases point mutations discuss leukemogenesis mediated run status top page frequency distribution point mutations run gene consists eons eons b c two promoters followed distinct initiation codon eon eon proimal promoter driven transcript starts eon encodes amino acids aa full length whereas distal promoter driven transcript eon encodes aa full length full length contains additional aa instead aa full length n terminal end thus full lengths share eons b nearly complete coding sequence runt domain highly conserved aa protein motif responsible dna binding heterodimerization beta subunit pebpbeta cbfbeta spans aa full length located eons run mutation screening studies covered eons included intron sequences flanking eon studies screened eons well half studies cover eons encoding c terminal moiety transactivation domain spanning aa located types human leukemia ecept chronic lymphocytic leukemia cll etensively investigated addition significant number cell lines including established solid tumors well healthy volunteers also included mutation screenings table langabeer et al vegesna et al harada et al taketani et al total cases tested run alteration including point mutation gene deletion nucleotide changes resulted amino acid changes clear functional defects shown figure however mutations failed show apparent functional alterations nucleotide change may constitutive leukemia specific nucleotide changes lead amino acid change synonymous may generate abnormal splicing donor acceptor site resulting nonfunctional protein enigmatic cases listed variation table numbers mutations table include variation cases mutations clustered within runt domain figure n terminal region runt domain c terminal region total number mutations table figure differs vs compiled mutants figure include cases fpd aml listed table conversely gene deletion included figure biallelic case table provides two distinct mutations simultaneously figure figure unfortunately unable provide accessible alternative tet require assistance access image please contact help nature com author distribution functional consequences run gene mutations mutations bold disease subtypes compiled left corresponding amino acid indicated center amino acids runt domain dark green green bar representing eons listed consecutive manner outside runt domain missense termination frameshift mutations highlighted yellow dark gray gray respectively functional consequences dna binding beta subunit binding dominant negative effects listed right indicates function retention normal hypernormal functions pink red respectively dominant negative effects shown light blue dark blue right end column strong cases dark blue full figure legend k table frequency mutations run aml gene various cancer patients healthy volunteers table frequency mutations run aml gene various cancer patients healthy volunteers unfortunately unable provide accessible alternative tet require assistance access image please contact help nature com author full table top page functional consequence haploinsufficiency entire gene deletions early truncated type mutations frameshift nonsense mutations found significant frequency missense mutations also lost dna binding transcriptional activities figure right middle column since majority cases heterozygous haploinsufficiency appears basis pathogenesis notion strongly supported whole gene deletion fpd aml run status likely provide cells growth advantage overcome selective pressure subject however mechanism mutations would distributed throughout gene without hot spots therefore clustering runt domain suggests mechanism genuine haploinsufficiency important leukemogenesis top page dominant negative effect retained bold italic beta binding activity runt domain eight regions hot spots affected twice figure two different mechanisms probably least partly responsible first primary sequence particular sites seems preferably targeted mutation mechanism r r r encoded triplets containing cpg dinucleotides etremely prone transition type mutations mechanism facilitated methylation cytidine residue rodenhiser et al yoshida et al second certain mutation sites considered provide cells stronger growth advantage selective pressure mapping missense mutations strongly supports notion three regions recurrently affected missense mutations eclusively correspond three loop containing regions responsible dna binding betap loop betap betab betae loop betae betaf betap loop betap c terminus figure nagata et al osato et al tahirov et al consequently mutants defective dna binding packing heterodimerization figure may eplain dominant negative effects run mutants cotransfection assays missense nonsense mutants showed inhibitory effects towards transactivation mediated wild type run mutants bound pebpbeta cbfbeta efficiently wild type run imai et al michaud et al addition pebpbeta protects run ubiquitin proteasome mediated degradation huang et al thus preferential binding mutant run proteins pebpbeta may turn increase protein half life hence augment dominant negative effects right end column figure general correlation seen retained beta binding activity inhibitory potential mutant correlation clearly indicated comparison distribution missense mutations run run figure germline mutation run causes bone disease cleidocranial dysplasia ccd mundlos et al missense mutations run distributed throughout runt domain affected overall folding architecture cases marked asterisks figure resulting impairment dna binding heterodimerization activity packing defect mutations underlined figure showed defects beta binding alone clear contrast mutations resulting defective packing beta binding found run far reported cases mapped residues responsible packing suspected cases functional analyses yet performed suspected case defect beta binding alone reported conversely mutations mapping first dna interacting region betap loop betap betab seen run run figure yoshida et al run mutants rc kn ke showed strong affinity beta subunit hence strong dominant negative effect suggesting haploinsufficiency dominant mechanism run mutants whereas dominant negative effect important run mutants sequestration beta subunit may one important mechanism dominant negative effect caused run mutants figure figure unfortunately unable provide accessible alternative tet require assistance access image please contact help nature com author structural mappings missense mutations detected leukemia bone disease ccd run mutants leukemia rectangular outline orange mapped eclusively three regions involved dna binding whereas run mutations ccd blue distributed runt domain ecept loop betap betaf mutations associated packing asterisk beta binding underline defects found ccd adapted nagata et al full figure legend k top page lower run activity higher leukemogenicity dominant negative effect mentioned relate leukemogenesis although limited number individuals minimal clinical information evaluated prohibit robust conclusion families mutations acting simply via haploinsufficiency lower incidence leukemia families mutations acting dominant negative fashion two largest fpd aml pedigrees leukemia occurred markedly higher rate family strong dominant negative ke mutation compared pedigree complete deletion run table song et al michaud et al thus low run activity appears correlate high leukemogenicity hypothesis may epanded etent leukemogenesis induced chimeric genes majority current findings indicate major function chimeric genes transdominant inhibition wild type run resulting severely decreased run activity affected cells currently partner genes fused run identified chromosomal translocations although chimeric gene may leukemogenic mechanism run insufficiency may common underlying mechanism run leukemias table run mutations familial leukemia fpd aml table run mutations familial leukemia fpd aml unfortunately unable provide accessible alternative tet require assistance access image please contact help nature com author full table acquired trisomy underscores notion run mutant alleles appear duplicated frequently finding may also lend supporting evidence hypothesis reduced run activity increases leukemogenic status argument discussed later top page mutation status disease phenotype sporadic leukemias biallelic mutation aml subtype run point mutations frequently found aml subtype table addition cases showed biallelic type mutation table conversely two run mutation cases leukemia subtypes biallelic type therefore clear run point mutations biallelic type tightly associated aml subtype mice heterozygous run mtg pebpbeta cbfbeta myh chimeric genes showed defects definitive hematopoiesis similar run mice suggesting chimeric genes act strong transdominant inhibitors remaining normal run allele castilla et al okuda et al yergeau et al therefore leukemogenic potential biallelic run mutants considered equivalent chimeric genes hand inv biallelic point mutations related distinct meo subtypes myeloid leukemias respectively different disease phenotypes quite interesting contribution partner gene thought considerable may also eplained different residual activities run affected adult hematopoietic cells conditional run knockout mice showed apparent defects hematopoiesis ichikawa et al whereas hematopoiesis conditional heterozygous run eto knockin mice nearly normal higuchi et al suggesting run induces severe effects run eto chimeric gene adult hematopoiesis subtype shows minimally differentiated morphology subtype characteristically well differentiated therefore differing residual activities run seem important addition influence activities run family genes must considered run mtg pebpbeta cbfbeta myh chimeric genes could inhibit run run well run status defect run alone careful study resolve intriguing issue table run mutations aml subtype table run mutations aml subtype unfortunately unable provide accessible alternative tet require assistance access image please contact help nature com author full table note biallelic type mutation strictly confined status two copies run biallelic mutation trisomy associated aml subtype associated myeloid malignancies phenotypic difference discussed later entire distribution including c terminal moiety mds aml secondary leukemia run point mutations also frequently found mds subsequent overt leukemia referred review mds aml tables mutations characteristically distributed also detected c terminal region rarely targeted types leukemias harada et al since distribution recently identified c terminal mutations overlooked number previous studies half studies investigate eons b c terminal region regard mds aml incidence covering eons eons evaluated less frequently eons alone table thus c terminal mutations may underestimated mds aml however c terminal mutations still seem rare aml since c terminal mutations identified study relatively large number cases therefore run point mutations including c terminal moiety appear found predominantly mds aml table run mutations mds table run mutations mds unfortunately unable provide accessible alternative tet require assistance access image please contact help nature com author full table harada et al hiroshima one two cities suffered atomic bomb reported two implications run mutations secondary mds aml referred review mds aml including therapy related atomic bomb related mds aml firstly relationship radiation seems important terms social issue addition victims two cities estimated us soldiers significant number local residents passengers irradiated aboveground nuclear weapon test sites nevada bikini atoll others late many people thought succumbed mds aml caused run point mutation secondly involvement therapy related mds aml seems general impact improvement treatments primary cancer incidence therapy related mds aml continues increase therapy related mds aml accounts roughly new cases mds aml standard hospitals therefore incidence secondary mds aml run mutation comparable aml subtype inv aml meo subtype table considering poor prognosis clinical implication run point mutation secondary mds aml would rather significant epected table estimated frequency leukemia run point mutation table estimated frequency leukemia run point mutation unfortunately unable provide accessible alternative tet require assistance access image please contact help nature com author full table leukemic incidence rates based several tetbooks public databases cdc national cancer institute nih cll accounts may eplain relatively low incidences inv acquired congenital trisomy non mo myeloid malignancy preudhomme et al first reported relationship trisomy run point mutation table sporadic cases myeloid lymphoid malignancy trisomy associated high frequency run point mutations taketani et al subsequently surveyed run mutation congenital cases trisomy syndrome related hematopoietic diseases however point mutation congenital cases appears rare ecept enigmatic hn variation nearly normal function allelic analysis sporadic cases acquired trisomy showed following combination mutant vs wild type co occurrence mutation trisomy associated allelic combination one mutant two wt combination however combination never found findings suggest trisomy increases copy number mutant allele already eists status two copies run words trisomy thought secondary change run status trisomy second hit discussed later table trisomy run mutation table trisomy run mutation unfortunately unable provide accessible alternative tet require assistance access image please contact help nature com author full table mentioned earlier biallelic run mutations tightly liked aml subtype however interestingly acquired carrying run point mutation never observed aml subtype even cases biallelic mutations table discrepancy eplained differing residual activities run half cases run mutation monoallelic leukemic phenotype may determined yet undetermined mechanism top page familial leukemia fpd aml heterozygous germline mutation run gene causes familial leukemia familial platelet disorder predisposition acute myelogenous leukemia fpd aml total pedigrees identified far mainly individuals european descent table fpd alone onset aml fatal significantly inhibits blood clotting could life threatening surgery injury dental treatment childbirth incidence leukemia among affected individuals varies average highest familial leukemia syndromes including fanconi anemia bloom syndrome kostman syndrome affected subjects seem develop myeloid malignancies throughout life span later life described previous reports leukemia developed age years four cases features fpd aml compared similar dominant hereditary disease huntington disease hd subjects hd healthy disease onset years age die years later addition low penetrance low severity symptoms late onset key factor hereditary disease since patients often children disease symptoms appear hands fpd aml seems detrimental subjects factors hereditary disease pedigree full drawbacks eist fpd aml may persist disease due easy mutability run discussed run indeed contains easy mutable primary sequences triplets containing cpg dinucleotides etremely prone transition type mutations facilitated methylation cytidine residue rodenhiser et al yoshida et al mechanism could work particularly well germ cells fpd aml pedigree may readily disappear human population de novo pedigree could continually generated comparable frequency consistent argument ccd cases caused run mutation approimately half de novo familial type zhou et al irradiation readily generates ccd like phenotypes mice due run alterations run shares noted easy mutable sequences case run healthy british subjects two kinds variations ls ssyn frequency respectively langabeer et al japanese subjects also several recurrent enigmatic variations gr isyn hn interestingly gr identified leukemia patients healthy volunteers harada et al taketani et al variations probably including polymorphisms might reflect noted easy mutability run mentioned fpd aml etremely rare worldwide therefore clinical entity overlooked physicians recently bone marrow transplantaion carried affected sibling mild fpd symptoms patient suffering aml buijs et al recipient succumbed leukemia clearly hematopoietic cells derived donor top page genetic alterations cooperating run status mentioned earlier run status frequently found aml subtype thus run may appear act classical tumor suppressor gene requiring inactivation two alleles according knudson two hits theory however biallelic inactivation required cases leukemogenesis fact overall frequency biallelic cases relatively low cases biallelic cases fpd aml never reported therefore run per se appears leukemogenic dominant negative effect associated missense mutations might play role leukemogenesis etent gene inactivation case heterozygous mutation appears step towards leukemogenesis therefore mutation wild type run remaining allele considered second hit addition run status furthermore acquired congenital trisomy also thought second hit discussed earlier link run mutation interpreted follows mutation takes place two copy status mutant allele duplicated accordance run cases acquirement another mutant allele therefore thought additional genetic alteration cooperating run status figure figure figure unfortunately unable provide accessible alternative tet require assistance access image please contact help nature com author leukemogenesis run biallelic mutations run run tightly liked aml subtype however acquired carrying run point mutation run never observed despite cases biallelic mutations mutation likely takes place two copy status run mutant allele duplicated accordance resulting myeloid malignancies flt mutations frequently found cases run point mutations genetic alterations mapped based observations full figure legend k line cytogenetics helps identify second hits patients run point mutations show following concurrent abnormalities cases showed tables loss chromosome suspected strong predisposing factor second hit run flt mutations frequently observed even monoallelic run mutations patients table matsuno et al roumier et al b hence flt mutation also cooperating genetic alteration figure flt mutation results constitutively active form known stimulate cell proliferation therefore differentiation blockade run alteration growth stimulation flt mutation would synergistically contribute substantial fraction aml subtype cases interesting enough flt mutations known rare run leukemias inv certain run leukemias seem cooperate distinct second hits elucidation mechanism might shed light development run leukemias top page current problems region mutation screening discussed previously half screening studies cover c terminal eons b therefore overlooked c terminal mutations mds aml c terminal screening unlikely reveal information aml recommended likewise eons might affected particular types leukemia theoretically promoter untranslated regions could also targeted variations significant numbers variations reported shown table figure functional analyses yet performed cases variation must studied determine mutation polymorphism analyses polymorphisms might help characterize susceptibility leukemia dominant negative effect c terminal mutants mds aml reporter assay c terminal mutants found mds aml showed inhibitory effects transdominant manner like missense mutants runt domain harada et al however similar c terminal run mutations ccd patients retain partial transactivation activity show much milder phenotypes compared standard ccd phenotypes caused simple gene deletions yoshida et al discrepancy may due distinct cell contet promoter used assay however correlation mds aml might indicate c terminal mutants milder inhibitory effects runt domain mutants biological assay reporter assay may address issue cooperative genetic alterations flt mutation thought second hits mds aml run mutations high frequency chromosome loss suggests inactivation unknown gene chromosome plays synergistic role run mutations however overall frequency mutations account cases furthermore induce leukemia three five genetic alterations considered required based current evidence therefore number genetic alterations must identified understand whole leukemogenic mechanism run leukemia laboratory recently established mouse system appears quite useful myeloid leukemia prone mice mimicking fpd aml generated backcrossing run onto bh strain retroviral insertional mutagenesis occurs spontaneously eventual development myeloid leukemia cases li et al proviral integration sites leukemias provide powerful genetic tags disease gene identification therefore collaborating oncogenes run would readily detected loss function run widely believed common underlying mechanism run leukemia run status considered minimum alteration required several forms run leukemias therefore mouse model fpd aml mentioned useful searching cooperative genetic alterations run leukemias inv genetic alterations identified retroviral tagging system might eplain leukemogenic mechanisms run point mutations also run leukemias top page future directions run status leukemogenic question seems fundamental question run point mutation also run leukemias determining means run leukemogenic may possible currently used approaches evaluate differentiation proliferation apoptosis cellular level transcriptional control molecular level novel approach warranted eample alteration stemness investigated run status stemness could provide cells time window sufficient sequential genetic alterations intrinsic molecular functions relevant leukemogenesis transcriptional control might identified novel approaches'],\n",
       "      dtype=object)"
      ]
     },
     "execution_count": 11,
     "metadata": {},
     "output_type": "execute_result"
    }
   ],
   "source": [
    "df['TEXT'].values"
   ]
  },
  {
   "cell_type": "markdown",
   "metadata": {},
   "source": [
    "## Creating the Tokenizer object and fitting it with the vocabularity of text corpus"
   ]
  },
  {
   "cell_type": "code",
   "execution_count": 12,
   "metadata": {},
   "outputs": [
    {
     "name": "stdout",
     "output_type": "stream",
     "text": [
      "Found 91934 unique tokens.\n"
     ]
    }
   ],
   "source": [
    "# The maximum number of words to be used. (most frequent)\n",
    "MAX_NB_WORDS = 50000\n",
    "# Max number of words in each complaint.\n",
    "MAX_SEQUENCE_LENGTH = 250\n",
    "# This is fixed.\n",
    "EMBEDDING_DIM = 100\n",
    "tokenizer = Tokenizer(num_words=MAX_NB_WORDS, filters='!\"#$%&()*+,-./:;<=>?@[\\]^_`{|}~', lower=True)\n",
    "tokenizer.fit_on_texts(df['TEXT'].astype('str').values)\n",
    "word_index = tokenizer.word_index\n",
    "print('Found %s unique tokens.' % len(word_index))"
   ]
  },
  {
   "cell_type": "markdown",
   "metadata": {},
   "source": [
    "## Saving the Tokenizer and loading it"
   ]
  },
  {
   "cell_type": "code",
   "execution_count": 13,
   "metadata": {},
   "outputs": [
    {
     "data": {
      "text/plain": [
       "\"import pickle\\n\\n# saving\\nwith open('model/tokenizer.pickle', 'wb') as handle:\\n    pickle.dump(tokenizer, handle, protocol=pickle.HIGHEST_PROTOCOL)\""
      ]
     },
     "execution_count": 13,
     "metadata": {},
     "output_type": "execute_result"
    }
   ],
   "source": [
    "\"\"\"import pickle\n",
    "\n",
    "# saving\n",
    "with open('model/tokenizer.pickle', 'wb') as handle:\n",
    "    pickle.dump(tokenizer, handle, protocol=pickle.HIGHEST_PROTOCOL)\"\"\""
   ]
  },
  {
   "cell_type": "code",
   "execution_count": 14,
   "metadata": {},
   "outputs": [
    {
     "data": {
      "text/plain": [
       "'del tokenizer'"
      ]
     },
     "execution_count": 14,
     "metadata": {},
     "output_type": "execute_result"
    }
   ],
   "source": [
    "\"\"\"del tokenizer\"\"\""
   ]
  },
  {
   "cell_type": "code",
   "execution_count": 15,
   "metadata": {},
   "outputs": [
    {
     "data": {
      "text/plain": [
       "\"# loading\\nwith open('model/tokenizer.pickle', 'rb') as handle:\\n    tokenizer = pickle.load(handle)\""
      ]
     },
     "execution_count": 15,
     "metadata": {},
     "output_type": "execute_result"
    }
   ],
   "source": [
    "\"\"\"# loading\n",
    "with open('model/tokenizer.pickle', 'rb') as handle:\n",
    "    tokenizer = pickle.load(handle)\"\"\""
   ]
  },
  {
   "cell_type": "code",
   "execution_count": 16,
   "metadata": {},
   "outputs": [
    {
     "name": "stdout",
     "output_type": "stream",
     "text": [
      "Shape of data tensor: (3321, 250)\n"
     ]
    }
   ],
   "source": [
    "X_Text = tokenizer.texts_to_sequences(df['TEXT'].astype('str').values)\n",
    "X_Text = pad_sequences(X_Text, maxlen=MAX_SEQUENCE_LENGTH)\n",
    "print('Shape of data tensor:', X_Text.shape)"
   ]
  },
  {
   "cell_type": "code",
   "execution_count": null,
   "metadata": {},
   "outputs": [],
   "source": []
  },
  {
   "cell_type": "code",
   "execution_count": 17,
   "metadata": {},
   "outputs": [
    {
     "data": {
      "text/plain": [
       "array([[9737,  168,  251, ..., 2693, 3799, 2628],\n",
       "       [ 255,    4,  477, ..., 4394, 1621,  746],\n",
       "       [ 255,    4,  477, ..., 4394, 1621,  746],\n",
       "       ...,\n",
       "       [ 341, 2256,  186, ...,  180,   38,   24],\n",
       "       [ 726,  335,   50, ...,   52,  369, 1146],\n",
       "       [ 726,  335,   50, ...,   52,  369, 1146]])"
      ]
     },
     "execution_count": 17,
     "metadata": {},
     "output_type": "execute_result"
    }
   ],
   "source": [
    "X_Text"
   ]
  },
  {
   "cell_type": "code",
   "execution_count": 18,
   "metadata": {},
   "outputs": [
    {
     "data": {
      "text/plain": [
       "(3321,)"
      ]
     },
     "execution_count": 18,
     "metadata": {},
     "output_type": "execute_result"
    }
   ],
   "source": [
    "df['TEXT'].astype('str').values.shape"
   ]
  },
  {
   "cell_type": "code",
   "execution_count": 19,
   "metadata": {},
   "outputs": [
    {
     "name": "stdout",
     "output_type": "stream",
     "text": [
      "Shape of label tensor: (3321, 9)\n"
     ]
    }
   ],
   "source": [
    "Y_Text = pd.get_dummies(df['Class']).values\n",
    "print('Shape of label tensor:', Y_Text.shape)"
   ]
  },
  {
   "cell_type": "code",
   "execution_count": 20,
   "metadata": {},
   "outputs": [
    {
     "data": {
      "text/html": [
       "<div>\n",
       "<style scoped>\n",
       "    .dataframe tbody tr th:only-of-type {\n",
       "        vertical-align: middle;\n",
       "    }\n",
       "\n",
       "    .dataframe tbody tr th {\n",
       "        vertical-align: top;\n",
       "    }\n",
       "\n",
       "    .dataframe thead th {\n",
       "        text-align: right;\n",
       "    }\n",
       "</style>\n",
       "<table border=\"1\" class=\"dataframe\">\n",
       "  <thead>\n",
       "    <tr style=\"text-align: right;\">\n",
       "      <th></th>\n",
       "      <th>ID</th>\n",
       "      <th>Gene</th>\n",
       "      <th>Variation</th>\n",
       "      <th>TEXT</th>\n",
       "    </tr>\n",
       "    <tr>\n",
       "      <th>Class</th>\n",
       "      <th></th>\n",
       "      <th></th>\n",
       "      <th></th>\n",
       "      <th></th>\n",
       "    </tr>\n",
       "  </thead>\n",
       "  <tbody>\n",
       "    <tr>\n",
       "      <th>1</th>\n",
       "      <td>568</td>\n",
       "      <td>568</td>\n",
       "      <td>568</td>\n",
       "      <td>568</td>\n",
       "    </tr>\n",
       "    <tr>\n",
       "      <th>2</th>\n",
       "      <td>452</td>\n",
       "      <td>452</td>\n",
       "      <td>452</td>\n",
       "      <td>452</td>\n",
       "    </tr>\n",
       "    <tr>\n",
       "      <th>3</th>\n",
       "      <td>89</td>\n",
       "      <td>89</td>\n",
       "      <td>89</td>\n",
       "      <td>89</td>\n",
       "    </tr>\n",
       "    <tr>\n",
       "      <th>4</th>\n",
       "      <td>686</td>\n",
       "      <td>686</td>\n",
       "      <td>686</td>\n",
       "      <td>686</td>\n",
       "    </tr>\n",
       "    <tr>\n",
       "      <th>5</th>\n",
       "      <td>242</td>\n",
       "      <td>242</td>\n",
       "      <td>242</td>\n",
       "      <td>242</td>\n",
       "    </tr>\n",
       "    <tr>\n",
       "      <th>6</th>\n",
       "      <td>275</td>\n",
       "      <td>275</td>\n",
       "      <td>275</td>\n",
       "      <td>275</td>\n",
       "    </tr>\n",
       "    <tr>\n",
       "      <th>7</th>\n",
       "      <td>953</td>\n",
       "      <td>953</td>\n",
       "      <td>953</td>\n",
       "      <td>953</td>\n",
       "    </tr>\n",
       "    <tr>\n",
       "      <th>8</th>\n",
       "      <td>19</td>\n",
       "      <td>19</td>\n",
       "      <td>19</td>\n",
       "      <td>19</td>\n",
       "    </tr>\n",
       "    <tr>\n",
       "      <th>9</th>\n",
       "      <td>37</td>\n",
       "      <td>37</td>\n",
       "      <td>37</td>\n",
       "      <td>37</td>\n",
       "    </tr>\n",
       "  </tbody>\n",
       "</table>\n",
       "</div>"
      ],
      "text/plain": [
       "        ID  Gene  Variation  TEXT\n",
       "Class                            \n",
       "1      568   568        568   568\n",
       "2      452   452        452   452\n",
       "3       89    89         89    89\n",
       "4      686   686        686   686\n",
       "5      242   242        242   242\n",
       "6      275   275        275   275\n",
       "7      953   953        953   953\n",
       "8       19    19         19    19\n",
       "9       37    37         37    37"
      ]
     },
     "execution_count": 20,
     "metadata": {},
     "output_type": "execute_result"
    }
   ],
   "source": [
    "df.groupby(df['Class']).count()"
   ]
  },
  {
   "cell_type": "code",
   "execution_count": 21,
   "metadata": {},
   "outputs": [
    {
     "name": "stdout",
     "output_type": "stream",
     "text": [
      "(2988, 250) (2988, 9)\n",
      "(333, 250) (333, 9)\n"
     ]
    }
   ],
   "source": [
    "X_train_text, X_test_text, Y_train_text, Y_test_text = train_test_split(X_Text,Y_Text, test_size = 0.1, random_state = 42)\n",
    "print(X_train_text.shape,Y_train_text.shape)\n",
    "print(X_test_text.shape,Y_test_text.shape)"
   ]
  },
  {
   "cell_type": "code",
   "execution_count": 22,
   "metadata": {},
   "outputs": [],
   "source": [
    "from tensorflow.python.keras.layers import LSTM, Dense,Embedding,SpatialDropout1D,Conv1D, MaxPooling1D, Dropout\n",
    "from tensorflow.python.keras.models import Sequential\n",
    "from tensorflow.keras.callbacks import EarlyStopping\n",
    "#from keras.callbacks import ModelCheckpoint, EarlyStopping"
   ]
  },
  {
   "cell_type": "code",
   "execution_count": 23,
   "metadata": {},
   "outputs": [
    {
     "name": "stdout",
     "output_type": "stream",
     "text": [
      "WARNING:tensorflow:From D:\\Users\\kpannegatla\\AppData\\Local\\Continuum\\anaconda3\\envs\\tf\\lib\\site-packages\\tensorflow\\python\\keras\\initializers.py:119: calling RandomUniform.__init__ (from tensorflow.python.ops.init_ops) with dtype is deprecated and will be removed in a future version.\n",
      "Instructions for updating:\n",
      "Call initializer instance with the dtype argument instead of passing it to the constructor\n",
      "WARNING:tensorflow:From D:\\Users\\kpannegatla\\AppData\\Local\\Continuum\\anaconda3\\envs\\tf\\lib\\site-packages\\tensorflow\\python\\ops\\init_ops.py:1251: calling VarianceScaling.__init__ (from tensorflow.python.ops.init_ops) with dtype is deprecated and will be removed in a future version.\n",
      "Instructions for updating:\n",
      "Call initializer instance with the dtype argument instead of passing it to the constructor\n",
      "Train on 2689 samples, validate on 299 samples\n",
      "WARNING:tensorflow:From D:\\Users\\kpannegatla\\AppData\\Local\\Continuum\\anaconda3\\envs\\tf\\lib\\site-packages\\tensorflow\\python\\ops\\math_grad.py:1250: add_dispatch_support.<locals>.wrapper (from tensorflow.python.ops.array_ops) is deprecated and will be removed in a future version.\n",
      "Instructions for updating:\n",
      "Use tf.where in 2.0, which has the same broadcast rule as np.where\n",
      "Epoch 1/30\n",
      "2689/2689 [==============================] - 23s 8ms/sample - loss: 1.8346 - acc: 0.3566 - val_loss: 1.5154 - val_acc: 0.4950\n",
      "Epoch 2/30\n",
      "2689/2689 [==============================] - 21s 8ms/sample - loss: 1.2615 - acc: 0.5545 - val_loss: 1.3246 - val_acc: 0.5452\n",
      "Epoch 3/30\n",
      "2689/2689 [==============================] - 19s 7ms/sample - loss: 0.9689 - acc: 0.6597 - val_loss: 1.3121 - val_acc: 0.5686\n",
      "Epoch 4/30\n",
      "2689/2689 [==============================] - 19s 7ms/sample - loss: 0.8191 - acc: 0.7263 - val_loss: 1.3141 - val_acc: 0.5786\n",
      "Epoch 5/30\n",
      "2689/2689 [==============================] - 19s 7ms/sample - loss: 0.7145 - acc: 0.7653 - val_loss: 1.2706 - val_acc: 0.6087\n",
      "Epoch 6/30\n",
      "2689/2689 [==============================] - 21s 8ms/sample - loss: 0.6616 - acc: 0.7824 - val_loss: 1.2243 - val_acc: 0.6120\n",
      "Epoch 7/30\n",
      "2689/2689 [==============================] - 20s 8ms/sample - loss: 0.6178 - acc: 0.7865 - val_loss: 1.2475 - val_acc: 0.6087\n",
      "Epoch 8/30\n",
      "2689/2689 [==============================] - 20s 8ms/sample - loss: 0.5855 - acc: 0.7988 - val_loss: 1.2560 - val_acc: 0.6087\n",
      "Epoch 9/30\n",
      "2689/2689 [==============================] - 20s 8ms/sample - loss: 0.5676 - acc: 0.7888 - val_loss: 1.3023 - val_acc: 0.5987\n"
     ]
    }
   ],
   "source": [
    "# Convolution\n",
    "kernel_size = 50\n",
    "filters = 64\n",
    "pool_size = 4\n",
    "\n",
    "model = Sequential()\n",
    "model.add(Embedding(MAX_NB_WORDS, EMBEDDING_DIM, input_length=X_Text.shape[1]))\n",
    "model.add(SpatialDropout1D(0.2))\n",
    "model.add(Conv1D(filters,\n",
    "                 kernel_size,\n",
    "                 padding='valid',\n",
    "                 activation='relu',\n",
    "                 strides=1))\n",
    "model.add(MaxPooling1D(pool_size=pool_size))\n",
    "#model.add(Dropout(0.5))\n",
    "model.add(LSTM(50, dropout=0.4, recurrent_dropout=0.2))\n",
    "# model.add(Dropout(0.5))\n",
    "# model.add(Dense(100,activation='relu'))\n",
    "model.add(Dense(9, activation='softmax'))\n",
    "model.compile(loss='categorical_crossentropy', optimizer='adam', metrics=['accuracy'])\n",
    "\n",
    "epochs = 30\n",
    "batch_size = 64\n",
    "\n",
    "history = model.fit(X_train_text, Y_train_text, epochs=epochs, batch_size=batch_size,validation_split=0.1,callbacks=[EarlyStopping(monitor='val_loss', patience=3, min_delta=0.0001)])"
   ]
  },
  {
   "cell_type": "code",
   "execution_count": 27,
   "metadata": {},
   "outputs": [],
   "source": [
    "model_json = model.to_json()\n",
    "with open(\"model_62_80.json\", \"w\") as json_file:\n",
    "    json_file.write(model_json)\n",
    "# serialize weights to HDF5\n",
    "model.save_weights(\"model_62_80.h5\")"
   ]
  },
  {
   "cell_type": "code",
   "execution_count": 28,
   "metadata": {
    "scrolled": true
   },
   "outputs": [
    {
     "name": "stdout",
     "output_type": "stream",
     "text": [
      "WARNING:tensorflow:From D:\\Users\\kpannegatla\\AppData\\Local\\Continuum\\anaconda3\\envs\\tf\\lib\\site-packages\\tensorflow\\python\\ops\\init_ops.py:97: calling GlorotUniform.__init__ (from tensorflow.python.ops.init_ops) with dtype is deprecated and will be removed in a future version.\n",
      "Instructions for updating:\n",
      "Call initializer instance with the dtype argument instead of passing it to the constructor\n",
      "WARNING:tensorflow:From D:\\Users\\kpannegatla\\AppData\\Local\\Continuum\\anaconda3\\envs\\tf\\lib\\site-packages\\tensorflow\\python\\ops\\init_ops.py:97: calling Zeros.__init__ (from tensorflow.python.ops.init_ops) with dtype is deprecated and will be removed in a future version.\n",
      "Instructions for updating:\n",
      "Call initializer instance with the dtype argument instead of passing it to the constructor\n",
      "WARNING:tensorflow:From D:\\Users\\kpannegatla\\AppData\\Local\\Continuum\\anaconda3\\envs\\tf\\lib\\site-packages\\tensorflow\\python\\ops\\init_ops.py:97: calling Orthogonal.__init__ (from tensorflow.python.ops.init_ops) with dtype is deprecated and will be removed in a future version.\n",
      "Instructions for updating:\n",
      "Call initializer instance with the dtype argument instead of passing it to the constructor\n",
      "Loaded model from disk\n"
     ]
    }
   ],
   "source": [
    "from tensorflow.python.keras.models import model_from_json\n",
    "# from tensorflow import keras\n",
    "# load json and create model\n",
    "json_file = open('model_62_80.json', 'r')\n",
    "loaded_model_json = json_file.read()\n",
    "json_file.close()\n",
    "model = model_from_json(loaded_model_json)\n",
    "# load weights into new model\n",
    "model.load_weights(\"model_62_80.h5\")\n",
    "print(\"Loaded model from disk\")\n",
    "model.compile(loss='categorical_crossentropy', optimizer='adam', metrics=['accuracy'])"
   ]
  },
  {
   "cell_type": "code",
   "execution_count": 29,
   "metadata": {},
   "outputs": [
    {
     "name": "stdout",
     "output_type": "stream",
     "text": [
      "333/333 [==============================] - 1s 2ms/sample - loss: 1.2160 - acc: 0.6366\n",
      "Test set\n",
      "  Loss: 1.216\n",
      "  Accuracy: 0.637\n",
      "2988/2988 [==============================] - 4s 1ms/sample - loss: 0.5566 - acc: 0.8005 0s - loss: 0.4702 - acc\n",
      "Train set\n",
      "  Loss: 0.557\n",
      "  Accuracy: 0.801\n"
     ]
    }
   ],
   "source": [
    "accr = model.evaluate(X_test_text,Y_test_text)\n",
    "print('Test set\\n  Loss: {:0.3f}\\n  Accuracy: {:0.3f}'.format(accr[0],accr[1]))\n",
    "accr = model.evaluate(X_train_text,Y_train_text)\n",
    "print('Train set\\n  Loss: {:0.3f}\\n  Accuracy: {:0.3f}'.format(accr[0],accr[1]))"
   ]
  },
  {
   "cell_type": "code",
   "execution_count": 30,
   "metadata": {},
   "outputs": [
    {
     "name": "stdout",
     "output_type": "stream",
     "text": [
      "Model: \"sequential\"\n",
      "_________________________________________________________________\n",
      "Layer (type)                 Output Shape              Param #   \n",
      "=================================================================\n",
      "embedding (Embedding)        (None, 250, 100)          5000000   \n",
      "_________________________________________________________________\n",
      "spatial_dropout1d (SpatialDr (None, 250, 100)          0         \n",
      "_________________________________________________________________\n",
      "conv1d (Conv1D)              (None, 201, 64)           320064    \n",
      "_________________________________________________________________\n",
      "max_pooling1d (MaxPooling1D) (None, 50, 64)            0         \n",
      "_________________________________________________________________\n",
      "lstm (LSTM)                  (None, 50)                23000     \n",
      "_________________________________________________________________\n",
      "dense (Dense)                (None, 9)                 459       \n",
      "=================================================================\n",
      "Total params: 5,343,523\n",
      "Trainable params: 5,343,523\n",
      "Non-trainable params: 0\n",
      "_________________________________________________________________\n"
     ]
    }
   ],
   "source": [
    "model.summary()"
   ]
  },
  {
   "cell_type": "code",
   "execution_count": null,
   "metadata": {},
   "outputs": [],
   "source": [
    "np.random.random(input_shape)[np.newaxis,...].shape"
   ]
  },
  {
   "cell_type": "code",
   "execution_count": 31,
   "metadata": {},
   "outputs": [
    {
     "name": "stdout",
     "output_type": "stream",
     "text": [
      "Loaded model from disk\n",
      "WARNING:tensorflow:From D:\\Users\\kpannegatla\\AppData\\Local\\Continuum\\anaconda3\\envs\\tf\\lib\\site-packages\\keras\\backend\\tensorflow_backend.py:422: The name tf.global_variables is deprecated. Please use tf.compat.v1.global_variables instead.\n",
      "\n",
      "(1, 50)\n"
     ]
    }
   ],
   "source": [
    "from tensorflow.python.keras.models import model_from_json\n",
    "from keras import backend as K\n",
    "\n",
    "#Loading the model\n",
    "json_file = open('model_62_80.json', 'r')\n",
    "loaded_model_json = json_file.read()\n",
    "json_file.close()\n",
    "model = model_from_json(loaded_model_json)\n",
    "# load weights into new model\n",
    "model.load_weights(\"model_62_80.h5\")\n",
    "print(\"Loaded model from disk\")\n",
    "model.compile(loss='categorical_crossentropy', optimizer='adam', metrics=['accuracy'])\n",
    "#Trying to get the output of lstm layer\n",
    "inp = model.input                                           # input placeholder\n",
    "outputs = [layer.output for layer in model.layers]          # all layer outputs\n",
    "functor = K.function([inp, K.learning_phase()], outputs )   # evaluation function\n",
    "\n",
    "# Testing\n",
    "input_shape=X_Text.shape[1]\n",
    "# test = np.random.random(input_shape)[np.newaxis,...]\n",
    "test=X_train_text[0][np.newaxis,...]\n",
    "layer_outs = functor([test, 1.])\n",
    "print(layer_outs[4].shape)\n",
    "new_text=layer_outs[4]"
   ]
  },
  {
   "cell_type": "code",
   "execution_count": 32,
   "metadata": {},
   "outputs": [
    {
     "data": {
      "text/plain": [
       "(3321, 250)"
      ]
     },
     "execution_count": 32,
     "metadata": {},
     "output_type": "execute_result"
    }
   ],
   "source": [
    "X_Text.shape"
   ]
  },
  {
   "cell_type": "code",
   "execution_count": 34,
   "metadata": {},
   "outputs": [
    {
     "data": {
      "text/plain": [
       "Index(['Variation_Y772_A775dup', 'Variation_Y791F', 'Variation_Y801H',\n",
       "       'Variation_Y803N', 'Variation_Y806C', 'Variation_Y823D',\n",
       "       'Variation_Y835F', 'Variation_Y842C', 'Variation_Y846C',\n",
       "       'Variation_Y849C', 'Variation_Y849S', 'Variation_Y87C',\n",
       "       'Variation_Y87N', 'Variation_Y901C', 'Variation_Y931C',\n",
       "       'Variation_Y98H', 'Variation_Y98N', 'Variation_YAP1-FAM118B Fusion',\n",
       "       'Variation_YAP1-MAMLD1 Fusion', 'Variation_ZC3H7B-BCOR Fusion',\n",
       "       'Variation_ZNF198-FGFR1 Fusion', 'Variation_p61BRAF', '0', '1', '2',\n",
       "       '3', '4', '5', '6', '7', '8', '9', '10', '11', '12', '13', '14', '15',\n",
       "       '16', '17', '18', '19', '20', '21', '22', '23', '24', '25', '26', '27',\n",
       "       '28', '29', '30', '31', '32', '33', '34', '35', '36', '37', '38', '39',\n",
       "       '40', '41', '42', '43', '44', '45', '46', '47', '48', '49'],\n",
       "      dtype='object')"
      ]
     },
     "execution_count": 34,
     "metadata": {},
     "output_type": "execute_result"
    }
   ],
   "source": [
    "pd.read_csv('transormed_1.csv').columns[-72:]"
   ]
  },
  {
   "cell_type": "code",
   "execution_count": 35,
   "metadata": {},
   "outputs": [
    {
     "name": "stdout",
     "output_type": "stream",
     "text": [
      "(1, 50)\n"
     ]
    }
   ],
   "source": [
    "from keras import backend as K\n",
    "\n",
    "inp = model.input                                           # input placeholder\n",
    "outputs = [layer.output for layer in model.layers]          # all layer outputs\n",
    "functor = K.function([inp, K.learning_phase()], outputs )   # evaluation function\n",
    "\n",
    "# Testing\n",
    "input_shape=X_Text.shape[1]\n",
    "# test = np.random.random(input_shape)[np.newaxis,...]\n",
    "test=X_train_text[0][np.newaxis,...]\n",
    "layer_outs = functor([test, 1.])\n",
    "print(layer_outs[4].shape)"
   ]
  },
  {
   "cell_type": "code",
   "execution_count": 36,
   "metadata": {
    "scrolled": true
   },
   "outputs": [
    {
     "data": {
      "text/plain": [
       "[array([[[ 0.00583301, -0.05062416,  0.00659524, ..., -0.00127503,\n",
       "          -0.04430197, -0.0349465 ],\n",
       "         [ 0.00125504,  0.03705791,  0.03220299, ...,  0.04336581,\n",
       "          -0.07892461,  0.00221441],\n",
       "         [-0.001146  , -0.02411515,  0.06484778, ...,  0.02242417,\n",
       "          -0.00965122, -0.02020527],\n",
       "         ...,\n",
       "         [ 0.04670335,  0.01182109,  0.13895577, ..., -0.01640785,\n",
       "           0.00200837,  0.03418484],\n",
       "         [ 0.06936964,  0.02474812, -0.0600392 , ..., -0.00681352,\n",
       "           0.02312789,  0.02421081],\n",
       "         [-0.04274713, -0.00165123, -0.00705071, ...,  0.01860771,\n",
       "          -0.04025328,  0.01690738]]], dtype=float32),\n",
       " array([[[ 0.00729126, -0.06328019,  0.00824405, ..., -0.00159379,\n",
       "          -0.05537746, -0.04368313],\n",
       "         [ 0.0015688 ,  0.04632238,  0.04025373, ...,  0.05420726,\n",
       "          -0.09865576,  0.00276801],\n",
       "         [-0.0014325 , -0.03014393,  0.08105972, ...,  0.02803021,\n",
       "          -0.01206403, -0.02525659],\n",
       "         ...,\n",
       "         [ 0.05837918,  0.01477636,  0.17369471, ..., -0.02050982,\n",
       "           0.00251046,  0.04273105],\n",
       "         [ 0.08671205,  0.03093515, -0.075049  , ..., -0.0085169 ,\n",
       "           0.02890986,  0.03026352],\n",
       "         [-0.05343391, -0.00206404, -0.00881339, ...,  0.02325964,\n",
       "          -0.0503166 ,  0.02113422]]], dtype=float32),\n",
       " array([[[0.08977088, 0.025256  , 0.        , ..., 0.04311881,\n",
       "          0.08614793, 0.36281025],\n",
       "         [0.12818867, 0.        , 0.        , ..., 0.13190198,\n",
       "          0.14832842, 0.5224199 ],\n",
       "         [0.05729323, 0.        , 0.        , ..., 0.3234188 ,\n",
       "          0.3403236 , 0.24268171],\n",
       "         ...,\n",
       "         [0.2974101 , 0.        , 0.        , ..., 0.57754576,\n",
       "          0.30577347, 1.1433145 ],\n",
       "         [0.12920126, 0.        , 0.        , ..., 0.5671435 ,\n",
       "          0.33309972, 1.0340152 ],\n",
       "         [0.30171824, 0.        , 0.        , ..., 0.4270154 ,\n",
       "          0.58811784, 0.97822523]]], dtype=float32),\n",
       " array([[[0.12818867, 0.025256  , 0.        , ..., 0.3234188 ,\n",
       "          0.3403236 , 0.5224199 ],\n",
       "         [0.19749981, 0.        , 0.        , ..., 0.4264203 ,\n",
       "          0.21202588, 0.34695733],\n",
       "         [0.1232936 , 0.        , 0.        , ..., 0.4097792 ,\n",
       "          0.41223472, 0.31673166],\n",
       "         ...,\n",
       "         [0.13157174, 0.        , 0.        , ..., 0.8095065 ,\n",
       "          0.71783316, 1.0865868 ],\n",
       "         [0.34694645, 0.        , 0.        , ..., 0.6204901 ,\n",
       "          0.6855406 , 1.2963806 ],\n",
       "         [0.2974101 , 0.        , 0.        , ..., 0.6025149 ,\n",
       "          0.6756555 , 1.1433145 ]]], dtype=float32),\n",
       " array([[-0.95005774,  0.78615266, -1.        , -0.5788659 ,  0.5605373 ,\n",
       "         -0.62570417, -0.70938647, -0.9998205 , -0.9999996 ,  0.9999984 ,\n",
       "         -0.69628435, -0.35739142,  0.9999999 , -0.7646364 , -0.9999573 ,\n",
       "          0.0053196 ,  0.5610038 , -0.23116846,  0.99222356, -0.43040165,\n",
       "          0.7311873 , -0.9785457 ,  0.19539337,  0.93182886, -0.828311  ,\n",
       "          0.36871937, -0.90843624, -0.84512234,  0.34091482, -0.8263183 ,\n",
       "         -0.9999988 ,  0.9971119 , -0.99999565,  0.99705714,  0.8354839 ,\n",
       "         -0.21621765,  0.82425934, -0.92550266,  0.5017392 , -1.        ,\n",
       "          0.9249185 ,  0.9998976 , -0.9244645 ,  0.8927463 , -0.41933885,\n",
       "          0.9909563 , -0.09656879,  0.49479508, -0.8840835 ,  0.61139375]],\n",
       "       dtype=float32),\n",
       " array([[9.90488529e-01, 2.31646607e-03, 4.02637233e-04, 4.18720208e-03,\n",
       "         2.31581111e-03, 1.13289418e-04, 1.02489495e-04, 4.00879544e-05,\n",
       "         3.33755488e-05]], dtype=float32)]"
      ]
     },
     "execution_count": 36,
     "metadata": {},
     "output_type": "execute_result"
    }
   ],
   "source": [
    "layer_outs"
   ]
  },
  {
   "cell_type": "markdown",
   "metadata": {},
   "source": [
    "## Text representations from lstm model"
   ]
  },
  {
   "cell_type": "code",
   "execution_count": 37,
   "metadata": {},
   "outputs": [],
   "source": [
    "d={}\n",
    "for i in range(50):\n",
    "    d[i]=[]"
   ]
  },
  {
   "cell_type": "code",
   "execution_count": 38,
   "metadata": {},
   "outputs": [
    {
     "data": {
      "text/plain": [
       "array([ 9737,   168,   251,   526,     5,   159, 14322, 17910,     2,\n",
       "        6189,   256, 12180, 18981,   956,    45,  9230,  1678,   202,\n",
       "        2310,   357,    81,  6338,  3958, 40624, 40625,   420,   656,\n",
       "       18981,     1,   678,   238,  1059,  1760, 18981, 18981,   271,\n",
       "         814, 10345,   833,   114,    64, 18981,   256,    54, 10345,\n",
       "        1206, 18981, 18981,    78,     9,  1212,  1172,   886, 10345,\n",
       "       18981,  3412,  1604,    94, 10345,     1,   631,  6312,   420,\n",
       "          53,  4183,    81,    35,  6322,  1303,    67,    81,  4054,\n",
       "         255,  2606,   511,  6322,  4887,   256,  2513,   112,   190,\n",
       "         159,  1128,   268,  3902,  1053,  6312,   420,  1656,  2267,\n",
       "         678,   853, 10345,   395,   555,   159,    72,   381,  1081,\n",
       "           2,    67,    73, 10345,    86,  2725,  2771,   520,   167,\n",
       "         800, 10345,   395,    16,   159,   150,     2,    78,   219,\n",
       "          78,     9,  1212,  1172,  2491, 10345,     5,   159,    54,\n",
       "         111,    56,     1, 10345,   251,   881,  5353,    60,   357,\n",
       "         211,  4887,   282,   168,   251,   119,   889,   191,    16,\n",
       "        4124,    27,  1434, 29394,  5746,    69,   943,  2191,  5353,\n",
       "         357,    41,  7836,  3225, 10345,     1,   105,   106,   227,\n",
       "         129,   251,  4481,   966,  6783,    44,  1247,  2565,  1136,\n",
       "        6312,   420, 40624, 40625,   420,  2350,  1259,    94,   787,\n",
       "        1838,    27,   149, 45341,   420,   467,  1927,   256,  1924,\n",
       "         143,  5234,  9335,   182,  2033,  4396, 45341,  6312,   420,\n",
       "         268,  2274,   467,   373, 10345,  1838, 10345,   374,   576,\n",
       "        1543,  5900, 23934,   186,  3299,  2565, 23934, 10345,    89,\n",
       "          47,    60,   357,  2628,   392,  2565, 23934, 10345,    64,\n",
       "        1141,   108,    44, 10345, 23934,  1153,   968,   232, 10345,\n",
       "       23934,    44,   118,   136,   251,   875,   751,  1136,   143,\n",
       "         191,    44,   266,   268,  2693,  3799,  2628])"
      ]
     },
     "execution_count": 38,
     "metadata": {},
     "output_type": "execute_result"
    }
   ],
   "source": [
    "X_Text[0]"
   ]
  },
  {
   "cell_type": "code",
   "execution_count": 39,
   "metadata": {},
   "outputs": [],
   "source": [
    "# d={'text_representations_63_80':[]}\n",
    "for tokens in X_Text:\n",
    "    test=tokens[np.newaxis,...]\n",
    "    layer_outs = functor([test, 1.])\n",
    "    l=layer_outs[4].flatten().tolist()\n",
    "    for i,rep in enumerate(l):\n",
    "        d[i].append(l[i])"
   ]
  },
  {
   "cell_type": "code",
   "execution_count": 40,
   "metadata": {},
   "outputs": [],
   "source": [
    "pd.DataFrame(d).to_csv('text_rep_lstm.csv',index=False)"
   ]
  },
  {
   "cell_type": "code",
   "execution_count": 41,
   "metadata": {},
   "outputs": [],
   "source": [
    "X=X.drop(['TEXT'],axis=1)"
   ]
  },
  {
   "cell_type": "code",
   "execution_count": 42,
   "metadata": {},
   "outputs": [],
   "source": [
    "X_dummies=pd.get_dummies(X)"
   ]
  },
  {
   "cell_type": "code",
   "execution_count": 43,
   "metadata": {},
   "outputs": [
    {
     "data": {
      "text/plain": [
       "(3321, 3260)"
      ]
     },
     "execution_count": 43,
     "metadata": {},
     "output_type": "execute_result"
    }
   ],
   "source": [
    "X_dummies.shape"
   ]
  },
  {
   "cell_type": "code",
   "execution_count": 44,
   "metadata": {
    "scrolled": true
   },
   "outputs": [],
   "source": [
    "df_new=pd.concat([X_dummies,pd.DataFrame(d)],axis=1)"
   ]
  },
  {
   "cell_type": "code",
   "execution_count": 55,
   "metadata": {},
   "outputs": [
    {
     "data": {
      "text/plain": [
       "(3321, 3310)"
      ]
     },
     "execution_count": 55,
     "metadata": {},
     "output_type": "execute_result"
    }
   ],
   "source": [
    "df_new.shape"
   ]
  },
  {
   "cell_type": "code",
   "execution_count": 56,
   "metadata": {},
   "outputs": [],
   "source": [
    "df_new.to_csv('transormed_1.csv',index=False)"
   ]
  },
  {
   "cell_type": "code",
   "execution_count": 57,
   "metadata": {},
   "outputs": [],
   "source": [
    "Y.to_csv('labels.csv',index=False)"
   ]
  },
  {
   "cell_type": "markdown",
   "metadata": {},
   "source": [
    "## Loading saved data"
   ]
  },
  {
   "cell_type": "code",
   "execution_count": 58,
   "metadata": {},
   "outputs": [],
   "source": [
    "import pandas as pd\n",
    "df_new=pd.read_csv('transormed_1.csv')\n",
    "Y=pd.read_csv('labels.csv')"
   ]
  },
  {
   "cell_type": "code",
   "execution_count": 65,
   "metadata": {},
   "outputs": [
    {
     "data": {
      "text/plain": [
       "(3321, 3310)"
      ]
     },
     "execution_count": 65,
     "metadata": {},
     "output_type": "execute_result"
    }
   ],
   "source": [
    "df_new.shape"
   ]
  },
  {
   "cell_type": "markdown",
   "metadata": {},
   "source": [
    "## SVD for decomposition of whole components"
   ]
  },
  {
   "cell_type": "code",
   "execution_count": null,
   "metadata": {},
   "outputs": [],
   "source": [
    "import numpy as np\n",
    "from sklearn.decomposition import TruncatedSVD\n",
    "\n",
    "# A = np.array([[-1, 2, 0], [2, 0, -2], [0, -2, 1]])\n",
    "# print(\"Original Matrix:\")\n",
    "# print(A)\n",
    "\n",
    "svd =  TruncatedSVD(n_components = 1000)\n",
    "A_transf = svd.fit_transform(df_new)\n",
    "\n",
    "# print(\"Singular values:\")\n",
    "# print(svd.singular_values_)\n",
    "\n",
    "print(\"Transformed Matrix after reducing to 2 features:\")\n",
    "print(A_transf.shape)"
   ]
  },
  {
   "cell_type": "code",
   "execution_count": 64,
   "metadata": {},
   "outputs": [],
   "source": [
    "from sklearn.model_selection import train_test_split\n",
    "x_train,x_test,y_train,y_test=train_test_split(df_new,Y,test_size=0.2,random_state=0)"
   ]
  },
  {
   "cell_type": "code",
   "execution_count": 66,
   "metadata": {},
   "outputs": [
    {
     "data": {
      "text/plain": [
       "(2656, 3310)"
      ]
     },
     "execution_count": 66,
     "metadata": {},
     "output_type": "execute_result"
    }
   ],
   "source": [
    "x_train.shape"
   ]
  },
  {
   "cell_type": "code",
   "execution_count": 67,
   "metadata": {},
   "outputs": [
    {
     "data": {
      "text/plain": [
       "(3321, 3310)"
      ]
     },
     "execution_count": 67,
     "metadata": {},
     "output_type": "execute_result"
    }
   ],
   "source": [
    "df_new.shape"
   ]
  },
  {
   "cell_type": "code",
   "execution_count": null,
   "metadata": {},
   "outputs": [],
   "source": []
  },
  {
   "cell_type": "code",
   "execution_count": 74,
   "metadata": {},
   "outputs": [
    {
     "name": "stderr",
     "output_type": "stream",
     "text": [
      "D:\\Users\\kpannegatla\\AppData\\Local\\Continuum\\anaconda3\\envs\\tf\\lib\\site-packages\\ipykernel_launcher.py:4: DataConversionWarning: A column-vector y was passed when a 1d array was expected. Please change the shape of y to (n_samples,), for example using ravel().\n",
      "  after removing the cwd from sys.path.\n",
      "D:\\Users\\kpannegatla\\AppData\\Local\\Continuum\\anaconda3\\envs\\tf\\lib\\site-packages\\sklearn\\tree\\_classes.py:301: FutureWarning: The min_impurity_split parameter is deprecated. Its default value will change from 1e-7 to 0 in version 0.23, and it will be removed in 0.25. Use the min_impurity_decrease parameter instead.\n",
      "  FutureWarning)\n",
      "D:\\Users\\kpannegatla\\AppData\\Local\\Continuum\\anaconda3\\envs\\tf\\lib\\site-packages\\sklearn\\tree\\_classes.py:301: FutureWarning: The min_impurity_split parameter is deprecated. Its default value will change from 1e-7 to 0 in version 0.23, and it will be removed in 0.25. Use the min_impurity_decrease parameter instead.\n",
      "  FutureWarning)\n",
      "D:\\Users\\kpannegatla\\AppData\\Local\\Continuum\\anaconda3\\envs\\tf\\lib\\site-packages\\sklearn\\tree\\_classes.py:301: FutureWarning: The min_impurity_split parameter is deprecated. Its default value will change from 1e-7 to 0 in version 0.23, and it will be removed in 0.25. Use the min_impurity_decrease parameter instead.\n",
      "  FutureWarning)\n",
      "D:\\Users\\kpannegatla\\AppData\\Local\\Continuum\\anaconda3\\envs\\tf\\lib\\site-packages\\sklearn\\tree\\_classes.py:301: FutureWarning: The min_impurity_split parameter is deprecated. Its default value will change from 1e-7 to 0 in version 0.23, and it will be removed in 0.25. Use the min_impurity_decrease parameter instead.\n",
      "  FutureWarning)\n",
      "D:\\Users\\kpannegatla\\AppData\\Local\\Continuum\\anaconda3\\envs\\tf\\lib\\site-packages\\sklearn\\tree\\_classes.py:301: FutureWarning: The min_impurity_split parameter is deprecated. Its default value will change from 1e-7 to 0 in version 0.23, and it will be removed in 0.25. Use the min_impurity_decrease parameter instead.\n",
      "  FutureWarning)\n",
      "D:\\Users\\kpannegatla\\AppData\\Local\\Continuum\\anaconda3\\envs\\tf\\lib\\site-packages\\sklearn\\tree\\_classes.py:301: FutureWarning: The min_impurity_split parameter is deprecated. Its default value will change from 1e-7 to 0 in version 0.23, and it will be removed in 0.25. Use the min_impurity_decrease parameter instead.\n",
      "  FutureWarning)\n",
      "D:\\Users\\kpannegatla\\AppData\\Local\\Continuum\\anaconda3\\envs\\tf\\lib\\site-packages\\sklearn\\tree\\_classes.py:301: FutureWarning: The min_impurity_split parameter is deprecated. Its default value will change from 1e-7 to 0 in version 0.23, and it will be removed in 0.25. Use the min_impurity_decrease parameter instead.\n",
      "  FutureWarning)\n",
      "D:\\Users\\kpannegatla\\AppData\\Local\\Continuum\\anaconda3\\envs\\tf\\lib\\site-packages\\sklearn\\tree\\_classes.py:301: FutureWarning: The min_impurity_split parameter is deprecated. Its default value will change from 1e-7 to 0 in version 0.23, and it will be removed in 0.25. Use the min_impurity_decrease parameter instead.\n",
      "  FutureWarning)\n",
      "D:\\Users\\kpannegatla\\AppData\\Local\\Continuum\\anaconda3\\envs\\tf\\lib\\site-packages\\sklearn\\tree\\_classes.py:301: FutureWarning: The min_impurity_split parameter is deprecated. Its default value will change from 1e-7 to 0 in version 0.23, and it will be removed in 0.25. Use the min_impurity_decrease parameter instead.\n",
      "  FutureWarning)\n",
      "D:\\Users\\kpannegatla\\AppData\\Local\\Continuum\\anaconda3\\envs\\tf\\lib\\site-packages\\sklearn\\tree\\_classes.py:301: FutureWarning: The min_impurity_split parameter is deprecated. Its default value will change from 1e-7 to 0 in version 0.23, and it will be removed in 0.25. Use the min_impurity_decrease parameter instead.\n",
      "  FutureWarning)\n",
      "D:\\Users\\kpannegatla\\AppData\\Local\\Continuum\\anaconda3\\envs\\tf\\lib\\site-packages\\sklearn\\tree\\_classes.py:301: FutureWarning: The min_impurity_split parameter is deprecated. Its default value will change from 1e-7 to 0 in version 0.23, and it will be removed in 0.25. Use the min_impurity_decrease parameter instead.\n",
      "  FutureWarning)\n",
      "D:\\Users\\kpannegatla\\AppData\\Local\\Continuum\\anaconda3\\envs\\tf\\lib\\site-packages\\sklearn\\tree\\_classes.py:301: FutureWarning: The min_impurity_split parameter is deprecated. Its default value will change from 1e-7 to 0 in version 0.23, and it will be removed in 0.25. Use the min_impurity_decrease parameter instead.\n",
      "  FutureWarning)\n",
      "D:\\Users\\kpannegatla\\AppData\\Local\\Continuum\\anaconda3\\envs\\tf\\lib\\site-packages\\sklearn\\tree\\_classes.py:301: FutureWarning: The min_impurity_split parameter is deprecated. Its default value will change from 1e-7 to 0 in version 0.23, and it will be removed in 0.25. Use the min_impurity_decrease parameter instead.\n",
      "  FutureWarning)\n",
      "D:\\Users\\kpannegatla\\AppData\\Local\\Continuum\\anaconda3\\envs\\tf\\lib\\site-packages\\sklearn\\tree\\_classes.py:301: FutureWarning: The min_impurity_split parameter is deprecated. Its default value will change from 1e-7 to 0 in version 0.23, and it will be removed in 0.25. Use the min_impurity_decrease parameter instead.\n",
      "  FutureWarning)\n",
      "D:\\Users\\kpannegatla\\AppData\\Local\\Continuum\\anaconda3\\envs\\tf\\lib\\site-packages\\sklearn\\tree\\_classes.py:301: FutureWarning: The min_impurity_split parameter is deprecated. Its default value will change from 1e-7 to 0 in version 0.23, and it will be removed in 0.25. Use the min_impurity_decrease parameter instead.\n",
      "  FutureWarning)\n",
      "D:\\Users\\kpannegatla\\AppData\\Local\\Continuum\\anaconda3\\envs\\tf\\lib\\site-packages\\sklearn\\tree\\_classes.py:301: FutureWarning: The min_impurity_split parameter is deprecated. Its default value will change from 1e-7 to 0 in version 0.23, and it will be removed in 0.25. Use the min_impurity_decrease parameter instead.\n",
      "  FutureWarning)\n",
      "D:\\Users\\kpannegatla\\AppData\\Local\\Continuum\\anaconda3\\envs\\tf\\lib\\site-packages\\sklearn\\tree\\_classes.py:301: FutureWarning: The min_impurity_split parameter is deprecated. Its default value will change from 1e-7 to 0 in version 0.23, and it will be removed in 0.25. Use the min_impurity_decrease parameter instead.\n",
      "  FutureWarning)\n",
      "D:\\Users\\kpannegatla\\AppData\\Local\\Continuum\\anaconda3\\envs\\tf\\lib\\site-packages\\sklearn\\tree\\_classes.py:301: FutureWarning: The min_impurity_split parameter is deprecated. Its default value will change from 1e-7 to 0 in version 0.23, and it will be removed in 0.25. Use the min_impurity_decrease parameter instead.\n",
      "  FutureWarning)\n",
      "D:\\Users\\kpannegatla\\AppData\\Local\\Continuum\\anaconda3\\envs\\tf\\lib\\site-packages\\sklearn\\tree\\_classes.py:301: FutureWarning: The min_impurity_split parameter is deprecated. Its default value will change from 1e-7 to 0 in version 0.23, and it will be removed in 0.25. Use the min_impurity_decrease parameter instead.\n",
      "  FutureWarning)\n",
      "D:\\Users\\kpannegatla\\AppData\\Local\\Continuum\\anaconda3\\envs\\tf\\lib\\site-packages\\sklearn\\tree\\_classes.py:301: FutureWarning: The min_impurity_split parameter is deprecated. Its default value will change from 1e-7 to 0 in version 0.23, and it will be removed in 0.25. Use the min_impurity_decrease parameter instead.\n",
      "  FutureWarning)\n",
      "D:\\Users\\kpannegatla\\AppData\\Local\\Continuum\\anaconda3\\envs\\tf\\lib\\site-packages\\sklearn\\tree\\_classes.py:301: FutureWarning: The min_impurity_split parameter is deprecated. Its default value will change from 1e-7 to 0 in version 0.23, and it will be removed in 0.25. Use the min_impurity_decrease parameter instead.\n",
      "  FutureWarning)\n",
      "D:\\Users\\kpannegatla\\AppData\\Local\\Continuum\\anaconda3\\envs\\tf\\lib\\site-packages\\sklearn\\tree\\_classes.py:301: FutureWarning: The min_impurity_split parameter is deprecated. Its default value will change from 1e-7 to 0 in version 0.23, and it will be removed in 0.25. Use the min_impurity_decrease parameter instead.\n",
      "  FutureWarning)\n",
      "D:\\Users\\kpannegatla\\AppData\\Local\\Continuum\\anaconda3\\envs\\tf\\lib\\site-packages\\sklearn\\tree\\_classes.py:301: FutureWarning: The min_impurity_split parameter is deprecated. Its default value will change from 1e-7 to 0 in version 0.23, and it will be removed in 0.25. Use the min_impurity_decrease parameter instead.\n",
      "  FutureWarning)\n",
      "D:\\Users\\kpannegatla\\AppData\\Local\\Continuum\\anaconda3\\envs\\tf\\lib\\site-packages\\sklearn\\tree\\_classes.py:301: FutureWarning: The min_impurity_split parameter is deprecated. Its default value will change from 1e-7 to 0 in version 0.23, and it will be removed in 0.25. Use the min_impurity_decrease parameter instead.\n",
      "  FutureWarning)\n",
      "D:\\Users\\kpannegatla\\AppData\\Local\\Continuum\\anaconda3\\envs\\tf\\lib\\site-packages\\sklearn\\tree\\_classes.py:301: FutureWarning: The min_impurity_split parameter is deprecated. Its default value will change from 1e-7 to 0 in version 0.23, and it will be removed in 0.25. Use the min_impurity_decrease parameter instead.\n",
      "  FutureWarning)\n",
      "D:\\Users\\kpannegatla\\AppData\\Local\\Continuum\\anaconda3\\envs\\tf\\lib\\site-packages\\sklearn\\tree\\_classes.py:301: FutureWarning: The min_impurity_split parameter is deprecated. Its default value will change from 1e-7 to 0 in version 0.23, and it will be removed in 0.25. Use the min_impurity_decrease parameter instead.\n",
      "  FutureWarning)\n"
     ]
    },
    {
     "name": "stderr",
     "output_type": "stream",
     "text": [
      "D:\\Users\\kpannegatla\\AppData\\Local\\Continuum\\anaconda3\\envs\\tf\\lib\\site-packages\\sklearn\\tree\\_classes.py:301: FutureWarning: The min_impurity_split parameter is deprecated. Its default value will change from 1e-7 to 0 in version 0.23, and it will be removed in 0.25. Use the min_impurity_decrease parameter instead.\n",
      "  FutureWarning)\n",
      "D:\\Users\\kpannegatla\\AppData\\Local\\Continuum\\anaconda3\\envs\\tf\\lib\\site-packages\\sklearn\\tree\\_classes.py:301: FutureWarning: The min_impurity_split parameter is deprecated. Its default value will change from 1e-7 to 0 in version 0.23, and it will be removed in 0.25. Use the min_impurity_decrease parameter instead.\n",
      "  FutureWarning)\n",
      "D:\\Users\\kpannegatla\\AppData\\Local\\Continuum\\anaconda3\\envs\\tf\\lib\\site-packages\\sklearn\\tree\\_classes.py:301: FutureWarning: The min_impurity_split parameter is deprecated. Its default value will change from 1e-7 to 0 in version 0.23, and it will be removed in 0.25. Use the min_impurity_decrease parameter instead.\n",
      "  FutureWarning)\n",
      "D:\\Users\\kpannegatla\\AppData\\Local\\Continuum\\anaconda3\\envs\\tf\\lib\\site-packages\\sklearn\\tree\\_classes.py:301: FutureWarning: The min_impurity_split parameter is deprecated. Its default value will change from 1e-7 to 0 in version 0.23, and it will be removed in 0.25. Use the min_impurity_decrease parameter instead.\n",
      "  FutureWarning)\n",
      "D:\\Users\\kpannegatla\\AppData\\Local\\Continuum\\anaconda3\\envs\\tf\\lib\\site-packages\\sklearn\\tree\\_classes.py:301: FutureWarning: The min_impurity_split parameter is deprecated. Its default value will change from 1e-7 to 0 in version 0.23, and it will be removed in 0.25. Use the min_impurity_decrease parameter instead.\n",
      "  FutureWarning)\n",
      "D:\\Users\\kpannegatla\\AppData\\Local\\Continuum\\anaconda3\\envs\\tf\\lib\\site-packages\\sklearn\\tree\\_classes.py:301: FutureWarning: The min_impurity_split parameter is deprecated. Its default value will change from 1e-7 to 0 in version 0.23, and it will be removed in 0.25. Use the min_impurity_decrease parameter instead.\n",
      "  FutureWarning)\n",
      "D:\\Users\\kpannegatla\\AppData\\Local\\Continuum\\anaconda3\\envs\\tf\\lib\\site-packages\\sklearn\\tree\\_classes.py:301: FutureWarning: The min_impurity_split parameter is deprecated. Its default value will change from 1e-7 to 0 in version 0.23, and it will be removed in 0.25. Use the min_impurity_decrease parameter instead.\n",
      "  FutureWarning)\n",
      "D:\\Users\\kpannegatla\\AppData\\Local\\Continuum\\anaconda3\\envs\\tf\\lib\\site-packages\\sklearn\\tree\\_classes.py:301: FutureWarning: The min_impurity_split parameter is deprecated. Its default value will change from 1e-7 to 0 in version 0.23, and it will be removed in 0.25. Use the min_impurity_decrease parameter instead.\n",
      "  FutureWarning)\n",
      "D:\\Users\\kpannegatla\\AppData\\Local\\Continuum\\anaconda3\\envs\\tf\\lib\\site-packages\\sklearn\\tree\\_classes.py:301: FutureWarning: The min_impurity_split parameter is deprecated. Its default value will change from 1e-7 to 0 in version 0.23, and it will be removed in 0.25. Use the min_impurity_decrease parameter instead.\n",
      "  FutureWarning)\n",
      "D:\\Users\\kpannegatla\\AppData\\Local\\Continuum\\anaconda3\\envs\\tf\\lib\\site-packages\\sklearn\\tree\\_classes.py:301: FutureWarning: The min_impurity_split parameter is deprecated. Its default value will change from 1e-7 to 0 in version 0.23, and it will be removed in 0.25. Use the min_impurity_decrease parameter instead.\n",
      "  FutureWarning)\n",
      "D:\\Users\\kpannegatla\\AppData\\Local\\Continuum\\anaconda3\\envs\\tf\\lib\\site-packages\\sklearn\\tree\\_classes.py:301: FutureWarning: The min_impurity_split parameter is deprecated. Its default value will change from 1e-7 to 0 in version 0.23, and it will be removed in 0.25. Use the min_impurity_decrease parameter instead.\n",
      "  FutureWarning)\n",
      "D:\\Users\\kpannegatla\\AppData\\Local\\Continuum\\anaconda3\\envs\\tf\\lib\\site-packages\\sklearn\\tree\\_classes.py:301: FutureWarning: The min_impurity_split parameter is deprecated. Its default value will change from 1e-7 to 0 in version 0.23, and it will be removed in 0.25. Use the min_impurity_decrease parameter instead.\n",
      "  FutureWarning)\n",
      "D:\\Users\\kpannegatla\\AppData\\Local\\Continuum\\anaconda3\\envs\\tf\\lib\\site-packages\\sklearn\\tree\\_classes.py:301: FutureWarning: The min_impurity_split parameter is deprecated. Its default value will change from 1e-7 to 0 in version 0.23, and it will be removed in 0.25. Use the min_impurity_decrease parameter instead.\n",
      "  FutureWarning)\n",
      "D:\\Users\\kpannegatla\\AppData\\Local\\Continuum\\anaconda3\\envs\\tf\\lib\\site-packages\\sklearn\\tree\\_classes.py:301: FutureWarning: The min_impurity_split parameter is deprecated. Its default value will change from 1e-7 to 0 in version 0.23, and it will be removed in 0.25. Use the min_impurity_decrease parameter instead.\n",
      "  FutureWarning)\n",
      "D:\\Users\\kpannegatla\\AppData\\Local\\Continuum\\anaconda3\\envs\\tf\\lib\\site-packages\\sklearn\\tree\\_classes.py:301: FutureWarning: The min_impurity_split parameter is deprecated. Its default value will change from 1e-7 to 0 in version 0.23, and it will be removed in 0.25. Use the min_impurity_decrease parameter instead.\n",
      "  FutureWarning)\n",
      "D:\\Users\\kpannegatla\\AppData\\Local\\Continuum\\anaconda3\\envs\\tf\\lib\\site-packages\\sklearn\\tree\\_classes.py:301: FutureWarning: The min_impurity_split parameter is deprecated. Its default value will change from 1e-7 to 0 in version 0.23, and it will be removed in 0.25. Use the min_impurity_decrease parameter instead.\n",
      "  FutureWarning)\n",
      "D:\\Users\\kpannegatla\\AppData\\Local\\Continuum\\anaconda3\\envs\\tf\\lib\\site-packages\\sklearn\\tree\\_classes.py:301: FutureWarning: The min_impurity_split parameter is deprecated. Its default value will change from 1e-7 to 0 in version 0.23, and it will be removed in 0.25. Use the min_impurity_decrease parameter instead.\n",
      "  FutureWarning)\n",
      "D:\\Users\\kpannegatla\\AppData\\Local\\Continuum\\anaconda3\\envs\\tf\\lib\\site-packages\\sklearn\\tree\\_classes.py:301: FutureWarning: The min_impurity_split parameter is deprecated. Its default value will change from 1e-7 to 0 in version 0.23, and it will be removed in 0.25. Use the min_impurity_decrease parameter instead.\n",
      "  FutureWarning)\n",
      "D:\\Users\\kpannegatla\\AppData\\Local\\Continuum\\anaconda3\\envs\\tf\\lib\\site-packages\\sklearn\\tree\\_classes.py:301: FutureWarning: The min_impurity_split parameter is deprecated. Its default value will change from 1e-7 to 0 in version 0.23, and it will be removed in 0.25. Use the min_impurity_decrease parameter instead.\n",
      "  FutureWarning)\n",
      "D:\\Users\\kpannegatla\\AppData\\Local\\Continuum\\anaconda3\\envs\\tf\\lib\\site-packages\\sklearn\\tree\\_classes.py:301: FutureWarning: The min_impurity_split parameter is deprecated. Its default value will change from 1e-7 to 0 in version 0.23, and it will be removed in 0.25. Use the min_impurity_decrease parameter instead.\n",
      "  FutureWarning)\n",
      "D:\\Users\\kpannegatla\\AppData\\Local\\Continuum\\anaconda3\\envs\\tf\\lib\\site-packages\\sklearn\\tree\\_classes.py:301: FutureWarning: The min_impurity_split parameter is deprecated. Its default value will change from 1e-7 to 0 in version 0.23, and it will be removed in 0.25. Use the min_impurity_decrease parameter instead.\n",
      "  FutureWarning)\n",
      "D:\\Users\\kpannegatla\\AppData\\Local\\Continuum\\anaconda3\\envs\\tf\\lib\\site-packages\\sklearn\\tree\\_classes.py:301: FutureWarning: The min_impurity_split parameter is deprecated. Its default value will change from 1e-7 to 0 in version 0.23, and it will be removed in 0.25. Use the min_impurity_decrease parameter instead.\n",
      "  FutureWarning)\n",
      "D:\\Users\\kpannegatla\\AppData\\Local\\Continuum\\anaconda3\\envs\\tf\\lib\\site-packages\\sklearn\\tree\\_classes.py:301: FutureWarning: The min_impurity_split parameter is deprecated. Its default value will change from 1e-7 to 0 in version 0.23, and it will be removed in 0.25. Use the min_impurity_decrease parameter instead.\n",
      "  FutureWarning)\n",
      "D:\\Users\\kpannegatla\\AppData\\Local\\Continuum\\anaconda3\\envs\\tf\\lib\\site-packages\\sklearn\\tree\\_classes.py:301: FutureWarning: The min_impurity_split parameter is deprecated. Its default value will change from 1e-7 to 0 in version 0.23, and it will be removed in 0.25. Use the min_impurity_decrease parameter instead.\n",
      "  FutureWarning)\n",
      "D:\\Users\\kpannegatla\\AppData\\Local\\Continuum\\anaconda3\\envs\\tf\\lib\\site-packages\\sklearn\\tree\\_classes.py:301: FutureWarning: The min_impurity_split parameter is deprecated. Its default value will change from 1e-7 to 0 in version 0.23, and it will be removed in 0.25. Use the min_impurity_decrease parameter instead.\n",
      "  FutureWarning)\n",
      "D:\\Users\\kpannegatla\\AppData\\Local\\Continuum\\anaconda3\\envs\\tf\\lib\\site-packages\\sklearn\\tree\\_classes.py:301: FutureWarning: The min_impurity_split parameter is deprecated. Its default value will change from 1e-7 to 0 in version 0.23, and it will be removed in 0.25. Use the min_impurity_decrease parameter instead.\n",
      "  FutureWarning)\n"
     ]
    },
    {
     "name": "stderr",
     "output_type": "stream",
     "text": [
      "D:\\Users\\kpannegatla\\AppData\\Local\\Continuum\\anaconda3\\envs\\tf\\lib\\site-packages\\sklearn\\tree\\_classes.py:301: FutureWarning: The min_impurity_split parameter is deprecated. Its default value will change from 1e-7 to 0 in version 0.23, and it will be removed in 0.25. Use the min_impurity_decrease parameter instead.\n",
      "  FutureWarning)\n",
      "D:\\Users\\kpannegatla\\AppData\\Local\\Continuum\\anaconda3\\envs\\tf\\lib\\site-packages\\sklearn\\tree\\_classes.py:301: FutureWarning: The min_impurity_split parameter is deprecated. Its default value will change from 1e-7 to 0 in version 0.23, and it will be removed in 0.25. Use the min_impurity_decrease parameter instead.\n",
      "  FutureWarning)\n",
      "D:\\Users\\kpannegatla\\AppData\\Local\\Continuum\\anaconda3\\envs\\tf\\lib\\site-packages\\sklearn\\tree\\_classes.py:301: FutureWarning: The min_impurity_split parameter is deprecated. Its default value will change from 1e-7 to 0 in version 0.23, and it will be removed in 0.25. Use the min_impurity_decrease parameter instead.\n",
      "  FutureWarning)\n",
      "D:\\Users\\kpannegatla\\AppData\\Local\\Continuum\\anaconda3\\envs\\tf\\lib\\site-packages\\sklearn\\tree\\_classes.py:301: FutureWarning: The min_impurity_split parameter is deprecated. Its default value will change from 1e-7 to 0 in version 0.23, and it will be removed in 0.25. Use the min_impurity_decrease parameter instead.\n",
      "  FutureWarning)\n",
      "D:\\Users\\kpannegatla\\AppData\\Local\\Continuum\\anaconda3\\envs\\tf\\lib\\site-packages\\sklearn\\tree\\_classes.py:301: FutureWarning: The min_impurity_split parameter is deprecated. Its default value will change from 1e-7 to 0 in version 0.23, and it will be removed in 0.25. Use the min_impurity_decrease parameter instead.\n",
      "  FutureWarning)\n",
      "D:\\Users\\kpannegatla\\AppData\\Local\\Continuum\\anaconda3\\envs\\tf\\lib\\site-packages\\sklearn\\tree\\_classes.py:301: FutureWarning: The min_impurity_split parameter is deprecated. Its default value will change from 1e-7 to 0 in version 0.23, and it will be removed in 0.25. Use the min_impurity_decrease parameter instead.\n",
      "  FutureWarning)\n",
      "D:\\Users\\kpannegatla\\AppData\\Local\\Continuum\\anaconda3\\envs\\tf\\lib\\site-packages\\sklearn\\tree\\_classes.py:301: FutureWarning: The min_impurity_split parameter is deprecated. Its default value will change from 1e-7 to 0 in version 0.23, and it will be removed in 0.25. Use the min_impurity_decrease parameter instead.\n",
      "  FutureWarning)\n",
      "D:\\Users\\kpannegatla\\AppData\\Local\\Continuum\\anaconda3\\envs\\tf\\lib\\site-packages\\sklearn\\tree\\_classes.py:301: FutureWarning: The min_impurity_split parameter is deprecated. Its default value will change from 1e-7 to 0 in version 0.23, and it will be removed in 0.25. Use the min_impurity_decrease parameter instead.\n",
      "  FutureWarning)\n",
      "D:\\Users\\kpannegatla\\AppData\\Local\\Continuum\\anaconda3\\envs\\tf\\lib\\site-packages\\sklearn\\tree\\_classes.py:301: FutureWarning: The min_impurity_split parameter is deprecated. Its default value will change from 1e-7 to 0 in version 0.23, and it will be removed in 0.25. Use the min_impurity_decrease parameter instead.\n",
      "  FutureWarning)\n",
      "D:\\Users\\kpannegatla\\AppData\\Local\\Continuum\\anaconda3\\envs\\tf\\lib\\site-packages\\sklearn\\tree\\_classes.py:301: FutureWarning: The min_impurity_split parameter is deprecated. Its default value will change from 1e-7 to 0 in version 0.23, and it will be removed in 0.25. Use the min_impurity_decrease parameter instead.\n",
      "  FutureWarning)\n",
      "D:\\Users\\kpannegatla\\AppData\\Local\\Continuum\\anaconda3\\envs\\tf\\lib\\site-packages\\sklearn\\tree\\_classes.py:301: FutureWarning: The min_impurity_split parameter is deprecated. Its default value will change from 1e-7 to 0 in version 0.23, and it will be removed in 0.25. Use the min_impurity_decrease parameter instead.\n",
      "  FutureWarning)\n",
      "D:\\Users\\kpannegatla\\AppData\\Local\\Continuum\\anaconda3\\envs\\tf\\lib\\site-packages\\sklearn\\tree\\_classes.py:301: FutureWarning: The min_impurity_split parameter is deprecated. Its default value will change from 1e-7 to 0 in version 0.23, and it will be removed in 0.25. Use the min_impurity_decrease parameter instead.\n",
      "  FutureWarning)\n",
      "D:\\Users\\kpannegatla\\AppData\\Local\\Continuum\\anaconda3\\envs\\tf\\lib\\site-packages\\sklearn\\tree\\_classes.py:301: FutureWarning: The min_impurity_split parameter is deprecated. Its default value will change from 1e-7 to 0 in version 0.23, and it will be removed in 0.25. Use the min_impurity_decrease parameter instead.\n",
      "  FutureWarning)\n",
      "D:\\Users\\kpannegatla\\AppData\\Local\\Continuum\\anaconda3\\envs\\tf\\lib\\site-packages\\sklearn\\tree\\_classes.py:301: FutureWarning: The min_impurity_split parameter is deprecated. Its default value will change from 1e-7 to 0 in version 0.23, and it will be removed in 0.25. Use the min_impurity_decrease parameter instead.\n",
      "  FutureWarning)\n",
      "D:\\Users\\kpannegatla\\AppData\\Local\\Continuum\\anaconda3\\envs\\tf\\lib\\site-packages\\sklearn\\tree\\_classes.py:301: FutureWarning: The min_impurity_split parameter is deprecated. Its default value will change from 1e-7 to 0 in version 0.23, and it will be removed in 0.25. Use the min_impurity_decrease parameter instead.\n",
      "  FutureWarning)\n",
      "D:\\Users\\kpannegatla\\AppData\\Local\\Continuum\\anaconda3\\envs\\tf\\lib\\site-packages\\sklearn\\tree\\_classes.py:301: FutureWarning: The min_impurity_split parameter is deprecated. Its default value will change from 1e-7 to 0 in version 0.23, and it will be removed in 0.25. Use the min_impurity_decrease parameter instead.\n",
      "  FutureWarning)\n",
      "D:\\Users\\kpannegatla\\AppData\\Local\\Continuum\\anaconda3\\envs\\tf\\lib\\site-packages\\sklearn\\tree\\_classes.py:301: FutureWarning: The min_impurity_split parameter is deprecated. Its default value will change from 1e-7 to 0 in version 0.23, and it will be removed in 0.25. Use the min_impurity_decrease parameter instead.\n",
      "  FutureWarning)\n",
      "D:\\Users\\kpannegatla\\AppData\\Local\\Continuum\\anaconda3\\envs\\tf\\lib\\site-packages\\sklearn\\tree\\_classes.py:301: FutureWarning: The min_impurity_split parameter is deprecated. Its default value will change from 1e-7 to 0 in version 0.23, and it will be removed in 0.25. Use the min_impurity_decrease parameter instead.\n",
      "  FutureWarning)\n",
      "D:\\Users\\kpannegatla\\AppData\\Local\\Continuum\\anaconda3\\envs\\tf\\lib\\site-packages\\sklearn\\tree\\_classes.py:301: FutureWarning: The min_impurity_split parameter is deprecated. Its default value will change from 1e-7 to 0 in version 0.23, and it will be removed in 0.25. Use the min_impurity_decrease parameter instead.\n",
      "  FutureWarning)\n",
      "D:\\Users\\kpannegatla\\AppData\\Local\\Continuum\\anaconda3\\envs\\tf\\lib\\site-packages\\sklearn\\tree\\_classes.py:301: FutureWarning: The min_impurity_split parameter is deprecated. Its default value will change from 1e-7 to 0 in version 0.23, and it will be removed in 0.25. Use the min_impurity_decrease parameter instead.\n",
      "  FutureWarning)\n",
      "D:\\Users\\kpannegatla\\AppData\\Local\\Continuum\\anaconda3\\envs\\tf\\lib\\site-packages\\sklearn\\tree\\_classes.py:301: FutureWarning: The min_impurity_split parameter is deprecated. Its default value will change from 1e-7 to 0 in version 0.23, and it will be removed in 0.25. Use the min_impurity_decrease parameter instead.\n",
      "  FutureWarning)\n",
      "D:\\Users\\kpannegatla\\AppData\\Local\\Continuum\\anaconda3\\envs\\tf\\lib\\site-packages\\sklearn\\tree\\_classes.py:301: FutureWarning: The min_impurity_split parameter is deprecated. Its default value will change from 1e-7 to 0 in version 0.23, and it will be removed in 0.25. Use the min_impurity_decrease parameter instead.\n",
      "  FutureWarning)\n",
      "D:\\Users\\kpannegatla\\AppData\\Local\\Continuum\\anaconda3\\envs\\tf\\lib\\site-packages\\sklearn\\tree\\_classes.py:301: FutureWarning: The min_impurity_split parameter is deprecated. Its default value will change from 1e-7 to 0 in version 0.23, and it will be removed in 0.25. Use the min_impurity_decrease parameter instead.\n",
      "  FutureWarning)\n",
      "D:\\Users\\kpannegatla\\AppData\\Local\\Continuum\\anaconda3\\envs\\tf\\lib\\site-packages\\sklearn\\tree\\_classes.py:301: FutureWarning: The min_impurity_split parameter is deprecated. Its default value will change from 1e-7 to 0 in version 0.23, and it will be removed in 0.25. Use the min_impurity_decrease parameter instead.\n",
      "  FutureWarning)\n",
      "D:\\Users\\kpannegatla\\AppData\\Local\\Continuum\\anaconda3\\envs\\tf\\lib\\site-packages\\sklearn\\tree\\_classes.py:301: FutureWarning: The min_impurity_split parameter is deprecated. Its default value will change from 1e-7 to 0 in version 0.23, and it will be removed in 0.25. Use the min_impurity_decrease parameter instead.\n",
      "  FutureWarning)\n"
     ]
    },
    {
     "name": "stderr",
     "output_type": "stream",
     "text": [
      "D:\\Users\\kpannegatla\\AppData\\Local\\Continuum\\anaconda3\\envs\\tf\\lib\\site-packages\\sklearn\\tree\\_classes.py:301: FutureWarning: The min_impurity_split parameter is deprecated. Its default value will change from 1e-7 to 0 in version 0.23, and it will be removed in 0.25. Use the min_impurity_decrease parameter instead.\n",
      "  FutureWarning)\n",
      "D:\\Users\\kpannegatla\\AppData\\Local\\Continuum\\anaconda3\\envs\\tf\\lib\\site-packages\\sklearn\\tree\\_classes.py:301: FutureWarning: The min_impurity_split parameter is deprecated. Its default value will change from 1e-7 to 0 in version 0.23, and it will be removed in 0.25. Use the min_impurity_decrease parameter instead.\n",
      "  FutureWarning)\n",
      "D:\\Users\\kpannegatla\\AppData\\Local\\Continuum\\anaconda3\\envs\\tf\\lib\\site-packages\\sklearn\\tree\\_classes.py:301: FutureWarning: The min_impurity_split parameter is deprecated. Its default value will change from 1e-7 to 0 in version 0.23, and it will be removed in 0.25. Use the min_impurity_decrease parameter instead.\n",
      "  FutureWarning)\n",
      "D:\\Users\\kpannegatla\\AppData\\Local\\Continuum\\anaconda3\\envs\\tf\\lib\\site-packages\\sklearn\\tree\\_classes.py:301: FutureWarning: The min_impurity_split parameter is deprecated. Its default value will change from 1e-7 to 0 in version 0.23, and it will be removed in 0.25. Use the min_impurity_decrease parameter instead.\n",
      "  FutureWarning)\n",
      "D:\\Users\\kpannegatla\\AppData\\Local\\Continuum\\anaconda3\\envs\\tf\\lib\\site-packages\\sklearn\\tree\\_classes.py:301: FutureWarning: The min_impurity_split parameter is deprecated. Its default value will change from 1e-7 to 0 in version 0.23, and it will be removed in 0.25. Use the min_impurity_decrease parameter instead.\n",
      "  FutureWarning)\n",
      "D:\\Users\\kpannegatla\\AppData\\Local\\Continuum\\anaconda3\\envs\\tf\\lib\\site-packages\\sklearn\\tree\\_classes.py:301: FutureWarning: The min_impurity_split parameter is deprecated. Its default value will change from 1e-7 to 0 in version 0.23, and it will be removed in 0.25. Use the min_impurity_decrease parameter instead.\n",
      "  FutureWarning)\n",
      "D:\\Users\\kpannegatla\\AppData\\Local\\Continuum\\anaconda3\\envs\\tf\\lib\\site-packages\\sklearn\\tree\\_classes.py:301: FutureWarning: The min_impurity_split parameter is deprecated. Its default value will change from 1e-7 to 0 in version 0.23, and it will be removed in 0.25. Use the min_impurity_decrease parameter instead.\n",
      "  FutureWarning)\n",
      "D:\\Users\\kpannegatla\\AppData\\Local\\Continuum\\anaconda3\\envs\\tf\\lib\\site-packages\\sklearn\\tree\\_classes.py:301: FutureWarning: The min_impurity_split parameter is deprecated. Its default value will change from 1e-7 to 0 in version 0.23, and it will be removed in 0.25. Use the min_impurity_decrease parameter instead.\n",
      "  FutureWarning)\n",
      "D:\\Users\\kpannegatla\\AppData\\Local\\Continuum\\anaconda3\\envs\\tf\\lib\\site-packages\\sklearn\\tree\\_classes.py:301: FutureWarning: The min_impurity_split parameter is deprecated. Its default value will change from 1e-7 to 0 in version 0.23, and it will be removed in 0.25. Use the min_impurity_decrease parameter instead.\n",
      "  FutureWarning)\n",
      "D:\\Users\\kpannegatla\\AppData\\Local\\Continuum\\anaconda3\\envs\\tf\\lib\\site-packages\\sklearn\\tree\\_classes.py:301: FutureWarning: The min_impurity_split parameter is deprecated. Its default value will change from 1e-7 to 0 in version 0.23, and it will be removed in 0.25. Use the min_impurity_decrease parameter instead.\n",
      "  FutureWarning)\n",
      "D:\\Users\\kpannegatla\\AppData\\Local\\Continuum\\anaconda3\\envs\\tf\\lib\\site-packages\\sklearn\\tree\\_classes.py:301: FutureWarning: The min_impurity_split parameter is deprecated. Its default value will change from 1e-7 to 0 in version 0.23, and it will be removed in 0.25. Use the min_impurity_decrease parameter instead.\n",
      "  FutureWarning)\n",
      "D:\\Users\\kpannegatla\\AppData\\Local\\Continuum\\anaconda3\\envs\\tf\\lib\\site-packages\\sklearn\\tree\\_classes.py:301: FutureWarning: The min_impurity_split parameter is deprecated. Its default value will change from 1e-7 to 0 in version 0.23, and it will be removed in 0.25. Use the min_impurity_decrease parameter instead.\n",
      "  FutureWarning)\n",
      "D:\\Users\\kpannegatla\\AppData\\Local\\Continuum\\anaconda3\\envs\\tf\\lib\\site-packages\\sklearn\\tree\\_classes.py:301: FutureWarning: The min_impurity_split parameter is deprecated. Its default value will change from 1e-7 to 0 in version 0.23, and it will be removed in 0.25. Use the min_impurity_decrease parameter instead.\n",
      "  FutureWarning)\n",
      "D:\\Users\\kpannegatla\\AppData\\Local\\Continuum\\anaconda3\\envs\\tf\\lib\\site-packages\\sklearn\\tree\\_classes.py:301: FutureWarning: The min_impurity_split parameter is deprecated. Its default value will change from 1e-7 to 0 in version 0.23, and it will be removed in 0.25. Use the min_impurity_decrease parameter instead.\n",
      "  FutureWarning)\n",
      "D:\\Users\\kpannegatla\\AppData\\Local\\Continuum\\anaconda3\\envs\\tf\\lib\\site-packages\\sklearn\\tree\\_classes.py:301: FutureWarning: The min_impurity_split parameter is deprecated. Its default value will change from 1e-7 to 0 in version 0.23, and it will be removed in 0.25. Use the min_impurity_decrease parameter instead.\n",
      "  FutureWarning)\n",
      "D:\\Users\\kpannegatla\\AppData\\Local\\Continuum\\anaconda3\\envs\\tf\\lib\\site-packages\\sklearn\\tree\\_classes.py:301: FutureWarning: The min_impurity_split parameter is deprecated. Its default value will change from 1e-7 to 0 in version 0.23, and it will be removed in 0.25. Use the min_impurity_decrease parameter instead.\n",
      "  FutureWarning)\n",
      "D:\\Users\\kpannegatla\\AppData\\Local\\Continuum\\anaconda3\\envs\\tf\\lib\\site-packages\\sklearn\\tree\\_classes.py:301: FutureWarning: The min_impurity_split parameter is deprecated. Its default value will change from 1e-7 to 0 in version 0.23, and it will be removed in 0.25. Use the min_impurity_decrease parameter instead.\n",
      "  FutureWarning)\n",
      "D:\\Users\\kpannegatla\\AppData\\Local\\Continuum\\anaconda3\\envs\\tf\\lib\\site-packages\\sklearn\\tree\\_classes.py:301: FutureWarning: The min_impurity_split parameter is deprecated. Its default value will change from 1e-7 to 0 in version 0.23, and it will be removed in 0.25. Use the min_impurity_decrease parameter instead.\n",
      "  FutureWarning)\n",
      "D:\\Users\\kpannegatla\\AppData\\Local\\Continuum\\anaconda3\\envs\\tf\\lib\\site-packages\\sklearn\\tree\\_classes.py:301: FutureWarning: The min_impurity_split parameter is deprecated. Its default value will change from 1e-7 to 0 in version 0.23, and it will be removed in 0.25. Use the min_impurity_decrease parameter instead.\n",
      "  FutureWarning)\n",
      "D:\\Users\\kpannegatla\\AppData\\Local\\Continuum\\anaconda3\\envs\\tf\\lib\\site-packages\\sklearn\\tree\\_classes.py:301: FutureWarning: The min_impurity_split parameter is deprecated. Its default value will change from 1e-7 to 0 in version 0.23, and it will be removed in 0.25. Use the min_impurity_decrease parameter instead.\n",
      "  FutureWarning)\n",
      "D:\\Users\\kpannegatla\\AppData\\Local\\Continuum\\anaconda3\\envs\\tf\\lib\\site-packages\\sklearn\\tree\\_classes.py:301: FutureWarning: The min_impurity_split parameter is deprecated. Its default value will change from 1e-7 to 0 in version 0.23, and it will be removed in 0.25. Use the min_impurity_decrease parameter instead.\n",
      "  FutureWarning)\n",
      "D:\\Users\\kpannegatla\\AppData\\Local\\Continuum\\anaconda3\\envs\\tf\\lib\\site-packages\\sklearn\\tree\\_classes.py:301: FutureWarning: The min_impurity_split parameter is deprecated. Its default value will change from 1e-7 to 0 in version 0.23, and it will be removed in 0.25. Use the min_impurity_decrease parameter instead.\n",
      "  FutureWarning)\n",
      "D:\\Users\\kpannegatla\\AppData\\Local\\Continuum\\anaconda3\\envs\\tf\\lib\\site-packages\\sklearn\\tree\\_classes.py:301: FutureWarning: The min_impurity_split parameter is deprecated. Its default value will change from 1e-7 to 0 in version 0.23, and it will be removed in 0.25. Use the min_impurity_decrease parameter instead.\n",
      "  FutureWarning)\n",
      "D:\\Users\\kpannegatla\\AppData\\Local\\Continuum\\anaconda3\\envs\\tf\\lib\\site-packages\\sklearn\\tree\\_classes.py:301: FutureWarning: The min_impurity_split parameter is deprecated. Its default value will change from 1e-7 to 0 in version 0.23, and it will be removed in 0.25. Use the min_impurity_decrease parameter instead.\n",
      "  FutureWarning)\n",
      "D:\\Users\\kpannegatla\\AppData\\Local\\Continuum\\anaconda3\\envs\\tf\\lib\\site-packages\\sklearn\\tree\\_classes.py:301: FutureWarning: The min_impurity_split parameter is deprecated. Its default value will change from 1e-7 to 0 in version 0.23, and it will be removed in 0.25. Use the min_impurity_decrease parameter instead.\n",
      "  FutureWarning)\n",
      "D:\\Users\\kpannegatla\\AppData\\Local\\Continuum\\anaconda3\\envs\\tf\\lib\\site-packages\\sklearn\\tree\\_classes.py:301: FutureWarning: The min_impurity_split parameter is deprecated. Its default value will change from 1e-7 to 0 in version 0.23, and it will be removed in 0.25. Use the min_impurity_decrease parameter instead.\n",
      "  FutureWarning)\n",
      "D:\\Users\\kpannegatla\\AppData\\Local\\Continuum\\anaconda3\\envs\\tf\\lib\\site-packages\\sklearn\\tree\\_classes.py:301: FutureWarning: The min_impurity_split parameter is deprecated. Its default value will change from 1e-7 to 0 in version 0.23, and it will be removed in 0.25. Use the min_impurity_decrease parameter instead.\n",
      "  FutureWarning)\n"
     ]
    },
    {
     "name": "stderr",
     "output_type": "stream",
     "text": [
      "D:\\Users\\kpannegatla\\AppData\\Local\\Continuum\\anaconda3\\envs\\tf\\lib\\site-packages\\sklearn\\tree\\_classes.py:301: FutureWarning: The min_impurity_split parameter is deprecated. Its default value will change from 1e-7 to 0 in version 0.23, and it will be removed in 0.25. Use the min_impurity_decrease parameter instead.\n",
      "  FutureWarning)\n",
      "D:\\Users\\kpannegatla\\AppData\\Local\\Continuum\\anaconda3\\envs\\tf\\lib\\site-packages\\sklearn\\tree\\_classes.py:301: FutureWarning: The min_impurity_split parameter is deprecated. Its default value will change from 1e-7 to 0 in version 0.23, and it will be removed in 0.25. Use the min_impurity_decrease parameter instead.\n",
      "  FutureWarning)\n",
      "D:\\Users\\kpannegatla\\AppData\\Local\\Continuum\\anaconda3\\envs\\tf\\lib\\site-packages\\sklearn\\tree\\_classes.py:301: FutureWarning: The min_impurity_split parameter is deprecated. Its default value will change from 1e-7 to 0 in version 0.23, and it will be removed in 0.25. Use the min_impurity_decrease parameter instead.\n",
      "  FutureWarning)\n",
      "D:\\Users\\kpannegatla\\AppData\\Local\\Continuum\\anaconda3\\envs\\tf\\lib\\site-packages\\sklearn\\tree\\_classes.py:301: FutureWarning: The min_impurity_split parameter is deprecated. Its default value will change from 1e-7 to 0 in version 0.23, and it will be removed in 0.25. Use the min_impurity_decrease parameter instead.\n",
      "  FutureWarning)\n",
      "D:\\Users\\kpannegatla\\AppData\\Local\\Continuum\\anaconda3\\envs\\tf\\lib\\site-packages\\sklearn\\tree\\_classes.py:301: FutureWarning: The min_impurity_split parameter is deprecated. Its default value will change from 1e-7 to 0 in version 0.23, and it will be removed in 0.25. Use the min_impurity_decrease parameter instead.\n",
      "  FutureWarning)\n",
      "D:\\Users\\kpannegatla\\AppData\\Local\\Continuum\\anaconda3\\envs\\tf\\lib\\site-packages\\sklearn\\tree\\_classes.py:301: FutureWarning: The min_impurity_split parameter is deprecated. Its default value will change from 1e-7 to 0 in version 0.23, and it will be removed in 0.25. Use the min_impurity_decrease parameter instead.\n",
      "  FutureWarning)\n",
      "D:\\Users\\kpannegatla\\AppData\\Local\\Continuum\\anaconda3\\envs\\tf\\lib\\site-packages\\sklearn\\tree\\_classes.py:301: FutureWarning: The min_impurity_split parameter is deprecated. Its default value will change from 1e-7 to 0 in version 0.23, and it will be removed in 0.25. Use the min_impurity_decrease parameter instead.\n",
      "  FutureWarning)\n",
      "D:\\Users\\kpannegatla\\AppData\\Local\\Continuum\\anaconda3\\envs\\tf\\lib\\site-packages\\sklearn\\tree\\_classes.py:301: FutureWarning: The min_impurity_split parameter is deprecated. Its default value will change from 1e-7 to 0 in version 0.23, and it will be removed in 0.25. Use the min_impurity_decrease parameter instead.\n",
      "  FutureWarning)\n",
      "D:\\Users\\kpannegatla\\AppData\\Local\\Continuum\\anaconda3\\envs\\tf\\lib\\site-packages\\sklearn\\tree\\_classes.py:301: FutureWarning: The min_impurity_split parameter is deprecated. Its default value will change from 1e-7 to 0 in version 0.23, and it will be removed in 0.25. Use the min_impurity_decrease parameter instead.\n",
      "  FutureWarning)\n",
      "D:\\Users\\kpannegatla\\AppData\\Local\\Continuum\\anaconda3\\envs\\tf\\lib\\site-packages\\sklearn\\tree\\_classes.py:301: FutureWarning: The min_impurity_split parameter is deprecated. Its default value will change from 1e-7 to 0 in version 0.23, and it will be removed in 0.25. Use the min_impurity_decrease parameter instead.\n",
      "  FutureWarning)\n",
      "D:\\Users\\kpannegatla\\AppData\\Local\\Continuum\\anaconda3\\envs\\tf\\lib\\site-packages\\sklearn\\tree\\_classes.py:301: FutureWarning: The min_impurity_split parameter is deprecated. Its default value will change from 1e-7 to 0 in version 0.23, and it will be removed in 0.25. Use the min_impurity_decrease parameter instead.\n",
      "  FutureWarning)\n",
      "D:\\Users\\kpannegatla\\AppData\\Local\\Continuum\\anaconda3\\envs\\tf\\lib\\site-packages\\sklearn\\tree\\_classes.py:301: FutureWarning: The min_impurity_split parameter is deprecated. Its default value will change from 1e-7 to 0 in version 0.23, and it will be removed in 0.25. Use the min_impurity_decrease parameter instead.\n",
      "  FutureWarning)\n",
      "D:\\Users\\kpannegatla\\AppData\\Local\\Continuum\\anaconda3\\envs\\tf\\lib\\site-packages\\sklearn\\tree\\_classes.py:301: FutureWarning: The min_impurity_split parameter is deprecated. Its default value will change from 1e-7 to 0 in version 0.23, and it will be removed in 0.25. Use the min_impurity_decrease parameter instead.\n",
      "  FutureWarning)\n",
      "D:\\Users\\kpannegatla\\AppData\\Local\\Continuum\\anaconda3\\envs\\tf\\lib\\site-packages\\sklearn\\tree\\_classes.py:301: FutureWarning: The min_impurity_split parameter is deprecated. Its default value will change from 1e-7 to 0 in version 0.23, and it will be removed in 0.25. Use the min_impurity_decrease parameter instead.\n",
      "  FutureWarning)\n",
      "D:\\Users\\kpannegatla\\AppData\\Local\\Continuum\\anaconda3\\envs\\tf\\lib\\site-packages\\sklearn\\tree\\_classes.py:301: FutureWarning: The min_impurity_split parameter is deprecated. Its default value will change from 1e-7 to 0 in version 0.23, and it will be removed in 0.25. Use the min_impurity_decrease parameter instead.\n",
      "  FutureWarning)\n",
      "D:\\Users\\kpannegatla\\AppData\\Local\\Continuum\\anaconda3\\envs\\tf\\lib\\site-packages\\sklearn\\tree\\_classes.py:301: FutureWarning: The min_impurity_split parameter is deprecated. Its default value will change from 1e-7 to 0 in version 0.23, and it will be removed in 0.25. Use the min_impurity_decrease parameter instead.\n",
      "  FutureWarning)\n",
      "D:\\Users\\kpannegatla\\AppData\\Local\\Continuum\\anaconda3\\envs\\tf\\lib\\site-packages\\sklearn\\tree\\_classes.py:301: FutureWarning: The min_impurity_split parameter is deprecated. Its default value will change from 1e-7 to 0 in version 0.23, and it will be removed in 0.25. Use the min_impurity_decrease parameter instead.\n",
      "  FutureWarning)\n",
      "D:\\Users\\kpannegatla\\AppData\\Local\\Continuum\\anaconda3\\envs\\tf\\lib\\site-packages\\sklearn\\tree\\_classes.py:301: FutureWarning: The min_impurity_split parameter is deprecated. Its default value will change from 1e-7 to 0 in version 0.23, and it will be removed in 0.25. Use the min_impurity_decrease parameter instead.\n",
      "  FutureWarning)\n",
      "D:\\Users\\kpannegatla\\AppData\\Local\\Continuum\\anaconda3\\envs\\tf\\lib\\site-packages\\sklearn\\tree\\_classes.py:301: FutureWarning: The min_impurity_split parameter is deprecated. Its default value will change from 1e-7 to 0 in version 0.23, and it will be removed in 0.25. Use the min_impurity_decrease parameter instead.\n",
      "  FutureWarning)\n",
      "D:\\Users\\kpannegatla\\AppData\\Local\\Continuum\\anaconda3\\envs\\tf\\lib\\site-packages\\sklearn\\tree\\_classes.py:301: FutureWarning: The min_impurity_split parameter is deprecated. Its default value will change from 1e-7 to 0 in version 0.23, and it will be removed in 0.25. Use the min_impurity_decrease parameter instead.\n",
      "  FutureWarning)\n",
      "D:\\Users\\kpannegatla\\AppData\\Local\\Continuum\\anaconda3\\envs\\tf\\lib\\site-packages\\sklearn\\tree\\_classes.py:301: FutureWarning: The min_impurity_split parameter is deprecated. Its default value will change from 1e-7 to 0 in version 0.23, and it will be removed in 0.25. Use the min_impurity_decrease parameter instead.\n",
      "  FutureWarning)\n",
      "D:\\Users\\kpannegatla\\AppData\\Local\\Continuum\\anaconda3\\envs\\tf\\lib\\site-packages\\sklearn\\tree\\_classes.py:301: FutureWarning: The min_impurity_split parameter is deprecated. Its default value will change from 1e-7 to 0 in version 0.23, and it will be removed in 0.25. Use the min_impurity_decrease parameter instead.\n",
      "  FutureWarning)\n",
      "D:\\Users\\kpannegatla\\AppData\\Local\\Continuum\\anaconda3\\envs\\tf\\lib\\site-packages\\sklearn\\tree\\_classes.py:301: FutureWarning: The min_impurity_split parameter is deprecated. Its default value will change from 1e-7 to 0 in version 0.23, and it will be removed in 0.25. Use the min_impurity_decrease parameter instead.\n",
      "  FutureWarning)\n",
      "D:\\Users\\kpannegatla\\AppData\\Local\\Continuum\\anaconda3\\envs\\tf\\lib\\site-packages\\sklearn\\tree\\_classes.py:301: FutureWarning: The min_impurity_split parameter is deprecated. Its default value will change from 1e-7 to 0 in version 0.23, and it will be removed in 0.25. Use the min_impurity_decrease parameter instead.\n",
      "  FutureWarning)\n",
      "D:\\Users\\kpannegatla\\AppData\\Local\\Continuum\\anaconda3\\envs\\tf\\lib\\site-packages\\sklearn\\tree\\_classes.py:301: FutureWarning: The min_impurity_split parameter is deprecated. Its default value will change from 1e-7 to 0 in version 0.23, and it will be removed in 0.25. Use the min_impurity_decrease parameter instead.\n",
      "  FutureWarning)\n"
     ]
    },
    {
     "name": "stderr",
     "output_type": "stream",
     "text": [
      "D:\\Users\\kpannegatla\\AppData\\Local\\Continuum\\anaconda3\\envs\\tf\\lib\\site-packages\\sklearn\\tree\\_classes.py:301: FutureWarning: The min_impurity_split parameter is deprecated. Its default value will change from 1e-7 to 0 in version 0.23, and it will be removed in 0.25. Use the min_impurity_decrease parameter instead.\n",
      "  FutureWarning)\n",
      "D:\\Users\\kpannegatla\\AppData\\Local\\Continuum\\anaconda3\\envs\\tf\\lib\\site-packages\\sklearn\\tree\\_classes.py:301: FutureWarning: The min_impurity_split parameter is deprecated. Its default value will change from 1e-7 to 0 in version 0.23, and it will be removed in 0.25. Use the min_impurity_decrease parameter instead.\n",
      "  FutureWarning)\n",
      "D:\\Users\\kpannegatla\\AppData\\Local\\Continuum\\anaconda3\\envs\\tf\\lib\\site-packages\\sklearn\\tree\\_classes.py:301: FutureWarning: The min_impurity_split parameter is deprecated. Its default value will change from 1e-7 to 0 in version 0.23, and it will be removed in 0.25. Use the min_impurity_decrease parameter instead.\n",
      "  FutureWarning)\n",
      "D:\\Users\\kpannegatla\\AppData\\Local\\Continuum\\anaconda3\\envs\\tf\\lib\\site-packages\\sklearn\\tree\\_classes.py:301: FutureWarning: The min_impurity_split parameter is deprecated. Its default value will change from 1e-7 to 0 in version 0.23, and it will be removed in 0.25. Use the min_impurity_decrease parameter instead.\n",
      "  FutureWarning)\n",
      "D:\\Users\\kpannegatla\\AppData\\Local\\Continuum\\anaconda3\\envs\\tf\\lib\\site-packages\\sklearn\\tree\\_classes.py:301: FutureWarning: The min_impurity_split parameter is deprecated. Its default value will change from 1e-7 to 0 in version 0.23, and it will be removed in 0.25. Use the min_impurity_decrease parameter instead.\n",
      "  FutureWarning)\n",
      "D:\\Users\\kpannegatla\\AppData\\Local\\Continuum\\anaconda3\\envs\\tf\\lib\\site-packages\\sklearn\\tree\\_classes.py:301: FutureWarning: The min_impurity_split parameter is deprecated. Its default value will change from 1e-7 to 0 in version 0.23, and it will be removed in 0.25. Use the min_impurity_decrease parameter instead.\n",
      "  FutureWarning)\n",
      "D:\\Users\\kpannegatla\\AppData\\Local\\Continuum\\anaconda3\\envs\\tf\\lib\\site-packages\\sklearn\\tree\\_classes.py:301: FutureWarning: The min_impurity_split parameter is deprecated. Its default value will change from 1e-7 to 0 in version 0.23, and it will be removed in 0.25. Use the min_impurity_decrease parameter instead.\n",
      "  FutureWarning)\n",
      "D:\\Users\\kpannegatla\\AppData\\Local\\Continuum\\anaconda3\\envs\\tf\\lib\\site-packages\\sklearn\\tree\\_classes.py:301: FutureWarning: The min_impurity_split parameter is deprecated. Its default value will change from 1e-7 to 0 in version 0.23, and it will be removed in 0.25. Use the min_impurity_decrease parameter instead.\n",
      "  FutureWarning)\n",
      "D:\\Users\\kpannegatla\\AppData\\Local\\Continuum\\anaconda3\\envs\\tf\\lib\\site-packages\\sklearn\\tree\\_classes.py:301: FutureWarning: The min_impurity_split parameter is deprecated. Its default value will change from 1e-7 to 0 in version 0.23, and it will be removed in 0.25. Use the min_impurity_decrease parameter instead.\n",
      "  FutureWarning)\n",
      "D:\\Users\\kpannegatla\\AppData\\Local\\Continuum\\anaconda3\\envs\\tf\\lib\\site-packages\\sklearn\\tree\\_classes.py:301: FutureWarning: The min_impurity_split parameter is deprecated. Its default value will change from 1e-7 to 0 in version 0.23, and it will be removed in 0.25. Use the min_impurity_decrease parameter instead.\n",
      "  FutureWarning)\n",
      "D:\\Users\\kpannegatla\\AppData\\Local\\Continuum\\anaconda3\\envs\\tf\\lib\\site-packages\\sklearn\\tree\\_classes.py:301: FutureWarning: The min_impurity_split parameter is deprecated. Its default value will change from 1e-7 to 0 in version 0.23, and it will be removed in 0.25. Use the min_impurity_decrease parameter instead.\n",
      "  FutureWarning)\n",
      "D:\\Users\\kpannegatla\\AppData\\Local\\Continuum\\anaconda3\\envs\\tf\\lib\\site-packages\\sklearn\\tree\\_classes.py:301: FutureWarning: The min_impurity_split parameter is deprecated. Its default value will change from 1e-7 to 0 in version 0.23, and it will be removed in 0.25. Use the min_impurity_decrease parameter instead.\n",
      "  FutureWarning)\n",
      "D:\\Users\\kpannegatla\\AppData\\Local\\Continuum\\anaconda3\\envs\\tf\\lib\\site-packages\\sklearn\\tree\\_classes.py:301: FutureWarning: The min_impurity_split parameter is deprecated. Its default value will change from 1e-7 to 0 in version 0.23, and it will be removed in 0.25. Use the min_impurity_decrease parameter instead.\n",
      "  FutureWarning)\n",
      "D:\\Users\\kpannegatla\\AppData\\Local\\Continuum\\anaconda3\\envs\\tf\\lib\\site-packages\\sklearn\\tree\\_classes.py:301: FutureWarning: The min_impurity_split parameter is deprecated. Its default value will change from 1e-7 to 0 in version 0.23, and it will be removed in 0.25. Use the min_impurity_decrease parameter instead.\n",
      "  FutureWarning)\n",
      "D:\\Users\\kpannegatla\\AppData\\Local\\Continuum\\anaconda3\\envs\\tf\\lib\\site-packages\\sklearn\\tree\\_classes.py:301: FutureWarning: The min_impurity_split parameter is deprecated. Its default value will change from 1e-7 to 0 in version 0.23, and it will be removed in 0.25. Use the min_impurity_decrease parameter instead.\n",
      "  FutureWarning)\n",
      "D:\\Users\\kpannegatla\\AppData\\Local\\Continuum\\anaconda3\\envs\\tf\\lib\\site-packages\\sklearn\\tree\\_classes.py:301: FutureWarning: The min_impurity_split parameter is deprecated. Its default value will change from 1e-7 to 0 in version 0.23, and it will be removed in 0.25. Use the min_impurity_decrease parameter instead.\n",
      "  FutureWarning)\n",
      "D:\\Users\\kpannegatla\\AppData\\Local\\Continuum\\anaconda3\\envs\\tf\\lib\\site-packages\\sklearn\\tree\\_classes.py:301: FutureWarning: The min_impurity_split parameter is deprecated. Its default value will change from 1e-7 to 0 in version 0.23, and it will be removed in 0.25. Use the min_impurity_decrease parameter instead.\n",
      "  FutureWarning)\n",
      "D:\\Users\\kpannegatla\\AppData\\Local\\Continuum\\anaconda3\\envs\\tf\\lib\\site-packages\\sklearn\\tree\\_classes.py:301: FutureWarning: The min_impurity_split parameter is deprecated. Its default value will change from 1e-7 to 0 in version 0.23, and it will be removed in 0.25. Use the min_impurity_decrease parameter instead.\n",
      "  FutureWarning)\n",
      "D:\\Users\\kpannegatla\\AppData\\Local\\Continuum\\anaconda3\\envs\\tf\\lib\\site-packages\\sklearn\\tree\\_classes.py:301: FutureWarning: The min_impurity_split parameter is deprecated. Its default value will change from 1e-7 to 0 in version 0.23, and it will be removed in 0.25. Use the min_impurity_decrease parameter instead.\n",
      "  FutureWarning)\n",
      "D:\\Users\\kpannegatla\\AppData\\Local\\Continuum\\anaconda3\\envs\\tf\\lib\\site-packages\\sklearn\\tree\\_classes.py:301: FutureWarning: The min_impurity_split parameter is deprecated. Its default value will change from 1e-7 to 0 in version 0.23, and it will be removed in 0.25. Use the min_impurity_decrease parameter instead.\n",
      "  FutureWarning)\n",
      "D:\\Users\\kpannegatla\\AppData\\Local\\Continuum\\anaconda3\\envs\\tf\\lib\\site-packages\\sklearn\\tree\\_classes.py:301: FutureWarning: The min_impurity_split parameter is deprecated. Its default value will change from 1e-7 to 0 in version 0.23, and it will be removed in 0.25. Use the min_impurity_decrease parameter instead.\n",
      "  FutureWarning)\n",
      "D:\\Users\\kpannegatla\\AppData\\Local\\Continuum\\anaconda3\\envs\\tf\\lib\\site-packages\\sklearn\\tree\\_classes.py:301: FutureWarning: The min_impurity_split parameter is deprecated. Its default value will change from 1e-7 to 0 in version 0.23, and it will be removed in 0.25. Use the min_impurity_decrease parameter instead.\n",
      "  FutureWarning)\n",
      "D:\\Users\\kpannegatla\\AppData\\Local\\Continuum\\anaconda3\\envs\\tf\\lib\\site-packages\\sklearn\\tree\\_classes.py:301: FutureWarning: The min_impurity_split parameter is deprecated. Its default value will change from 1e-7 to 0 in version 0.23, and it will be removed in 0.25. Use the min_impurity_decrease parameter instead.\n",
      "  FutureWarning)\n",
      "D:\\Users\\kpannegatla\\AppData\\Local\\Continuum\\anaconda3\\envs\\tf\\lib\\site-packages\\sklearn\\tree\\_classes.py:301: FutureWarning: The min_impurity_split parameter is deprecated. Its default value will change from 1e-7 to 0 in version 0.23, and it will be removed in 0.25. Use the min_impurity_decrease parameter instead.\n",
      "  FutureWarning)\n",
      "D:\\Users\\kpannegatla\\AppData\\Local\\Continuum\\anaconda3\\envs\\tf\\lib\\site-packages\\sklearn\\tree\\_classes.py:301: FutureWarning: The min_impurity_split parameter is deprecated. Its default value will change from 1e-7 to 0 in version 0.23, and it will be removed in 0.25. Use the min_impurity_decrease parameter instead.\n",
      "  FutureWarning)\n",
      "D:\\Users\\kpannegatla\\AppData\\Local\\Continuum\\anaconda3\\envs\\tf\\lib\\site-packages\\sklearn\\tree\\_classes.py:301: FutureWarning: The min_impurity_split parameter is deprecated. Its default value will change from 1e-7 to 0 in version 0.23, and it will be removed in 0.25. Use the min_impurity_decrease parameter instead.\n",
      "  FutureWarning)\n",
      "D:\\Users\\kpannegatla\\AppData\\Local\\Continuum\\anaconda3\\envs\\tf\\lib\\site-packages\\sklearn\\tree\\_classes.py:301: FutureWarning: The min_impurity_split parameter is deprecated. Its default value will change from 1e-7 to 0 in version 0.23, and it will be removed in 0.25. Use the min_impurity_decrease parameter instead.\n",
      "  FutureWarning)\n",
      "D:\\Users\\kpannegatla\\AppData\\Local\\Continuum\\anaconda3\\envs\\tf\\lib\\site-packages\\sklearn\\tree\\_classes.py:301: FutureWarning: The min_impurity_split parameter is deprecated. Its default value will change from 1e-7 to 0 in version 0.23, and it will be removed in 0.25. Use the min_impurity_decrease parameter instead.\n",
      "  FutureWarning)\n",
      "D:\\Users\\kpannegatla\\AppData\\Local\\Continuum\\anaconda3\\envs\\tf\\lib\\site-packages\\sklearn\\tree\\_classes.py:301: FutureWarning: The min_impurity_split parameter is deprecated. Its default value will change from 1e-7 to 0 in version 0.23, and it will be removed in 0.25. Use the min_impurity_decrease parameter instead.\n",
      "  FutureWarning)\n",
      "D:\\Users\\kpannegatla\\AppData\\Local\\Continuum\\anaconda3\\envs\\tf\\lib\\site-packages\\sklearn\\tree\\_classes.py:301: FutureWarning: The min_impurity_split parameter is deprecated. Its default value will change from 1e-7 to 0 in version 0.23, and it will be removed in 0.25. Use the min_impurity_decrease parameter instead.\n",
      "  FutureWarning)\n",
      "D:\\Users\\kpannegatla\\AppData\\Local\\Continuum\\anaconda3\\envs\\tf\\lib\\site-packages\\sklearn\\tree\\_classes.py:301: FutureWarning: The min_impurity_split parameter is deprecated. Its default value will change from 1e-7 to 0 in version 0.23, and it will be removed in 0.25. Use the min_impurity_decrease parameter instead.\n",
      "  FutureWarning)\n",
      "D:\\Users\\kpannegatla\\AppData\\Local\\Continuum\\anaconda3\\envs\\tf\\lib\\site-packages\\sklearn\\tree\\_classes.py:301: FutureWarning: The min_impurity_split parameter is deprecated. Its default value will change from 1e-7 to 0 in version 0.23, and it will be removed in 0.25. Use the min_impurity_decrease parameter instead.\n",
      "  FutureWarning)\n",
      "D:\\Users\\kpannegatla\\AppData\\Local\\Continuum\\anaconda3\\envs\\tf\\lib\\site-packages\\sklearn\\tree\\_classes.py:301: FutureWarning: The min_impurity_split parameter is deprecated. Its default value will change from 1e-7 to 0 in version 0.23, and it will be removed in 0.25. Use the min_impurity_decrease parameter instead.\n",
      "  FutureWarning)\n",
      "D:\\Users\\kpannegatla\\AppData\\Local\\Continuum\\anaconda3\\envs\\tf\\lib\\site-packages\\sklearn\\tree\\_classes.py:301: FutureWarning: The min_impurity_split parameter is deprecated. Its default value will change from 1e-7 to 0 in version 0.23, and it will be removed in 0.25. Use the min_impurity_decrease parameter instead.\n",
      "  FutureWarning)\n"
     ]
    },
    {
     "name": "stderr",
     "output_type": "stream",
     "text": [
      "D:\\Users\\kpannegatla\\AppData\\Local\\Continuum\\anaconda3\\envs\\tf\\lib\\site-packages\\sklearn\\tree\\_classes.py:301: FutureWarning: The min_impurity_split parameter is deprecated. Its default value will change from 1e-7 to 0 in version 0.23, and it will be removed in 0.25. Use the min_impurity_decrease parameter instead.\n",
      "  FutureWarning)\n",
      "D:\\Users\\kpannegatla\\AppData\\Local\\Continuum\\anaconda3\\envs\\tf\\lib\\site-packages\\sklearn\\tree\\_classes.py:301: FutureWarning: The min_impurity_split parameter is deprecated. Its default value will change from 1e-7 to 0 in version 0.23, and it will be removed in 0.25. Use the min_impurity_decrease parameter instead.\n",
      "  FutureWarning)\n",
      "D:\\Users\\kpannegatla\\AppData\\Local\\Continuum\\anaconda3\\envs\\tf\\lib\\site-packages\\sklearn\\tree\\_classes.py:301: FutureWarning: The min_impurity_split parameter is deprecated. Its default value will change from 1e-7 to 0 in version 0.23, and it will be removed in 0.25. Use the min_impurity_decrease parameter instead.\n",
      "  FutureWarning)\n",
      "D:\\Users\\kpannegatla\\AppData\\Local\\Continuum\\anaconda3\\envs\\tf\\lib\\site-packages\\sklearn\\tree\\_classes.py:301: FutureWarning: The min_impurity_split parameter is deprecated. Its default value will change from 1e-7 to 0 in version 0.23, and it will be removed in 0.25. Use the min_impurity_decrease parameter instead.\n",
      "  FutureWarning)\n",
      "D:\\Users\\kpannegatla\\AppData\\Local\\Continuum\\anaconda3\\envs\\tf\\lib\\site-packages\\sklearn\\tree\\_classes.py:301: FutureWarning: The min_impurity_split parameter is deprecated. Its default value will change from 1e-7 to 0 in version 0.23, and it will be removed in 0.25. Use the min_impurity_decrease parameter instead.\n",
      "  FutureWarning)\n",
      "D:\\Users\\kpannegatla\\AppData\\Local\\Continuum\\anaconda3\\envs\\tf\\lib\\site-packages\\sklearn\\tree\\_classes.py:301: FutureWarning: The min_impurity_split parameter is deprecated. Its default value will change from 1e-7 to 0 in version 0.23, and it will be removed in 0.25. Use the min_impurity_decrease parameter instead.\n",
      "  FutureWarning)\n",
      "D:\\Users\\kpannegatla\\AppData\\Local\\Continuum\\anaconda3\\envs\\tf\\lib\\site-packages\\sklearn\\tree\\_classes.py:301: FutureWarning: The min_impurity_split parameter is deprecated. Its default value will change from 1e-7 to 0 in version 0.23, and it will be removed in 0.25. Use the min_impurity_decrease parameter instead.\n",
      "  FutureWarning)\n",
      "D:\\Users\\kpannegatla\\AppData\\Local\\Continuum\\anaconda3\\envs\\tf\\lib\\site-packages\\sklearn\\tree\\_classes.py:301: FutureWarning: The min_impurity_split parameter is deprecated. Its default value will change from 1e-7 to 0 in version 0.23, and it will be removed in 0.25. Use the min_impurity_decrease parameter instead.\n",
      "  FutureWarning)\n",
      "D:\\Users\\kpannegatla\\AppData\\Local\\Continuum\\anaconda3\\envs\\tf\\lib\\site-packages\\sklearn\\tree\\_classes.py:301: FutureWarning: The min_impurity_split parameter is deprecated. Its default value will change from 1e-7 to 0 in version 0.23, and it will be removed in 0.25. Use the min_impurity_decrease parameter instead.\n",
      "  FutureWarning)\n",
      "D:\\Users\\kpannegatla\\AppData\\Local\\Continuum\\anaconda3\\envs\\tf\\lib\\site-packages\\sklearn\\tree\\_classes.py:301: FutureWarning: The min_impurity_split parameter is deprecated. Its default value will change from 1e-7 to 0 in version 0.23, and it will be removed in 0.25. Use the min_impurity_decrease parameter instead.\n",
      "  FutureWarning)\n",
      "D:\\Users\\kpannegatla\\AppData\\Local\\Continuum\\anaconda3\\envs\\tf\\lib\\site-packages\\sklearn\\tree\\_classes.py:301: FutureWarning: The min_impurity_split parameter is deprecated. Its default value will change from 1e-7 to 0 in version 0.23, and it will be removed in 0.25. Use the min_impurity_decrease parameter instead.\n",
      "  FutureWarning)\n",
      "D:\\Users\\kpannegatla\\AppData\\Local\\Continuum\\anaconda3\\envs\\tf\\lib\\site-packages\\sklearn\\tree\\_classes.py:301: FutureWarning: The min_impurity_split parameter is deprecated. Its default value will change from 1e-7 to 0 in version 0.23, and it will be removed in 0.25. Use the min_impurity_decrease parameter instead.\n",
      "  FutureWarning)\n",
      "D:\\Users\\kpannegatla\\AppData\\Local\\Continuum\\anaconda3\\envs\\tf\\lib\\site-packages\\sklearn\\tree\\_classes.py:301: FutureWarning: The min_impurity_split parameter is deprecated. Its default value will change from 1e-7 to 0 in version 0.23, and it will be removed in 0.25. Use the min_impurity_decrease parameter instead.\n",
      "  FutureWarning)\n",
      "D:\\Users\\kpannegatla\\AppData\\Local\\Continuum\\anaconda3\\envs\\tf\\lib\\site-packages\\sklearn\\tree\\_classes.py:301: FutureWarning: The min_impurity_split parameter is deprecated. Its default value will change from 1e-7 to 0 in version 0.23, and it will be removed in 0.25. Use the min_impurity_decrease parameter instead.\n",
      "  FutureWarning)\n",
      "D:\\Users\\kpannegatla\\AppData\\Local\\Continuum\\anaconda3\\envs\\tf\\lib\\site-packages\\sklearn\\tree\\_classes.py:301: FutureWarning: The min_impurity_split parameter is deprecated. Its default value will change from 1e-7 to 0 in version 0.23, and it will be removed in 0.25. Use the min_impurity_decrease parameter instead.\n",
      "  FutureWarning)\n",
      "D:\\Users\\kpannegatla\\AppData\\Local\\Continuum\\anaconda3\\envs\\tf\\lib\\site-packages\\sklearn\\tree\\_classes.py:301: FutureWarning: The min_impurity_split parameter is deprecated. Its default value will change from 1e-7 to 0 in version 0.23, and it will be removed in 0.25. Use the min_impurity_decrease parameter instead.\n",
      "  FutureWarning)\n",
      "D:\\Users\\kpannegatla\\AppData\\Local\\Continuum\\anaconda3\\envs\\tf\\lib\\site-packages\\sklearn\\tree\\_classes.py:301: FutureWarning: The min_impurity_split parameter is deprecated. Its default value will change from 1e-7 to 0 in version 0.23, and it will be removed in 0.25. Use the min_impurity_decrease parameter instead.\n",
      "  FutureWarning)\n",
      "D:\\Users\\kpannegatla\\AppData\\Local\\Continuum\\anaconda3\\envs\\tf\\lib\\site-packages\\sklearn\\tree\\_classes.py:301: FutureWarning: The min_impurity_split parameter is deprecated. Its default value will change from 1e-7 to 0 in version 0.23, and it will be removed in 0.25. Use the min_impurity_decrease parameter instead.\n",
      "  FutureWarning)\n",
      "D:\\Users\\kpannegatla\\AppData\\Local\\Continuum\\anaconda3\\envs\\tf\\lib\\site-packages\\sklearn\\tree\\_classes.py:301: FutureWarning: The min_impurity_split parameter is deprecated. Its default value will change from 1e-7 to 0 in version 0.23, and it will be removed in 0.25. Use the min_impurity_decrease parameter instead.\n",
      "  FutureWarning)\n",
      "D:\\Users\\kpannegatla\\AppData\\Local\\Continuum\\anaconda3\\envs\\tf\\lib\\site-packages\\sklearn\\tree\\_classes.py:301: FutureWarning: The min_impurity_split parameter is deprecated. Its default value will change from 1e-7 to 0 in version 0.23, and it will be removed in 0.25. Use the min_impurity_decrease parameter instead.\n",
      "  FutureWarning)\n",
      "D:\\Users\\kpannegatla\\AppData\\Local\\Continuum\\anaconda3\\envs\\tf\\lib\\site-packages\\sklearn\\tree\\_classes.py:301: FutureWarning: The min_impurity_split parameter is deprecated. Its default value will change from 1e-7 to 0 in version 0.23, and it will be removed in 0.25. Use the min_impurity_decrease parameter instead.\n",
      "  FutureWarning)\n",
      "D:\\Users\\kpannegatla\\AppData\\Local\\Continuum\\anaconda3\\envs\\tf\\lib\\site-packages\\sklearn\\tree\\_classes.py:301: FutureWarning: The min_impurity_split parameter is deprecated. Its default value will change from 1e-7 to 0 in version 0.23, and it will be removed in 0.25. Use the min_impurity_decrease parameter instead.\n",
      "  FutureWarning)\n",
      "D:\\Users\\kpannegatla\\AppData\\Local\\Continuum\\anaconda3\\envs\\tf\\lib\\site-packages\\sklearn\\tree\\_classes.py:301: FutureWarning: The min_impurity_split parameter is deprecated. Its default value will change from 1e-7 to 0 in version 0.23, and it will be removed in 0.25. Use the min_impurity_decrease parameter instead.\n",
      "  FutureWarning)\n",
      "D:\\Users\\kpannegatla\\AppData\\Local\\Continuum\\anaconda3\\envs\\tf\\lib\\site-packages\\sklearn\\tree\\_classes.py:301: FutureWarning: The min_impurity_split parameter is deprecated. Its default value will change from 1e-7 to 0 in version 0.23, and it will be removed in 0.25. Use the min_impurity_decrease parameter instead.\n",
      "  FutureWarning)\n",
      "D:\\Users\\kpannegatla\\AppData\\Local\\Continuum\\anaconda3\\envs\\tf\\lib\\site-packages\\sklearn\\tree\\_classes.py:301: FutureWarning: The min_impurity_split parameter is deprecated. Its default value will change from 1e-7 to 0 in version 0.23, and it will be removed in 0.25. Use the min_impurity_decrease parameter instead.\n",
      "  FutureWarning)\n",
      "D:\\Users\\kpannegatla\\AppData\\Local\\Continuum\\anaconda3\\envs\\tf\\lib\\site-packages\\sklearn\\tree\\_classes.py:301: FutureWarning: The min_impurity_split parameter is deprecated. Its default value will change from 1e-7 to 0 in version 0.23, and it will be removed in 0.25. Use the min_impurity_decrease parameter instead.\n",
      "  FutureWarning)\n",
      "D:\\Users\\kpannegatla\\AppData\\Local\\Continuum\\anaconda3\\envs\\tf\\lib\\site-packages\\sklearn\\tree\\_classes.py:301: FutureWarning: The min_impurity_split parameter is deprecated. Its default value will change from 1e-7 to 0 in version 0.23, and it will be removed in 0.25. Use the min_impurity_decrease parameter instead.\n",
      "  FutureWarning)\n",
      "D:\\Users\\kpannegatla\\AppData\\Local\\Continuum\\anaconda3\\envs\\tf\\lib\\site-packages\\sklearn\\tree\\_classes.py:301: FutureWarning: The min_impurity_split parameter is deprecated. Its default value will change from 1e-7 to 0 in version 0.23, and it will be removed in 0.25. Use the min_impurity_decrease parameter instead.\n",
      "  FutureWarning)\n",
      "D:\\Users\\kpannegatla\\AppData\\Local\\Continuum\\anaconda3\\envs\\tf\\lib\\site-packages\\sklearn\\tree\\_classes.py:301: FutureWarning: The min_impurity_split parameter is deprecated. Its default value will change from 1e-7 to 0 in version 0.23, and it will be removed in 0.25. Use the min_impurity_decrease parameter instead.\n",
      "  FutureWarning)\n",
      "D:\\Users\\kpannegatla\\AppData\\Local\\Continuum\\anaconda3\\envs\\tf\\lib\\site-packages\\sklearn\\tree\\_classes.py:301: FutureWarning: The min_impurity_split parameter is deprecated. Its default value will change from 1e-7 to 0 in version 0.23, and it will be removed in 0.25. Use the min_impurity_decrease parameter instead.\n",
      "  FutureWarning)\n",
      "D:\\Users\\kpannegatla\\AppData\\Local\\Continuum\\anaconda3\\envs\\tf\\lib\\site-packages\\sklearn\\tree\\_classes.py:301: FutureWarning: The min_impurity_split parameter is deprecated. Its default value will change from 1e-7 to 0 in version 0.23, and it will be removed in 0.25. Use the min_impurity_decrease parameter instead.\n",
      "  FutureWarning)\n",
      "D:\\Users\\kpannegatla\\AppData\\Local\\Continuum\\anaconda3\\envs\\tf\\lib\\site-packages\\sklearn\\tree\\_classes.py:301: FutureWarning: The min_impurity_split parameter is deprecated. Its default value will change from 1e-7 to 0 in version 0.23, and it will be removed in 0.25. Use the min_impurity_decrease parameter instead.\n",
      "  FutureWarning)\n",
      "D:\\Users\\kpannegatla\\AppData\\Local\\Continuum\\anaconda3\\envs\\tf\\lib\\site-packages\\sklearn\\tree\\_classes.py:301: FutureWarning: The min_impurity_split parameter is deprecated. Its default value will change from 1e-7 to 0 in version 0.23, and it will be removed in 0.25. Use the min_impurity_decrease parameter instead.\n",
      "  FutureWarning)\n",
      "D:\\Users\\kpannegatla\\AppData\\Local\\Continuum\\anaconda3\\envs\\tf\\lib\\site-packages\\sklearn\\tree\\_classes.py:301: FutureWarning: The min_impurity_split parameter is deprecated. Its default value will change from 1e-7 to 0 in version 0.23, and it will be removed in 0.25. Use the min_impurity_decrease parameter instead.\n",
      "  FutureWarning)\n",
      "D:\\Users\\kpannegatla\\AppData\\Local\\Continuum\\anaconda3\\envs\\tf\\lib\\site-packages\\sklearn\\tree\\_classes.py:301: FutureWarning: The min_impurity_split parameter is deprecated. Its default value will change from 1e-7 to 0 in version 0.23, and it will be removed in 0.25. Use the min_impurity_decrease parameter instead.\n",
      "  FutureWarning)\n"
     ]
    },
    {
     "name": "stderr",
     "output_type": "stream",
     "text": [
      "D:\\Users\\kpannegatla\\AppData\\Local\\Continuum\\anaconda3\\envs\\tf\\lib\\site-packages\\sklearn\\tree\\_classes.py:301: FutureWarning: The min_impurity_split parameter is deprecated. Its default value will change from 1e-7 to 0 in version 0.23, and it will be removed in 0.25. Use the min_impurity_decrease parameter instead.\n",
      "  FutureWarning)\n",
      "D:\\Users\\kpannegatla\\AppData\\Local\\Continuum\\anaconda3\\envs\\tf\\lib\\site-packages\\sklearn\\tree\\_classes.py:301: FutureWarning: The min_impurity_split parameter is deprecated. Its default value will change from 1e-7 to 0 in version 0.23, and it will be removed in 0.25. Use the min_impurity_decrease parameter instead.\n",
      "  FutureWarning)\n",
      "D:\\Users\\kpannegatla\\AppData\\Local\\Continuum\\anaconda3\\envs\\tf\\lib\\site-packages\\sklearn\\tree\\_classes.py:301: FutureWarning: The min_impurity_split parameter is deprecated. Its default value will change from 1e-7 to 0 in version 0.23, and it will be removed in 0.25. Use the min_impurity_decrease parameter instead.\n",
      "  FutureWarning)\n"
     ]
    },
    {
     "data": {
      "text/plain": [
       "RandomForestClassifier(bootstrap=True, ccp_alpha=0.0, class_weight=None,\n",
       "                       criterion='gini', max_depth=15, max_features='auto',\n",
       "                       max_leaf_nodes=2500, max_samples=None,\n",
       "                       min_impurity_decrease=0.0, min_impurity_split=0.3,\n",
       "                       min_samples_leaf=1, min_samples_split=10,\n",
       "                       min_weight_fraction_leaf=0.0, n_estimators=201,\n",
       "                       n_jobs=None, oob_score=False, random_state=None,\n",
       "                       verbose=0, warm_start=False)"
      ]
     },
     "execution_count": 74,
     "metadata": {},
     "output_type": "execute_result"
    }
   ],
   "source": [
    "from sklearn.ensemble import RandomForestClassifier\n",
    "rf=RandomForestClassifier(min_samples_split=10,min_impurity_split=.3,n_estimators=201,max_leaf_nodes=2500,\n",
    "                          max_depth=15)\n",
    "rf.fit(x_train,y_train)"
   ]
  },
  {
   "cell_type": "code",
   "execution_count": 75,
   "metadata": {},
   "outputs": [
    {
     "name": "stdout",
     "output_type": "stream",
     "text": [
      "Train Accuracy: 0.8475150602409639\n",
      "Test Accuracy: 0.7593984962406015\n"
     ]
    }
   ],
   "source": [
    "print(\"Train Accuracy:\",rf.score(x_train,y_train))\n",
    "print(\"Test Accuracy:\",rf.score(x_test,y_test))"
   ]
  },
  {
   "cell_type": "code",
   "execution_count": 73,
   "metadata": {},
   "outputs": [],
   "source": []
  },
  {
   "cell_type": "code",
   "execution_count": 76,
   "metadata": {},
   "outputs": [
    {
     "name": "stderr",
     "output_type": "stream",
     "text": [
      "D:\\Users\\kpannegatla\\AppData\\Local\\Continuum\\anaconda3\\envs\\tf\\lib\\site-packages\\ipykernel_launcher.py:2: DataConversionWarning: A column-vector y was passed when a 1d array was expected. Please change the shape of y to (n_samples,), for example using ravel().\n",
      "  \n"
     ]
    },
    {
     "name": "stdout",
     "output_type": "stream",
     "text": [
      "Train Accuracy: 1.0\n",
      "Test Accuracy: 0.7518796992481203\n"
     ]
    }
   ],
   "source": [
    "rf=RandomForestClassifier(n_estimators=201)\n",
    "rf.fit(x_train,y_train)\n",
    "\n",
    "print(\"Train Accuracy:\",rf.score(x_train,y_train))\n",
    "print(\"Test Accuracy:\",rf.score(x_test,y_test))"
   ]
  },
  {
   "cell_type": "code",
   "execution_count": 77,
   "metadata": {},
   "outputs": [],
   "source": [
    "import pickle\n",
    "pickle.dump(rf,open('rf_model_89_76.pickle','wb'))"
   ]
  },
  {
   "cell_type": "code",
   "execution_count": null,
   "metadata": {},
   "outputs": [],
   "source": [
    "!pip install xgboost"
   ]
  },
  {
   "cell_type": "code",
   "execution_count": null,
   "metadata": {},
   "outputs": [],
   "source": [
    "from sklearn.metrics import accuracy_score"
   ]
  },
  {
   "cell_type": "code",
   "execution_count": null,
   "metadata": {},
   "outputs": [],
   "source": [
    "from xgboost import XGBClassifier\n",
    "xgb=XGBClassifier(n_estimators=500,learning_rate=0.01,max_depth=3,n_jobs=5,subsample=0.8,colsample_bytree=1,gamma=.5)\n",
    "xgb.fit(x_train,y_train)"
   ]
  },
  {
   "cell_type": "code",
   "execution_count": null,
   "metadata": {},
   "outputs": [],
   "source": [
    "print(\"Train accuracy of xgb:\",accuracy_score(xgb.predict(x_train),y_train))\n",
    "print(\"Test accuracy of xgb:\",accuracy_score(xgb.predict(x_test),y_test))"
   ]
  },
  {
   "cell_type": "code",
   "execution_count": null,
   "metadata": {},
   "outputs": [],
   "source": [
    "import pickle\n",
    "pickle.dump(rf,open('model/rf_text_representation_lstm_50_76_90.pickle','wb'))"
   ]
  },
  {
   "cell_type": "code",
   "execution_count": null,
   "metadata": {},
   "outputs": [],
   "source": [
    "rf"
   ]
  },
  {
   "cell_type": "markdown",
   "metadata": {},
   "source": [
    "## word2vec "
   ]
  },
  {
   "cell_type": "code",
   "execution_count": null,
   "metadata": {},
   "outputs": [],
   "source": [
    "from gensim.models import Word2Vec"
   ]
  },
  {
   "cell_type": "code",
   "execution_count": null,
   "metadata": {},
   "outputs": [],
   "source": []
  },
  {
   "cell_type": "code",
   "execution_count": null,
   "metadata": {},
   "outputs": [],
   "source": [
    "# define training data\n",
    "sentences = [['this', 'is', 'the', 'first', 'sentence', 'for', 'word2vec'],\n",
    "\t\t\t['this', 'is', 'the', 'second', 'sentence'],\n",
    "\t\t\t['yet', 'another', 'sentence'],\n",
    "\t\t\t['one', 'more', 'sentence'],\n",
    "\t\t\t['and', 'the', 'final', 'sentence']]\n",
    "# train model\n",
    "model = Word2Vec(l, min_count=1,size=1)\n",
    "# summarize the loaded model\n",
    "# print(model)\n",
    "# summarize vocabulary\n",
    "words = list(model.wv.vocab)\n",
    "# print(words)\n",
    "# access vector for one word\n",
    "# print(model['sentence'])\n",
    "# save model\n",
    "model.save('model.bin')\n",
    "# load model\n",
    "new_model = Word2Vec.load('model.bin')\n",
    "print(new_model)"
   ]
  },
  {
   "cell_type": "code",
   "execution_count": null,
   "metadata": {},
   "outputs": [],
   "source": [
    "l"
   ]
  },
  {
   "cell_type": "code",
   "execution_count": null,
   "metadata": {},
   "outputs": [],
   "source": [
    "model.wv[l[0]].shape"
   ]
  },
  {
   "cell_type": "markdown",
   "metadata": {},
   "source": [
    "## Word2Vec pretrained model"
   ]
  },
  {
   "cell_type": "code",
   "execution_count": null,
   "metadata": {},
   "outputs": [],
   "source": [
    "from gensim.models import Word2Vec"
   ]
  },
  {
   "cell_type": "code",
   "execution_count": null,
   "metadata": {},
   "outputs": [],
   "source": [
    "from nltk.tokenize import word_tokenize\n",
    "word_tokenize('hi how are you?. I am fine.')"
   ]
  },
  {
   "cell_type": "code",
   "execution_count": null,
   "metadata": {},
   "outputs": [],
   "source": [
    "sentence=[['Neeraj','Boy'],['Sarwan','is'],['good','boy']]\n",
    "model = Word2Vec(sentence, min_count=1,size=300,workers=4)\n",
    "print(model.similarity('good', 'boy'))"
   ]
  },
  {
   "cell_type": "code",
   "execution_count": null,
   "metadata": {},
   "outputs": [],
   "source": [
    "from nltk.tokenize import sent_tokenize,word_tokenize"
   ]
  },
  {
   "cell_type": "code",
   "execution_count": null,
   "metadata": {},
   "outputs": [],
   "source": [
    "s='Hello everyone. Welcome to GeeksforGeeks. You are studying NLP article'"
   ]
  },
  {
   "cell_type": "code",
   "execution_count": null,
   "metadata": {
    "scrolled": true
   },
   "outputs": [],
   "source": [
    "word_tokenize(sent_tokenize(df['TEXT'].astype('str').values[0]))"
   ]
  },
  {
   "cell_type": "code",
   "execution_count": null,
   "metadata": {
    "scrolled": true
   },
   "outputs": [],
   "source": [
    "l=[]\n",
    "for i in range(df.shape[0]):\n",
    "    l.append(word_tokenize(df['TEXT'].astype('str').values[i]))\n",
    "    print(i)"
   ]
  },
  {
   "cell_type": "markdown",
   "metadata": {},
   "source": [
    "## Production"
   ]
  },
  {
   "cell_type": "code",
   "execution_count": 53,
   "metadata": {
    "scrolled": true
   },
   "outputs": [
    {
     "data": {
      "text/plain": [
       "'1.14.0'"
      ]
     },
     "execution_count": 53,
     "metadata": {},
     "output_type": "execute_result"
    }
   ],
   "source": [
    "import tensorflow as tf\n",
    "tf.__version__"
   ]
  },
  {
   "cell_type": "code",
   "execution_count": 61,
   "metadata": {},
   "outputs": [
    {
     "data": {
      "text/plain": [
       "3260"
      ]
     },
     "execution_count": 61,
     "metadata": {},
     "output_type": "execute_result"
    }
   ],
   "source": [
    "a=np.array([0 for i in range(len(df_new.columns[:-50]))])\n",
    "len(a)"
   ]
  },
  {
   "cell_type": "code",
   "execution_count": 62,
   "metadata": {},
   "outputs": [],
   "source": [
    "pd.DataFrame(a.reshape(1,len(a)),columns=df_new.columns[:-50]).to_csv('df_new.csv',index=False)"
   ]
  },
  {
   "cell_type": "code",
   "execution_count": null,
   "metadata": {},
   "outputs": [],
   "source": [
    "df['TEXT'].astype('str')[3]"
   ]
  },
  {
   "cell_type": "code",
   "execution_count": null,
   "metadata": {},
   "outputs": [],
   "source": [
    "X_Text[0].shape"
   ]
  },
  {
   "cell_type": "markdown",
   "metadata": {},
   "source": [
    "## Complete code for production"
   ]
  },
  {
   "cell_type": "code",
   "execution_count": null,
   "metadata": {},
   "outputs": [],
   "source": [
    "df.iloc[0]"
   ]
  },
  {
   "cell_type": "code",
   "execution_count": 63,
   "metadata": {},
   "outputs": [
    {
     "ename": "FileNotFoundError",
     "evalue": "[Errno 2] No such file or directory: 'model/tokenizer.pickle'",
     "output_type": "error",
     "traceback": [
      "\u001b[1;31m---------------------------------------------------------------------------\u001b[0m",
      "\u001b[1;31mFileNotFoundError\u001b[0m                         Traceback (most recent call last)",
      "\u001b[1;32m<ipython-input-63-a4932ebc711b>\u001b[0m in \u001b[0;36m<module>\u001b[1;34m\u001b[0m\n\u001b[0;32m     11\u001b[0m \u001b[1;33m\u001b[0m\u001b[0m\n\u001b[0;32m     12\u001b[0m \u001b[1;31m#loading the tokenizer object from memory\u001b[0m\u001b[1;33m\u001b[0m\u001b[1;33m\u001b[0m\u001b[1;33m\u001b[0m\u001b[0m\n\u001b[1;32m---> 13\u001b[1;33m \u001b[1;32mwith\u001b[0m \u001b[0mopen\u001b[0m\u001b[1;33m(\u001b[0m\u001b[1;34m'model/tokenizer.pickle'\u001b[0m\u001b[1;33m,\u001b[0m \u001b[1;34m'rb'\u001b[0m\u001b[1;33m)\u001b[0m \u001b[1;32mas\u001b[0m \u001b[0mhandle\u001b[0m\u001b[1;33m:\u001b[0m\u001b[1;33m\u001b[0m\u001b[1;33m\u001b[0m\u001b[0m\n\u001b[0m\u001b[0;32m     14\u001b[0m     \u001b[0mtokenizer\u001b[0m \u001b[1;33m=\u001b[0m \u001b[0mpickle\u001b[0m\u001b[1;33m.\u001b[0m\u001b[0mload\u001b[0m\u001b[1;33m(\u001b[0m\u001b[0mhandle\u001b[0m\u001b[1;33m)\u001b[0m\u001b[1;33m\u001b[0m\u001b[1;33m\u001b[0m\u001b[0m\n\u001b[0;32m     15\u001b[0m \u001b[1;31m# Transforming the text using tokenizer object\u001b[0m\u001b[1;33m\u001b[0m\u001b[1;33m\u001b[0m\u001b[1;33m\u001b[0m\u001b[0m\n",
      "\u001b[1;31mFileNotFoundError\u001b[0m: [Errno 2] No such file or directory: 'model/tokenizer.pickle'"
     ]
    }
   ],
   "source": [
    "from tensorflow.python.keras.models import model_from_json\n",
    "from keras import backend as K\n",
    "import pickle\n",
    "from nltk.tokenize import word_tokenize\n",
    "\n",
    "gene=df['Gene'].values\n",
    "variation=df['Variation'].values\n",
    "text=df['TEXT'].astype('str').values\n",
    "#Text must be transformed to dataframe and then need to obtain its value to get in proper shape as that of training data\n",
    "text=pd.Series(text).astype('str').values\n",
    "\n",
    "#loading the tokenizer object from memory\n",
    "with open('tokenizer.pickle', 'rb') as handle:\n",
    "    tokenizer = pickle.load(handle)\n",
    "# Transforming the text using tokenizer object\n",
    "text = tokenizer.texts_to_sequences(text)\n",
    "text = pad_sequences(text, maxlen=MAX_SEQUENCE_LENGTH)\n",
    "text=text.reshape(text.shape[1],)\n",
    "\n",
    "#Loading the LSTM model for obtaining better text representation\n",
    "json_file = open('model_62_80.json', 'r')\n",
    "loaded_model_json = json_file.read()\n",
    "json_file.close()\n",
    "model = model_from_json(loaded_model_json)\n",
    "# load weights into new model\n",
    "model.load_weights(\"model_62_80.h5\")\n",
    "print(\"Loaded model from disk\")\n",
    "model.compile(loss='categorical_crossentropy', optimizer='adam', metrics=['accuracy'])\n",
    "#Trying to get the output of lstm layer\n",
    "inp = model.input                                           # input placeholder\n",
    "outputs = [layer.output for layer in model.layers]          # all layer outputs\n",
    "functor = K.function([inp, K.learning_phase()], outputs )   # evaluation function\n",
    "\n",
    "# Testing\n",
    "df_test=pd.read_csv('model/df_new.csv')\n",
    "input_shape=250\n",
    "# test = np.random.random(input_shape)[np.newaxis,...]\n",
    "test=text[np.newaxis,...]\n",
    "layer_outs = functor([test, 1.])\n",
    "print(layer_outs[4].shape)\n",
    "text=layer_outs[4]\n",
    "text=pd.DataFrame(text,columns=df_test.columns[-50:])\n",
    "\n",
    "#Modifying gene and variation appropriately according to column names in dataframe\n",
    "gene='Gene_'+gene\n",
    "variation='Variation_'+variation\n",
    "df_test[gene]=1\n",
    "df_test[variation]=1\n",
    "x=pd.concat([df_test,text],axis=1)\n",
    "with open('rf_text_representation_lstm_50_76_90.pickle', 'rb') as handle:\n",
    "    rf = pickle.load(handle)\n",
    "\n",
    "# with open('model/rf_model.pkl','rb') as handle:\n",
    "#     rf = pickle.load(handle)\n",
    "\n",
    "res=rf.predict_proba(x)\n",
    "print(res)\n",
    "print(\"Class predicted is:\",np.argmax(res)+1,' with confidence:',np.round(res[0][np.argmax(res)]*100,2),'%')\n",
    "print(\"Actual Class:\",Y[index])"
   ]
  },
  {
   "cell_type": "code",
   "execution_count": null,
   "metadata": {},
   "outputs": [],
   "source": [
    "s=0\n",
    "for "
   ]
  },
  {
   "cell_type": "code",
   "execution_count": null,
   "metadata": {},
   "outputs": [],
   "source": [
    "s"
   ]
  },
  {
   "cell_type": "code",
   "execution_count": null,
   "metadata": {},
   "outputs": [],
   "source": [
    "df.head()"
   ]
  },
  {
   "cell_type": "code",
   "execution_count": null,
   "metadata": {
    "scrolled": true
   },
   "outputs": [],
   "source": []
  },
  {
   "cell_type": "code",
   "execution_count": null,
   "metadata": {},
   "outputs": [],
   "source": [
    "res[1][1]"
   ]
  },
  {
   "cell_type": "code",
   "execution_count": null,
   "metadata": {},
   "outputs": [],
   "source": [
    "df_new.columns.shape"
   ]
  },
  {
   "cell_type": "code",
   "execution_count": null,
   "metadata": {},
   "outputs": [],
   "source": [
    "df_new.columns[:-50]"
   ]
  },
  {
   "cell_type": "code",
   "execution_count": null,
   "metadata": {},
   "outputs": [],
   "source": [
    "np.array(df_new.columns)"
   ]
  },
  {
   "cell_type": "code",
   "execution_count": null,
   "metadata": {
    "scrolled": true
   },
   "outputs": [],
   "source": [
    "df_test=pd.DataFrame(a.reshape(1,len(a)),columns=df_new.columns[:-50])\n",
    "df_test[gene]=1\n",
    "df_test[variation]=1"
   ]
  },
  {
   "cell_type": "code",
   "execution_count": null,
   "metadata": {},
   "outputs": [],
   "source": []
  },
  {
   "cell_type": "code",
   "execution_count": null,
   "metadata": {},
   "outputs": [],
   "source": [
    "with open('model/rf_text_representation_lstm_50_76_90.pickle', 'rb') as handle:\n",
    "    rf = pickle.load(handle)"
   ]
  },
  {
   "cell_type": "code",
   "execution_count": null,
   "metadata": {},
   "outputs": [],
   "source": [
    "rf"
   ]
  },
  {
   "cell_type": "code",
   "execution_count": null,
   "metadata": {},
   "outputs": [],
   "source": []
  },
  {
   "cell_type": "code",
   "execution_count": null,
   "metadata": {},
   "outputs": [],
   "source": [
    "Y"
   ]
  },
  {
   "cell_type": "code",
   "execution_count": null,
   "metadata": {},
   "outputs": [],
   "source": [
    "for col in df_test.columns:\n",
    "    if df_test[col][0]==1:\n",
    "        print(col)"
   ]
  },
  {
   "cell_type": "code",
   "execution_count": null,
   "metadata": {},
   "outputs": [],
   "source": [
    "a=np.array([0 for i in range(len(df_new.columns[:-50]))])"
   ]
  },
  {
   "cell_type": "code",
   "execution_count": null,
   "metadata": {},
   "outputs": [],
   "source": [
    "## Need to create a data frame where only given gene and variation are 1 others are all zeros"
   ]
  }
 ],
 "metadata": {
  "kernelspec": {
   "display_name": "Python 3",
   "language": "python",
   "name": "python3"
  },
  "language_info": {
   "codemirror_mode": {
    "name": "ipython",
    "version": 3
   },
   "file_extension": ".py",
   "mimetype": "text/x-python",
   "name": "python",
   "nbconvert_exporter": "python",
   "pygments_lexer": "ipython3",
   "version": "3.6.8"
  }
 },
 "nbformat": 4,
 "nbformat_minor": 4
}
